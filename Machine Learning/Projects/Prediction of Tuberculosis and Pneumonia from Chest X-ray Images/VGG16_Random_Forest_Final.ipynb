{
  "cells": [
    {
      "cell_type": "code",
      "execution_count": null,
      "metadata": {
        "id": "_TpClt1WG3vW"
      },
      "outputs": [],
      "source": [
        "import matplotlib.pyplot as plt\n",
        "import numpy as np\n",
        "import pandas as pd\n",
        "import seaborn as sns\n",
        "import os\n",
        "from IPython.display import display, HTML\n",
        "\n",
        "import sklearn\n",
        "from sklearn.model_selection import train_test_split\n",
        "from sklearn.ensemble import RandomForestClassifier\n",
        "from sklearn.metrics import confusion_matrix, classification_report, recall_score\n",
        "\n",
        "from scipy.optimize import brute\n",
        "from skopt import forest_minimize, gbrt_minimize, dummy_minimize\n",
        "from skopt import callbacks\n",
        "\n",
        "import tensorflow as tf\n",
        "from tensorflow import keras\n",
        "from tensorflow.keras.preprocessing import image\n",
        "from tensorflow.keras.preprocessing.image import load_img, img_to_array\n",
        "from tensorflow.keras.models import Sequential, Model\n",
        "from tensorflow.keras.layers import Conv2D, MaxPooling2D, Dense, Flatten, Dropout, BatchNormalization\n",
        "from tensorflow.keras.utils import to_categorical\n",
        "from tensorflow.keras import optimizers\n",
        "from tensorflow.keras.applications import VGG16\n",
        "\n",
        "from tensorflow.keras.callbacks import EarlyStopping\n",
        "from tensorflow.keras.metrics import Recall"
      ]
    },
    {
      "cell_type": "code",
      "execution_count": null,
      "metadata": {
        "id": "zndoZmsaG3vc",
        "outputId": "2f02a3cb-498b-4ccb-900e-e796a5f67661"
      },
      "outputs": [
        {
          "name": "stdout",
          "output_type": "stream",
          "text": [
            "1 Physical GPUs, 1 Logical GPUs\n"
          ]
        }
      ],
      "source": [
        "# Code to enable the use of the GPU\n",
        "gpus = tf.config.experimental.list_physical_devices('GPU')\n",
        "if gpus:\n",
        "    try:\n",
        "    # Currently, memory growth needs to be the same across GPUs\n",
        "        for gpu in gpus:\n",
        "            tf.config.experimental.set_memory_growth(gpu, True)\n",
        "        logical_gpus = tf.config.experimental.list_logical_devices('GPU')\n",
        "        print(len(gpus), \"Physical GPUs,\", len(logical_gpus), \"Logical GPUs\")\n",
        "    except RuntimeError as e:\n",
        "    # Memory growth must be set before GPUs have been initialized\n",
        "        print(e)"
      ]
    },
    {
      "cell_type": "code",
      "execution_count": null,
      "metadata": {
        "id": "465PDC7wG3vd",
        "outputId": "68bfb517-fec5-4280-8959-0dabb562782e"
      },
      "outputs": [
        {
          "data": {
            "text/html": [
              "<style>\n",
              ".output {\n",
              "    flex-direction: row;\n",
              "}\n",
              "</style>"
            ],
            "text/plain": [
              "<IPython.core.display.HTML object>"
            ]
          },
          "metadata": {},
          "output_type": "display_data"
        }
      ],
      "source": [
        "# Ccode for print report and matrix side by side\n",
        "CSS = \"\"\"\n",
        ".output {\n",
        "    flex-direction: row;\n",
        "}\n",
        "\"\"\"\n",
        "\n",
        "display(HTML('<style>{}</style>'.format(CSS)))\n",
        "\n",
        "labels = [ \"Normal\", \"Pneumonia\", \"Tuberculosis\" ]\n",
        "\n",
        "dataset = []\n",
        "label = []\n",
        "\n",
        "Size = 224"
      ]
    },
    {
      "cell_type": "code",
      "execution_count": null,
      "metadata": {
        "id": "9FREE1beG3ve"
      },
      "outputs": [],
      "source": [
        "#Read each image from the train and test data and assiging labels \n",
        "\n",
        "image_directory = r'C:\\Users\\rahulmaddula\\Desktop\\Sem 2\\Data Driven Modeling\\Assignments\\Project\\Final\\Images'\n",
        "\n",
        "Normal_images = os.listdir(image_directory + '/Normal/')\n",
        "for i, image_name in enumerate(Normal_images):    #Remember enumerate method adds a counter and returns the enumerate object\n",
        "    \n",
        "    if (image_name.split('.')[1] == 'png' or image_name.split('.')[1] == 'jpeg'):\n",
        "        image = load_img(image_directory + '/Normal/' + image_name, color_mode = 'rgb')\n",
        "        \n",
        "        image = image.resize((Size,Size))\n",
        "        dataset.append((img_to_array(image)))\n",
        "        label.append(0)\n",
        "        \n",
        "Pneumonia_images = os.listdir(image_directory + '/Pneumonia/')\n",
        "for i, image_name in enumerate(Pneumonia_images):    #Remember enumerate method adds a counter and returns the enumerate object\n",
        "    \n",
        "    if (image_name.split('.')[1] == 'png' or image_name.split('.')[1] == 'jpeg'):\n",
        "        image = load_img(image_directory + '/Pneumonia/' + image_name, color_mode ='rgb')\n",
        "        \n",
        "        image = image.resize((Size,Size))\n",
        "        dataset.append((img_to_array(image)))\n",
        "        label.append(1)\n",
        "        \n",
        "Tuberculosis_images = os.listdir(image_directory + '/Tuberculosis/')\n",
        "for i, image_name in enumerate(Tuberculosis_images):    #Remember enumerate method adds a counter and returns the enumerate object\n",
        "\n",
        "    if (image_name.split('.')[1] == 'png' or image_name.split('.')[1] == 'jpeg'):\n",
        "        image = load_img(image_directory + '/Tuberculosis/' + image_name, color_mode ='rgb')\n",
        "        \n",
        "        image = image.resize((Size,Size))\n",
        "        dataset.append((img_to_array(image)))\n",
        "        label.append(2)\n",
        "        "
      ]
    },
    {
      "cell_type": "code",
      "execution_count": null,
      "metadata": {
        "id": "75F4FJ5PG3vg"
      },
      "outputs": [],
      "source": [
        "#Processing the data to as input for the neural network\n",
        "x_data = np.array(dataset)\n",
        "\n",
        "\n",
        "#One hot encode y values for neural network. \n",
        "y_labels = to_categorical(label)\n",
        "\n",
        "# Split the data for train and test\n",
        "x_train, x_test, y_train, y_test = train_test_split(x_data, y_labels, test_size = 0.1, random_state = 60616)"
      ]
    },
    {
      "cell_type": "code",
      "execution_count": null,
      "metadata": {
        "id": "TqK0BhRdG3vh",
        "outputId": "bd6ae9d6-0bf8-4758-85b2-057a89f8d7e3"
      },
      "outputs": [
        {
          "name": "stdout",
          "output_type": "stream",
          "text": [
            "Model: \"vgg16\"\n",
            "_________________________________________________________________\n",
            "Layer (type)                 Output Shape              Param #   \n",
            "=================================================================\n",
            "input_1 (InputLayer)         [(None, 224, 224, 3)]     0         \n",
            "_________________________________________________________________\n",
            "block1_conv1 (Conv2D)        (None, 224, 224, 64)      1792      \n",
            "_________________________________________________________________\n",
            "block1_conv2 (Conv2D)        (None, 224, 224, 64)      36928     \n",
            "_________________________________________________________________\n",
            "block1_pool (MaxPooling2D)   (None, 112, 112, 64)      0         \n",
            "_________________________________________________________________\n",
            "block2_conv1 (Conv2D)        (None, 112, 112, 128)     73856     \n",
            "_________________________________________________________________\n",
            "block2_conv2 (Conv2D)        (None, 112, 112, 128)     147584    \n",
            "_________________________________________________________________\n",
            "block2_pool (MaxPooling2D)   (None, 56, 56, 128)       0         \n",
            "_________________________________________________________________\n",
            "block3_conv1 (Conv2D)        (None, 56, 56, 256)       295168    \n",
            "_________________________________________________________________\n",
            "block3_conv2 (Conv2D)        (None, 56, 56, 256)       590080    \n",
            "_________________________________________________________________\n",
            "block3_conv3 (Conv2D)        (None, 56, 56, 256)       590080    \n",
            "_________________________________________________________________\n",
            "block3_pool (MaxPooling2D)   (None, 28, 28, 256)       0         \n",
            "_________________________________________________________________\n",
            "block4_conv1 (Conv2D)        (None, 28, 28, 512)       1180160   \n",
            "_________________________________________________________________\n",
            "block4_conv2 (Conv2D)        (None, 28, 28, 512)       2359808   \n",
            "_________________________________________________________________\n",
            "block4_conv3 (Conv2D)        (None, 28, 28, 512)       2359808   \n",
            "_________________________________________________________________\n",
            "block4_pool (MaxPooling2D)   (None, 14, 14, 512)       0         \n",
            "_________________________________________________________________\n",
            "block5_conv1 (Conv2D)        (None, 14, 14, 512)       2359808   \n",
            "_________________________________________________________________\n",
            "block5_conv2 (Conv2D)        (None, 14, 14, 512)       2359808   \n",
            "_________________________________________________________________\n",
            "block5_conv3 (Conv2D)        (None, 14, 14, 512)       2359808   \n",
            "_________________________________________________________________\n",
            "block5_pool (MaxPooling2D)   (None, 7, 7, 512)         0         \n",
            "=================================================================\n",
            "Total params: 14,714,688\n",
            "Trainable params: 14,714,688\n",
            "Non-trainable params: 0\n",
            "_________________________________________________________________\n",
            "None\n"
          ]
        }
      ],
      "source": [
        "#Setting the VGG16 model without the fully connected layers\n",
        "\n",
        "base_model = VGG16(include_top = False, weights = 'imagenet', input_shape = (Size, Size, 3))\n",
        "print(base_model.summary())"
      ]
    },
    {
      "cell_type": "code",
      "execution_count": null,
      "metadata": {
        "id": "CxV1_t9fG3vi",
        "outputId": "d9dde9a9-2beb-4775-84ef-998169cb9032"
      },
      "outputs": [
        {
          "name": "stdout",
          "output_type": "stream",
          "text": [
            "Model: \"sequential\"\n",
            "_________________________________________________________________\n",
            "Layer (type)                 Output Shape              Param #   \n",
            "=================================================================\n",
            "vgg16 (Functional)           (None, 7, 7, 512)         14714688  \n",
            "_________________________________________________________________\n",
            "flatten (Flatten)            (None, 25088)             0         \n",
            "=================================================================\n",
            "Total params: 14,714,688\n",
            "Trainable params: 14,714,688\n",
            "Non-trainable params: 0\n",
            "_________________________________________________________________\n",
            "None\n"
          ]
        }
      ],
      "source": [
        "#Setting the feature extraction model\n",
        "\n",
        "model = Sequential()\n",
        "model.add(base_model) \n",
        "model.add(Flatten())\n",
        "\n",
        "print(model.summary())"
      ]
    },
    {
      "cell_type": "code",
      "execution_count": null,
      "metadata": {
        "id": "NALjHzrOG3vj",
        "outputId": "2b82ff17-ed83-40ad-9cef-fe21edf05315"
      },
      "outputs": [
        {
          "name": "stdout",
          "output_type": "stream",
          "text": [
            "Model: \"functional_1\"\n",
            "_________________________________________________________________\n",
            "Layer (type)                 Output Shape              Param #   \n",
            "=================================================================\n",
            "vgg16_input (InputLayer)     [(None, 224, 224, 3)]     0         \n",
            "_________________________________________________________________\n",
            "vgg16 (Functional)           (None, 7, 7, 512)         14714688  \n",
            "_________________________________________________________________\n",
            "flatten (Flatten)            (None, 25088)             0         \n",
            "_________________________________________________________________\n",
            "dense (Dense)                (None, 4096)              102764544 \n",
            "_________________________________________________________________\n",
            "batch_normalization (BatchNo (None, 4096)              16384     \n",
            "_________________________________________________________________\n",
            "dropout (Dropout)            (None, 4096)              0         \n",
            "_________________________________________________________________\n",
            "dense_1 (Dense)              (None, 2048)              8390656   \n",
            "_________________________________________________________________\n",
            "batch_normalization_1 (Batch (None, 2048)              8192      \n",
            "_________________________________________________________________\n",
            "dropout_1 (Dropout)          (None, 2048)              0         \n",
            "_________________________________________________________________\n",
            "dense_2 (Dense)              (None, 3)                 6147      \n",
            "=================================================================\n",
            "Total params: 125,900,611\n",
            "Trainable params: 125,888,323\n",
            "Non-trainable params: 12,288\n",
            "_________________________________________________________________\n",
            "None\n"
          ]
        }
      ],
      "source": [
        "#Add fully connected layers for deep learning prediction\n",
        "\n",
        "x = model.output  \n",
        "x = Dense(4096, activation = 'relu')(x)\n",
        "x = BatchNormalization()(x)\n",
        "x = Dropout(0.2)(x)\n",
        "x = Dense(2048, activation = 'relu')(x)\n",
        "x = BatchNormalization()(x)\n",
        "x = Dropout(0.3)(x)\n",
        "prediction_layer = Dense(3, activation = 'softmax')(x)\n",
        "\n",
        "# Make a new model combining both feature extractor and x\n",
        "VGG_model = Model(inputs=model.input, outputs=prediction_layer)\n",
        "\n",
        "\n",
        "VGG_model.compile(optimizer='adam', loss = 'categorical_crossentropy', metrics = [Recall()])\n",
        "print(VGG_model.summary()) "
      ]
    },
    {
      "cell_type": "code",
      "execution_count": null,
      "metadata": {
        "scrolled": true,
        "id": "VuSZwAsnG3vk",
        "outputId": "2ace0b8f-cbe4-456e-e3ae-630fa0b0c6c9"
      },
      "outputs": [
        {
          "name": "stdout",
          "output_type": "stream",
          "text": [
            "Epoch 1/20\n",
            "  2/329 [..............................] - ETA: 1:17 - loss: 2.4965 - recall: 0.3750WARNING:tensorflow:Callbacks method `on_train_batch_end` is slow compared to the batch time (batch time: 0.1303s vs `on_train_batch_end` time: 0.3417s). Check your callbacks.\n",
            "329/329 [==============================] - 161s 490ms/step - loss: 0.5812 - recall: 0.8169 - val_loss: 3659.6414 - val_recall: 0.6060\n",
            "Epoch 2/20\n",
            "329/329 [==============================] - 163s 495ms/step - loss: 0.3731 - recall: 0.8759 - val_loss: 227303.7812 - val_recall: 0.6376\n",
            "Epoch 3/20\n",
            "329/329 [==============================] - 166s 504ms/step - loss: 0.2878 - recall: 0.9038 - val_loss: 305255.0312 - val_recall: 0.9453\n",
            "Epoch 4/20\n",
            "329/329 [==============================] - 160s 488ms/step - loss: 0.2384 - recall: 0.9187 - val_loss: 533853.1875 - val_recall: 0.7974\n",
            "Epoch 5/20\n",
            "329/329 [==============================] - 159s 484ms/step - loss: 0.2035 - recall: 0.9299 - val_loss: 1736543.3750 - val_recall: 0.4094\n",
            "Epoch 6/20\n",
            "329/329 [==============================] - 157s 477ms/step - loss: 0.1736 - recall: 0.9396 - val_loss: 133931.1094 - val_recall: 0.8026\n"
          ]
        }
      ],
      "source": [
        "# Train the VGG16 Model\n",
        "\n",
        "my_callbacks = [EarlyStopping(monitor = 'val_recall', mode = 'max', patience = 3)]\n",
        "\n",
        "\n",
        "history = VGG_model.fit(x_train, y_train, epochs=20, validation_data=(x_test, y_test), callbacks = my_callbacks, shuffle = False, batch_size=32)"
      ]
    },
    {
      "cell_type": "code",
      "execution_count": null,
      "metadata": {
        "id": "KJ3NY7akG3vl"
      },
      "outputs": [],
      "source": [
        "#Predict the label for test data \n",
        "y_pred = VGG_model.predict(x_test)\n",
        "\n",
        "# Converting the predicted values into a array of label\n",
        "y_true_1 = np.array([np.argmax(y, axis=None, out=None) for y in y_test])\n",
        "y_predict_1 = np.array([np.argmax(y, axis=None, out=None) for y in y_pred])"
      ]
    },
    {
      "cell_type": "code",
      "execution_count": null,
      "metadata": {
        "id": "u2t1QJ3RG3vm"
      },
      "outputs": [],
      "source": [
        "# Assigning the labels integer with classes names\n",
        "y_actual_1 = y_true_1.astype('object')\n",
        "y_predicted_1 = y_predict_1.astype('object')\n",
        "\n",
        "\n",
        "for i in range(len(labels)):\n",
        "    y_actual_1[y_actual_1 == i] = labels[i]\n",
        "    y_predicted_1[y_predicted_1 == i] = labels[i]\n"
      ]
    },
    {
      "cell_type": "code",
      "execution_count": null,
      "metadata": {
        "id": "72U3IZEdG3vn",
        "outputId": "69b8d88d-dac3-4f7b-96a7-0f7ac7fd5675"
      },
      "outputs": [
        {
          "name": "stdout",
          "output_type": "stream",
          "text": [
            "              precision    recall  f1-score   support\n",
            "\n",
            "      Normal       0.99      0.41      0.58       377\n",
            "   Pneumonia       0.93      1.00      0.96       430\n",
            "Tuberculosis       0.65      0.99      0.78       363\n",
            "\n",
            "    accuracy                           0.81      1170\n",
            "   macro avg       0.86      0.80      0.78      1170\n",
            "weighted avg       0.86      0.81      0.79      1170\n",
            "\n"
          ]
        },
        {
          "data": {
            "image/png": "[encoded data removed]",
            "text/plain": [
              "<Figure size 504x360 with 2 Axes>"
            ]
          },
          "metadata": {
            "needs_background": "light"
          },
          "output_type": "display_data"
        }
      ],
      "source": [
        "# Print the classification report\n",
        "print(classification_report(y_actual_1, y_predicted_1))\n",
        "\n",
        "# Plot the Confusion Matrix \n",
        "\n",
        "y_actual_1 = pd.Series(y_actual_1, name='Actual')\n",
        "y_predicted_1 = pd.Series(y_predicted_1, name='Predicted')\n",
        "confusion_matrix = pd.crosstab(y_actual_1, y_predicted_1, rownames=['Actual'], colnames=['Predicted'])\n",
        "plt.figure(figsize = (7,5))\n",
        "sns.heatmap(confusion_matrix, annot=True,fmt='d',cmap=\"YlGnBu\").set_title(\n",
        "    \"Confusion Matrix for VGG16\", fontsize=16)\n",
        "plt.show()"
      ]
    },
    {
      "cell_type": "markdown",
      "metadata": {
        "id": "ghJoivqLG3vn"
      },
      "source": [
        "# VGG16 + RandomForest"
      ]
    },
    {
      "cell_type": "code",
      "execution_count": null,
      "metadata": {
        "id": "LrVp-HlWG3vp"
      },
      "outputs": [],
      "source": [
        "# Input for the Radom Forest model for training\n",
        "\n",
        "x_train_feature =  model.predict(x_train)\n",
        "\n",
        "# Input for the Radom Forest model for prediction\n",
        "\n",
        "x_test_feature = model.predict(x_test)"
      ]
    },
    {
      "cell_type": "code",
      "execution_count": null,
      "metadata": {
        "scrolled": true,
        "id": "X9dG1MESG3vp",
        "outputId": "f92af4f7-7efa-42a5-e60d-c049af205942"
      },
      "outputs": [
        {
          "name": "stdout",
          "output_type": "stream",
          "text": [
            "Iteration No: 1 started. Evaluating function at random point.\n",
            "Iteration No: 1 ended. Evaluation done at random point.\n",
            "Time taken: 18.2732\n",
            "Function value obtained: -0.9658\n",
            "Current minimum: -0.9658\n",
            "Iteration No: 2 started. Evaluating function at random point.\n",
            "Iteration No: 2 ended. Evaluation done at random point.\n",
            "Time taken: 17.3180\n",
            "Function value obtained: -0.9564\n",
            "Current minimum: -0.9658\n",
            "Iteration No: 3 started. Evaluating function at random point.\n",
            "Iteration No: 3 ended. Evaluation done at random point.\n",
            "Time taken: 1.7810\n",
            "Function value obtained: -0.8504\n",
            "Current minimum: -0.9658\n",
            "Iteration No: 4 started. Evaluating function at random point.\n",
            "Iteration No: 4 ended. Evaluation done at random point.\n",
            "Time taken: 7.4189\n",
            "Function value obtained: -0.9547\n",
            "Current minimum: -0.9658\n",
            "Iteration No: 5 started. Evaluating function at random point.\n",
            "Iteration No: 5 ended. Evaluation done at random point.\n",
            "Time taken: 36.7593\n",
            "Function value obtained: -0.9658\n",
            "Current minimum: -0.9658\n",
            "Iteration No: 6 started. Evaluating function at random point.\n",
            "Iteration No: 6 ended. Evaluation done at random point.\n",
            "Time taken: 15.7652\n",
            "Function value obtained: -0.9564\n",
            "Current minimum: -0.9658\n",
            "Iteration No: 7 started. Evaluating function at random point.\n",
            "Iteration No: 7 ended. Evaluation done at random point.\n",
            "Time taken: 12.2061\n",
            "Function value obtained: -0.9538\n",
            "Current minimum: -0.9658\n",
            "Iteration No: 8 started. Evaluating function at random point.\n",
            "Iteration No: 8 ended. Evaluation done at random point.\n",
            "Time taken: 10.4609\n",
            "Function value obtained: -0.9581\n",
            "Current minimum: -0.9658\n",
            "Iteration No: 9 started. Evaluating function at random point.\n",
            "Iteration No: 9 ended. Evaluation done at random point.\n",
            "Time taken: 2.0782\n",
            "Function value obtained: -0.8795\n",
            "Current minimum: -0.9658\n",
            "Iteration No: 10 started. Evaluating function at random point.\n",
            "Iteration No: 10 ended. Evaluation done at random point.\n",
            "Time taken: 4.0975\n",
            "Function value obtained: -0.9427\n",
            "Current minimum: -0.9658\n",
            "Iteration No: 11 started. Searching for the next optimal point.\n",
            "Iteration No: 11 ended. Search finished for the next optimal point.\n",
            "Time taken: 9.8179\n",
            "Function value obtained: -0.9513\n",
            "Current minimum: -0.9658\n",
            "Iteration No: 12 started. Searching for the next optimal point.\n",
            "Iteration No: 12 ended. Search finished for the next optimal point.\n",
            "Time taken: 5.8162\n",
            "Function value obtained: -0.9547\n",
            "Current minimum: -0.9658\n",
            "Iteration No: 13 started. Searching for the next optimal point.\n",
            "Iteration No: 13 ended. Search finished for the next optimal point.\n",
            "Time taken: 8.7049\n",
            "Function value obtained: -0.9573\n",
            "Current minimum: -0.9658\n",
            "Iteration No: 14 started. Searching for the next optimal point.\n",
            "Iteration No: 14 ended. Search finished for the next optimal point.\n",
            "Time taken: 30.1003\n",
            "Function value obtained: -0.9573\n",
            "Current minimum: -0.9658\n",
            "Iteration No: 15 started. Searching for the next optimal point.\n",
            "Iteration No: 15 ended. Search finished for the next optimal point.\n",
            "Time taken: 17.2319\n",
            "Function value obtained: -0.9615\n",
            "Current minimum: -0.9658\n",
            "Iteration No: 16 started. Searching for the next optimal point.\n",
            "Iteration No: 16 ended. Search finished for the next optimal point.\n",
            "Time taken: 43.8460\n",
            "Function value obtained: -0.9650\n",
            "Current minimum: -0.9658\n",
            "Iteration No: 17 started. Searching for the next optimal point.\n",
            "Iteration No: 17 ended. Search finished for the next optimal point.\n",
            "Time taken: 5.6022\n",
            "Function value obtained: -0.9513\n",
            "Current minimum: -0.9658\n",
            "Iteration No: 18 started. Searching for the next optimal point.\n",
            "Iteration No: 18 ended. Search finished for the next optimal point.\n",
            "Time taken: 35.9649\n",
            "Function value obtained: -0.9641\n",
            "Current minimum: -0.9658\n",
            "Iteration No: 19 started. Searching for the next optimal point.\n",
            "Iteration No: 19 ended. Search finished for the next optimal point.\n",
            "Time taken: 24.4993\n",
            "Function value obtained: -0.9684\n",
            "Current minimum: -0.9684\n",
            "Iteration No: 20 started. Searching for the next optimal point.\n",
            "Iteration No: 20 ended. Search finished for the next optimal point.\n",
            "Time taken: 21.6718\n",
            "Function value obtained: -0.9598\n",
            "Current minimum: -0.9684\n",
            "Iteration No: 21 started. Searching for the next optimal point.\n",
            "Iteration No: 21 ended. Search finished for the next optimal point.\n",
            "Time taken: 23.1942\n",
            "Function value obtained: -0.9675\n",
            "Current minimum: -0.9684\n",
            "Iteration No: 22 started. Searching for the next optimal point.\n",
            "Iteration No: 22 ended. Search finished for the next optimal point.\n",
            "Time taken: 21.1876\n",
            "Function value obtained: -0.9530\n",
            "Current minimum: -0.9684\n",
            "Iteration No: 23 started. Searching for the next optimal point.\n",
            "Iteration No: 23 ended. Search finished for the next optimal point.\n",
            "Time taken: 21.0342\n",
            "Function value obtained: -0.9530\n",
            "Current minimum: -0.9684\n",
            "Iteration No: 24 started. Searching for the next optimal point.\n",
            "Iteration No: 24 ended. Search finished for the next optimal point.\n",
            "Time taken: 33.0967\n",
            "Function value obtained: -0.9581\n",
            "Current minimum: -0.9684\n",
            "Iteration No: 25 started. Searching for the next optimal point.\n",
            "Iteration No: 25 ended. Search finished for the next optimal point.\n",
            "Time taken: 33.5898\n",
            "Function value obtained: -0.9581\n",
            "Current minimum: -0.9684\n",
            "Iteration No: 26 started. Searching for the next optimal point.\n",
            "Iteration No: 26 ended. Search finished for the next optimal point.\n",
            "Time taken: 5.3587\n",
            "Function value obtained: -0.9291\n",
            "Current minimum: -0.9684\n",
            "Iteration No: 27 started. Searching for the next optimal point.\n",
            "Iteration No: 27 ended. Search finished for the next optimal point.\n",
            "Time taken: 42.3435\n",
            "Function value obtained: -0.9581\n",
            "Current minimum: -0.9684\n",
            "Iteration No: 28 started. Searching for the next optimal point.\n",
            "Iteration No: 28 ended. Search finished for the next optimal point.\n",
            "Time taken: 42.8195\n",
            "Function value obtained: -0.9624\n",
            "Current minimum: -0.9684\n",
            "Iteration No: 29 started. Searching for the next optimal point.\n",
            "Iteration No: 29 ended. Search finished for the next optimal point.\n",
            "Time taken: 46.9050\n",
            "Function value obtained: -0.9658\n",
            "Current minimum: -0.9684\n",
            "Iteration No: 30 started. Searching for the next optimal point.\n",
            "Iteration No: 30 ended. Search finished for the next optimal point.\n",
            "Time taken: 44.8730\n",
            "Function value obtained: -0.9658\n",
            "Current minimum: -0.9684\n",
            "Iteration No: 31 started. Searching for the next optimal point.\n",
            "Iteration No: 31 ended. Search finished for the next optimal point.\n",
            "Time taken: 34.2999\n",
            "Function value obtained: -0.9564\n",
            "Current minimum: -0.9684\n",
            "Iteration No: 32 started. Searching for the next optimal point.\n",
            "Iteration No: 32 ended. Search finished for the next optimal point.\n",
            "Time taken: 25.6920\n",
            "Function value obtained: -0.9598\n",
            "Current minimum: -0.9684\n",
            "Iteration No: 33 started. Searching for the next optimal point.\n",
            "Iteration No: 33 ended. Search finished for the next optimal point.\n",
            "Time taken: 19.0448\n",
            "Function value obtained: -0.9513\n",
            "Current minimum: -0.9684\n",
            "Iteration No: 34 started. Searching for the next optimal point.\n"
          ]
        },
        {
          "name": "stderr",
          "output_type": "stream",
          "text": [
            "C:\\Users\\jainp\\anaconda3\\lib\\site-packages\\skopt\\optimizer\\optimizer.py:449: UserWarning: The objective has been evaluated at this point before.\n",
            "  warnings.warn(\"The objective has been evaluated \"\n"
          ]
        },
        {
          "name": "stdout",
          "output_type": "stream",
          "text": [
            "Iteration No: 34 ended. Search finished for the next optimal point.\n",
            "Time taken: 22.5456\n",
            "Function value obtained: -0.9675\n",
            "Current minimum: -0.9684\n",
            "Iteration No: 35 started. Searching for the next optimal point.\n",
            "Iteration No: 35 ended. Search finished for the next optimal point.\n",
            "Time taken: 39.4847\n",
            "Function value obtained: -0.9615\n",
            "Current minimum: -0.9684\n",
            "Iteration No: 36 started. Searching for the next optimal point.\n",
            "Iteration No: 36 ended. Search finished for the next optimal point.\n",
            "Time taken: 3.8545\n",
            "Function value obtained: -0.9137\n",
            "Current minimum: -0.9684\n",
            "Iteration No: 37 started. Searching for the next optimal point.\n",
            "Iteration No: 37 ended. Search finished for the next optimal point.\n",
            "Time taken: 43.8707\n",
            "Function value obtained: -0.9658\n",
            "Current minimum: -0.9684\n",
            "Iteration No: 38 started. Searching for the next optimal point.\n",
            "Iteration No: 38 ended. Search finished for the next optimal point.\n",
            "Time taken: 40.8222\n",
            "Function value obtained: -0.9581\n",
            "Current minimum: -0.9684\n",
            "Iteration No: 39 started. Searching for the next optimal point.\n",
            "Iteration No: 39 ended. Search finished for the next optimal point.\n",
            "Time taken: 9.7545\n",
            "Function value obtained: -0.9436\n",
            "Current minimum: -0.9684\n",
            "Iteration No: 40 started. Searching for the next optimal point.\n",
            "Iteration No: 40 ended. Search finished for the next optimal point.\n",
            "Time taken: 44.0867\n",
            "Function value obtained: -0.9675\n",
            "Current minimum: -0.9684\n",
            "Iteration No: 41 started. Searching for the next optimal point.\n"
          ]
        },
        {
          "name": "stderr",
          "output_type": "stream",
          "text": [
            "C:\\Users\\jainp\\anaconda3\\lib\\site-packages\\skopt\\optimizer\\optimizer.py:449: UserWarning: The objective has been evaluated at this point before.\n",
            "  warnings.warn(\"The objective has been evaluated \"\n"
          ]
        },
        {
          "name": "stdout",
          "output_type": "stream",
          "text": [
            "Iteration No: 41 ended. Search finished for the next optimal point.\n",
            "Time taken: 22.2513\n",
            "Function value obtained: -0.9675\n",
            "Current minimum: -0.9684\n",
            "Iteration No: 42 started. Searching for the next optimal point.\n"
          ]
        },
        {
          "name": "stderr",
          "output_type": "stream",
          "text": [
            "C:\\Users\\jainp\\anaconda3\\lib\\site-packages\\skopt\\optimizer\\optimizer.py:449: UserWarning: The objective has been evaluated at this point before.\n",
            "  warnings.warn(\"The objective has been evaluated \"\n"
          ]
        },
        {
          "name": "stdout",
          "output_type": "stream",
          "text": [
            "Iteration No: 42 ended. Search finished for the next optimal point.\n",
            "Time taken: 22.3673\n",
            "Function value obtained: -0.9675\n",
            "Current minimum: -0.9684\n",
            "Iteration No: 43 started. Searching for the next optimal point.\n",
            "Iteration No: 43 ended. Search finished for the next optimal point.\n",
            "Time taken: 2.7467\n",
            "Function value obtained: -0.9145\n",
            "Current minimum: -0.9684\n",
            "Iteration No: 44 started. Searching for the next optimal point.\n",
            "Iteration No: 44 ended. Search finished for the next optimal point.\n",
            "Time taken: 40.0185\n",
            "Function value obtained: -0.9641\n",
            "Current minimum: -0.9684\n",
            "Iteration No: 45 started. Searching for the next optimal point.\n",
            "Iteration No: 45 ended. Search finished for the next optimal point.\n",
            "Time taken: 22.5514\n",
            "Function value obtained: -0.9675\n",
            "Current minimum: -0.9684\n",
            "Iteration No: 46 started. Searching for the next optimal point.\n"
          ]
        },
        {
          "name": "stderr",
          "output_type": "stream",
          "text": [
            "C:\\Users\\jainp\\anaconda3\\lib\\site-packages\\skopt\\optimizer\\optimizer.py:449: UserWarning: The objective has been evaluated at this point before.\n",
            "  warnings.warn(\"The objective has been evaluated \"\n"
          ]
        },
        {
          "name": "stdout",
          "output_type": "stream",
          "text": [
            "Iteration No: 46 ended. Search finished for the next optimal point.\n",
            "Time taken: 22.3952\n",
            "Function value obtained: -0.9675\n",
            "Current minimum: -0.9684\n",
            "Iteration No: 47 started. Searching for the next optimal point.\n",
            "Iteration No: 47 ended. Search finished for the next optimal point.\n",
            "Time taken: 11.6712\n",
            "Function value obtained: -0.9556\n",
            "Current minimum: -0.9684\n",
            "Iteration No: 48 started. Searching for the next optimal point.\n",
            "Iteration No: 48 ended. Search finished for the next optimal point.\n",
            "Time taken: 21.6507\n",
            "Function value obtained: -0.9607\n",
            "Current minimum: -0.9684\n",
            "Iteration No: 49 started. Searching for the next optimal point.\n",
            "Iteration No: 49 ended. Search finished for the next optimal point.\n",
            "Time taken: 1.3844\n",
            "Function value obtained: -0.8957\n",
            "Current minimum: -0.9684\n",
            "Iteration No: 50 started. Searching for the next optimal point.\n",
            "Iteration No: 50 ended. Search finished for the next optimal point.\n",
            "Time taken: 1.1794\n",
            "Function value obtained: -0.8342\n",
            "Current minimum: -0.9684\n",
            "Maximimum Recall_score found: 0.96838\n",
            "Optimal parameters:\n",
            "n_estimators: 50\n",
            "criterion: entropy\n",
            "min_samples_split: 25\n",
            "min_samples_leaf: 2\n",
            "max_features: auto\n",
            "bootstrap: False\n"
          ]
        },
        {
          "data": {
            "image/png": "[encoded data removed]",
            "text/plain": [
              "<Figure size 432x288 with 1 Axes>"
            ]
          },
          "metadata": {
            "needs_background": "light"
          },
          "output_type": "display_data"
        }
      ],
      "source": [
        "# Hyperparameters tuning for Random Forest Parameters\n",
        "# Bayesian Optimization\n",
        "\n",
        "num_thread= 50\n",
        "params = ['n_estimators', 'criterion', 'min_samples_split', 'min_samples_leaf', 'max_features','bootstrap']\n",
        "\n",
        "#for model include item_Features\n",
        "def objective(params):\n",
        "    # unpack\n",
        "    n_estimators, criterion, min_samples_split, min_samples_leaf, max_features, bootstrap = params\n",
        "    \n",
        "    model_iii = RandomForestClassifier(n_estimators=n_estimators, criterion=criterion, min_samples_split=min_samples_split, min_samples_leaf=min_samples_leaf, max_features=max_features, bootstrap = bootstrap, random_state=60616)\n",
        "    model_iii.fit(x_train_feature, y_train)\n",
        "    \n",
        "    prediction_test = model_iii.predict(x_test_feature)\n",
        "    recall = recall_score(y_test, prediction_test, average='micro')\n",
        "\n",
        "    out = -recall\n",
        "    # Handle some numerical issue going on\n",
        "    if np.abs(out + 1) < 0.01 or out < -1.0:\n",
        "        return 0.0\n",
        "    else:\n",
        "        return out\n",
        "\n",
        "space = [(20, 40, 50, 60, 80, 100,),\n",
        "         ('gini', 'entropy'),\n",
        "         (5, 10, 15, 20, 25, 30, 35),\n",
        "         (2, 6, 10, 14, 18, 22, 26, 30),\n",
        "         ('auto', 'sqrt', 'log2'),\n",
        "         (True, False),\n",
        "        ]\n",
        "\n",
        "try:\n",
        "    res_fm = forest_minimize(objective, space, n_calls=num_thread,\n",
        "                     random_state=60616,base_estimator= 'RF',acq_func='PI',\n",
        "                     verbose=True, n_jobs= -1)\n",
        "except ValueError:\n",
        "    print('Forest diverged, random search intialized')\n",
        "    res_fm = dummy_minimize(objective, space, n_calls=num_thread,\n",
        "         random_state=60616,\n",
        "         verbose=True)\n",
        "\n",
        "print('Maximimum Recall_score found: {:6.5f}'.format(-res_fm.fun))\n",
        "print('Optimal parameters:')\n",
        "\n",
        "for (p, x_) in zip(params, res_fm.x):\n",
        "    print('{}: {}'.format(p, x_))\n",
        "from skopt.plots import plot_convergence\n",
        "plot_convergence(res_fm);"
      ]
    },
    {
      "cell_type": "code",
      "execution_count": null,
      "metadata": {
        "id": "N9Yf8dKsG3vq",
        "outputId": "5f590973-25b1-458a-9041-714f3bce8f62"
      },
      "outputs": [
        {
          "data": {
            "text/plain": [
              "RandomForestClassifier(bootstrap=False, criterion='entropy', min_samples_leaf=2,\n",
              "                       min_samples_split=25, n_estimators=50,\n",
              "                       random_state=60616)"
            ]
          },
          "execution_count": 15,
          "metadata": {},
          "output_type": "execute_result"
        }
      ],
      "source": [
        "# Train the Random Forest Model\n",
        "RF_model = RandomForestClassifier(n_estimators = 50, criterion = 'entropy', min_samples_split = 25, min_samples_leaf = 2, max_features= 'auto', bootstrap = False, random_state = 60616)\n",
        "\n",
        "RF_model.fit(x_train_feature, y_train)"
      ]
    },
    {
      "cell_type": "code",
      "execution_count": null,
      "metadata": {
        "id": "orBotiW2G3vr"
      },
      "outputs": [],
      "source": [
        "#Now predict using the trained RF model\n",
        "y_pred_RF = RF_model.predict(x_test_feature)\n",
        "\n",
        "# Converting the predicted values into a array of label\n",
        "y_true = (np.array([np.argmax(y, axis=None, out=None) for y in y_test]))\n",
        "y_predict = (np.array([np.argmax(y, axis=None, out=None) for y in y_pred_RF]))"
      ]
    },
    {
      "cell_type": "code",
      "execution_count": null,
      "metadata": {
        "id": "I0u3hU2cG3vs"
      },
      "outputs": [],
      "source": [
        "# Assigning the labels integer with classes names\n",
        "\n",
        "y_actual = y_true.astype('object')\n",
        "y_predicted = y_predict.astype('object')\n",
        "\n",
        "for i in range(len(labels)):\n",
        "    y_actual[y_actual == i] = labels[i]\n",
        "    y_predicted[y_predicted == i] = labels[i]"
      ]
    },
    {
      "cell_type": "code",
      "execution_count": null,
      "metadata": {
        "scrolled": true,
        "id": "GWhQ1J4YG3vs",
        "outputId": "e0bb7b81-8988-463b-dd26-20aab9f322b5"
      },
      "outputs": [
        {
          "name": "stdout",
          "output_type": "stream",
          "text": [
            "              precision    recall  f1-score   support\n",
            "\n",
            "      Normal       0.97      0.96      0.97       377\n",
            "   Pneumonia       0.98      0.99      0.98       430\n",
            "Tuberculosis       0.98      0.98      0.98       363\n",
            "\n",
            "    accuracy                           0.98      1170\n",
            "   macro avg       0.98      0.98      0.98      1170\n",
            "weighted avg       0.98      0.98      0.98      1170\n",
            "\n"
          ]
        },
        {
          "data": {
            "image/png": "[encoded data removed]",
            "text/plain": [
              "<Figure size 504x324 with 2 Axes>"
            ]
          },
          "metadata": {
            "needs_background": "light"
          },
          "output_type": "display_data"
        }
      ],
      "source": [
        "print(classification_report(y_actual, y_predicted))\n",
        "\n",
        "# Plot the Confusion Matrix\n",
        "y_actual = pd.Series(y_actual, name='Actual')\n",
        "y_predicted = pd.Series(y_predicted, name='Predicted')\n",
        "confusion_matrix = pd.crosstab(y_actual, y_predicted, rownames=['Actual'], colnames=['Predicted'])\n",
        "plt.figure(figsize = (7,4.5))\n",
        "sns.heatmap(confusion_matrix, annot=True,fmt='d',cmap=\"YlGnBu\").set_title(\n",
        "    \"Confusion Matrix for VGG16 + RandomForest\", fontsize=16)\n",
        "plt.show()"
      ]
    }
  ],
  "metadata": {
    "kernelspec": {
      "display_name": "Python 3",
      "language": "python",
      "name": "python3"
    },
    "language_info": {
      "codemirror_mode": {
        "name": "ipython",
        "version": 3
      },
      "file_extension": ".py",
      "mimetype": "text/x-python",
      "name": "python",
      "nbconvert_exporter": "python",
      "pygments_lexer": "ipython3",
      "version": "3.8.5"
    },
    "colab": {
      "name": "VGG16_Random_Forest_Final.ipynb",
      "provenance": []
    }
  },
  "nbformat": 4,
  "nbformat_minor": 0
}