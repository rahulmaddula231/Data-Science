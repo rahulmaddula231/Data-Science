{
  "cells": [
    {
      "cell_type": "markdown",
      "metadata": {
        "id": "peJpDQKbGq9E"
      },
      "source": [
        "# RandomForest"
      ]
    },
    {
      "cell_type": "code",
      "execution_count": null,
      "metadata": {
        "id": "3XbV8jINGq9J"
      },
      "outputs": [],
      "source": [
        "import matplotlib.pyplot as plt\n",
        "import numpy as np\n",
        "import os\n",
        "import seaborn as sns\n",
        "import pandas as pd\n",
        "from pprint import pprint\n",
        "from IPython.display import display, HTML\n",
        "\n",
        "import sklearn\n",
        "from sklearn.model_selection import train_test_split\n",
        "from sklearn.ensemble import RandomForestClassifier\n",
        "from sklearn.metrics import confusion_matrix, classification_report, recall_score\n",
        "\n",
        "import tensorflow as tf\n",
        "from tensorflow.keras.preprocessing import image\n",
        "from tensorflow.keras.preprocessing.image import load_img, img_to_array\n",
        "\n",
        "from scipy.optimize import brute\n",
        "from skopt import forest_minimize, gbrt_minimize, dummy_minimize\n",
        "from skopt import callbacks"
      ]
    },
    {
      "cell_type": "code",
      "execution_count": null,
      "metadata": {
        "id": "ch6KpY7kGq9L",
        "outputId": "c6d07d1e-51f0-4e64-8346-bfb635ab4055"
      },
      "outputs": [
        {
          "data": {
            "text/html": [
              "<style>\n",
              ".output {\n",
              "    flex-direction: row;\n",
              "}\n",
              "</style>"
            ],
            "text/plain": [
              "<IPython.core.display.HTML object>"
            ]
          },
          "metadata": {},
          "output_type": "display_data"
        }
      ],
      "source": [
        "# Ccode for print report and matrix side by side\n",
        "CSS = \"\"\"\n",
        ".output {\n",
        "    flex-direction: row;\n",
        "}\n",
        "\"\"\"\n",
        "\n",
        "display(HTML('<style>{}</style>'.format(CSS)))\n",
        "\n",
        "labels = [ \"Normal\", \"Pneumonia\", \"Tuberculosis\" ]\n",
        "\n",
        "dataset = []\n",
        "label = []\n",
        "\n",
        "Size = 128"
      ]
    },
    {
      "cell_type": "code",
      "execution_count": null,
      "metadata": {
        "id": "hdSId7Z0Gq9M"
      },
      "outputs": [],
      "source": [
        "#Read each image from the train and test data and assiging labels \n",
        "image_directory = r'C:\\Users\\rahulmaddula\\Desktop\\Sem 2\\Data Driven Modeling\\Assignments\\Project\\Final\\Images'\n",
        "\n",
        "Normal_images = os.listdir(image_directory + '/Normal/')\n",
        "for i, image_name in enumerate(Normal_images):    #Remember enumerate method adds a counter and returns the enumerate object\n",
        "    \n",
        "    if (image_name.split('.')[1] == 'png' or image_name.split('.')[1] == 'jpeg'):\n",
        "        image = load_img(image_directory + '/Normal/' + image_name, color_mode = 'rgb')\n",
        "        \n",
        "        image = image.resize((Size,Size))\n",
        "        dataset.append(np.ravel(img_to_array(image)))\n",
        "        label.append(0)\n",
        "        \n",
        "Pneumonia_images = os.listdir(image_directory + '/Pneumonia/')\n",
        "for i, image_name in enumerate(Pneumonia_images):    #Remember enumerate method adds a counter and returns the enumerate object\n",
        "    \n",
        "    if (image_name.split('.')[1] == 'png' or image_name.split('.')[1] == 'jpeg'):\n",
        "        image = load_img(image_directory + '/Pneumonia/' + image_name, color_mode ='rgb')\n",
        "        \n",
        "        image = image.resize((Size,Size))\n",
        "        dataset.append(np.ravel(img_to_array(image)))\n",
        "        label.append(1)\n",
        "        \n",
        "Tuberculosis_images = os.listdir(image_directory + '/Tuberculosis/')\n",
        "for i, image_name in enumerate(Tuberculosis_images):    #Remember enumerate method adds a counter and returns the enumerate object\n",
        "\n",
        "    if (image_name.split('.')[1] == 'png' or image_name.split('.')[1] == 'jpeg'):\n",
        "        image = load_img(image_directory + '/Tuberculosis/' + image_name, color_mode ='rgb')\n",
        "        \n",
        "        image = image.resize((Size,Size))\n",
        "        dataset.append(np.ravel(img_to_array(image)))\n",
        "        label.append(2)\n",
        "        "
      ]
    },
    {
      "cell_type": "code",
      "execution_count": null,
      "metadata": {
        "id": "3YrFPeVdGq9O"
      },
      "outputs": [],
      "source": [
        "#Processing the data as the required format\n",
        "x_data = np.array(dataset)\n",
        "y_data = np.array(label)\n",
        "\n",
        "# Split the data for train and test\n",
        "x_train, x_test, y_train, y_test = train_test_split(x_data, y_data, test_size = 0.1, random_state = 10)"
      ]
    },
    {
      "cell_type": "code",
      "execution_count": null,
      "metadata": {
        "id": "D-59O2E_Gq9P",
        "outputId": "2d7a56e8-4cff-4aa9-9b89-2046271c000d"
      },
      "outputs": [
        {
          "name": "stdout",
          "output_type": "stream",
          "text": [
            "Parameters currently in use:\n",
            "\n",
            "{'bootstrap': True,\n",
            " 'ccp_alpha': 0.0,\n",
            " 'class_weight': None,\n",
            " 'criterion': 'gini',\n",
            " 'max_depth': None,\n",
            " 'max_features': 'auto',\n",
            " 'max_leaf_nodes': None,\n",
            " 'max_samples': None,\n",
            " 'min_impurity_decrease': 0.0,\n",
            " 'min_impurity_split': None,\n",
            " 'min_samples_leaf': 1,\n",
            " 'min_samples_split': 2,\n",
            " 'min_weight_fraction_leaf': 0.0,\n",
            " 'n_estimators': 20,\n",
            " 'n_jobs': None,\n",
            " 'oob_score': False,\n",
            " 'random_state': 10,\n",
            " 'verbose': 0,\n",
            " 'warm_start': False}\n"
          ]
        }
      ],
      "source": [
        "# Print the parametes of Random Forest model\n",
        "print('Parameters currently in use:\\n')\n",
        "pprint(RandomForestClassifier(n_estimators = 20, random_state = 10).get_params())"
      ]
    },
    {
      "cell_type": "code",
      "execution_count": null,
      "metadata": {
        "scrolled": true,
        "id": "-SJVwHuWGq9Q",
        "outputId": "894ac22b-6795-4a38-fbf8-154135d8cbd6"
      },
      "outputs": [
        {
          "name": "stdout",
          "output_type": "stream",
          "text": [
            "Iteration No: 1 started. Evaluating function at random point.\n",
            "Iteration No: 1 ended. Evaluation done at random point.\n",
            "Time taken: 31.4900\n",
            "Function value obtained: -0.9504\n",
            "Current minimum: -0.9504\n",
            "Iteration No: 2 started. Evaluating function at random point.\n",
            "Iteration No: 2 ended. Evaluation done at random point.\n",
            "Time taken: 9.3451\n",
            "Function value obtained: -0.9650\n",
            "Current minimum: -0.9650\n",
            "Iteration No: 3 started. Evaluating function at random point.\n",
            "Iteration No: 3 ended. Evaluation done at random point.\n",
            "Time taken: 5.9290\n",
            "Function value obtained: -0.9701\n",
            "Current minimum: -0.9701\n",
            "Iteration No: 4 started. Evaluating function at random point.\n",
            "Iteration No: 4 ended. Evaluation done at random point.\n",
            "Time taken: 44.8313\n",
            "Function value obtained: -0.9530\n",
            "Current minimum: -0.9701\n",
            "Iteration No: 5 started. Evaluating function at random point.\n",
            "Iteration No: 5 ended. Evaluation done at random point.\n",
            "Time taken: 166.8198\n",
            "Function value obtained: -0.9692\n",
            "Current minimum: -0.9701\n",
            "Iteration No: 6 started. Evaluating function at random point.\n",
            "Iteration No: 6 ended. Evaluation done at random point.\n",
            "Time taken: 15.4101\n",
            "Function value obtained: -0.9564\n",
            "Current minimum: -0.9701\n",
            "Iteration No: 7 started. Evaluating function at random point.\n",
            "Iteration No: 7 ended. Evaluation done at random point.\n",
            "Time taken: 1.9489\n",
            "Function value obtained: -0.9607\n",
            "Current minimum: -0.9701\n",
            "Iteration No: 8 started. Evaluating function at random point.\n",
            "Iteration No: 8 ended. Evaluation done at random point.\n",
            "Time taken: 7.9008\n",
            "Function value obtained: -0.9556\n",
            "Current minimum: -0.9701\n",
            "Iteration No: 9 started. Evaluating function at random point.\n",
            "Iteration No: 9 ended. Evaluation done at random point.\n",
            "Time taken: 5.6910\n",
            "Function value obtained: -0.9650\n",
            "Current minimum: -0.9701\n",
            "Iteration No: 10 started. Evaluating function at random point.\n",
            "Iteration No: 10 ended. Evaluation done at random point.\n",
            "Time taken: 50.6971\n",
            "Function value obtained: -0.9556\n",
            "Current minimum: -0.9701\n",
            "Iteration No: 11 started. Searching for the next optimal point.\n",
            "Iteration No: 11 ended. Search finished for the next optimal point.\n",
            "Time taken: 42.5617\n",
            "Function value obtained: -0.9650\n",
            "Current minimum: -0.9701\n",
            "Iteration No: 12 started. Searching for the next optimal point.\n",
            "Iteration No: 12 ended. Search finished for the next optimal point.\n",
            "Time taken: 85.4620\n",
            "Function value obtained: -0.9650\n",
            "Current minimum: -0.9701\n",
            "Iteration No: 13 started. Searching for the next optimal point.\n",
            "Iteration No: 13 ended. Search finished for the next optimal point.\n",
            "Time taken: 4.5187\n",
            "Function value obtained: -0.9607\n",
            "Current minimum: -0.9701\n",
            "Iteration No: 14 started. Searching for the next optimal point.\n",
            "Iteration No: 14 ended. Search finished for the next optimal point.\n",
            "Time taken: 106.8444\n",
            "Function value obtained: -0.9667\n",
            "Current minimum: -0.9701\n",
            "Iteration No: 15 started. Searching for the next optimal point.\n",
            "Iteration No: 15 ended. Search finished for the next optimal point.\n",
            "Time taken: 85.5604\n",
            "Function value obtained: -0.9675\n",
            "Current minimum: -0.9701\n",
            "Iteration No: 16 started. Searching for the next optimal point.\n",
            "Iteration No: 16 ended. Search finished for the next optimal point.\n",
            "Time taken: 42.5961\n",
            "Function value obtained: -0.9650\n",
            "Current minimum: -0.9701\n",
            "Iteration No: 17 started. Searching for the next optimal point.\n",
            "Iteration No: 17 ended. Search finished for the next optimal point.\n",
            "Time taken: 484.8668\n",
            "Function value obtained: -0.9615\n",
            "Current minimum: -0.9701\n",
            "Iteration No: 18 started. Searching for the next optimal point.\n",
            "Iteration No: 18 ended. Search finished for the next optimal point.\n",
            "Time taken: 71.7134\n",
            "Function value obtained: -0.9709\n",
            "Current minimum: -0.9709\n",
            "Iteration No: 19 started. Searching for the next optimal point.\n",
            "Iteration No: 19 ended. Search finished for the next optimal point.\n",
            "Time taken: 66.1118\n",
            "Function value obtained: -0.9667\n",
            "Current minimum: -0.9709\n",
            "Iteration No: 20 started. Searching for the next optimal point.\n",
            "Iteration No: 20 ended. Search finished for the next optimal point.\n",
            "Time taken: 79.5020\n",
            "Function value obtained: -0.9650\n",
            "Current minimum: -0.9709\n",
            "Iteration No: 21 started. Searching for the next optimal point.\n",
            "Iteration No: 21 ended. Search finished for the next optimal point.\n",
            "Time taken: 73.3215\n",
            "Function value obtained: -0.9684\n",
            "Current minimum: -0.9709\n",
            "Iteration No: 22 started. Searching for the next optimal point.\n",
            "Iteration No: 22 ended. Search finished for the next optimal point.\n",
            "Time taken: 84.4494\n",
            "Function value obtained: -0.9692\n",
            "Current minimum: -0.9709\n",
            "Iteration No: 23 started. Searching for the next optimal point.\n",
            "Iteration No: 23 ended. Search finished for the next optimal point.\n",
            "Time taken: 62.4735\n",
            "Function value obtained: -0.9564\n",
            "Current minimum: -0.9709\n",
            "Iteration No: 24 started. Searching for the next optimal point.\n"
          ]
        },
        {
          "name": "stderr",
          "output_type": "stream",
          "text": [
            "C:\\Users\\jainp\\anaconda3\\envs\\tf\\lib\\site-packages\\skopt\\optimizer\\optimizer.py:449: UserWarning: The objective has been evaluated at this point before.\n",
            "  warnings.warn(\"The objective has been evaluated \"\n"
          ]
        },
        {
          "name": "stdout",
          "output_type": "stream",
          "text": [
            "Iteration No: 24 ended. Search finished for the next optimal point.\n",
            "Time taken: 78.3744\n",
            "Function value obtained: -0.9692\n",
            "Current minimum: -0.9709\n",
            "Iteration No: 25 started. Searching for the next optimal point.\n",
            "Iteration No: 25 ended. Search finished for the next optimal point.\n",
            "Time taken: 6.5990\n",
            "Function value obtained: -0.9615\n",
            "Current minimum: -0.9709\n",
            "Iteration No: 26 started. Searching for the next optimal point.\n",
            "Iteration No: 26 ended. Search finished for the next optimal point.\n",
            "Time taken: 6.3282\n",
            "Function value obtained: -0.9658\n",
            "Current minimum: -0.9709\n",
            "Iteration No: 27 started. Searching for the next optimal point.\n",
            "Iteration No: 27 ended. Search finished for the next optimal point.\n",
            "Time taken: 71.2473\n",
            "Function value obtained: -0.9590\n",
            "Current minimum: -0.9709\n",
            "Iteration No: 28 started. Searching for the next optimal point.\n",
            "Iteration No: 28 ended. Search finished for the next optimal point.\n",
            "Time taken: 55.7271\n",
            "Function value obtained: -0.9675\n",
            "Current minimum: -0.9709\n",
            "Iteration No: 29 started. Searching for the next optimal point.\n",
            "Iteration No: 29 ended. Search finished for the next optimal point.\n",
            "Time taken: 40.7627\n",
            "Function value obtained: -0.9650\n",
            "Current minimum: -0.9709\n",
            "Iteration No: 30 started. Searching for the next optimal point.\n",
            "Iteration No: 30 ended. Search finished for the next optimal point.\n",
            "Time taken: 76.4760\n",
            "Function value obtained: -0.9547\n",
            "Current minimum: -0.9709\n",
            "Iteration No: 31 started. Searching for the next optimal point.\n",
            "Iteration No: 31 ended. Search finished for the next optimal point.\n",
            "Time taken: 4.0286\n",
            "Function value obtained: -0.9538\n",
            "Current minimum: -0.9709\n",
            "Iteration No: 32 started. Searching for the next optimal point.\n"
          ]
        },
        {
          "name": "stderr",
          "output_type": "stream",
          "text": [
            "C:\\Users\\jainp\\anaconda3\\envs\\tf\\lib\\site-packages\\skopt\\optimizer\\optimizer.py:449: UserWarning: The objective has been evaluated at this point before.\n",
            "  warnings.warn(\"The objective has been evaluated \"\n"
          ]
        },
        {
          "name": "stdout",
          "output_type": "stream",
          "text": [
            "Iteration No: 32 ended. Search finished for the next optimal point.\n",
            "Time taken: 6.4970\n",
            "Function value obtained: -0.9658\n",
            "Current minimum: -0.9709\n",
            "Iteration No: 33 started. Searching for the next optimal point.\n",
            "Iteration No: 33 ended. Search finished for the next optimal point.\n",
            "Time taken: 36.0857\n",
            "Function value obtained: -0.9641\n",
            "Current minimum: -0.9709\n",
            "Iteration No: 34 started. Searching for the next optimal point.\n",
            "Iteration No: 34 ended. Search finished for the next optimal point.\n",
            "Time taken: 44.4816\n",
            "Function value obtained: -0.9632\n",
            "Current minimum: -0.9709\n",
            "Iteration No: 35 started. Searching for the next optimal point.\n",
            "Iteration No: 35 ended. Search finished for the next optimal point.\n",
            "Time taken: 64.5348\n",
            "Function value obtained: -0.9632\n",
            "Current minimum: -0.9709\n",
            "Iteration No: 36 started. Searching for the next optimal point.\n",
            "Iteration No: 36 ended. Search finished for the next optimal point.\n",
            "Time taken: 113.0600\n",
            "Function value obtained: -0.9607\n",
            "Current minimum: -0.9709\n",
            "Iteration No: 37 started. Searching for the next optimal point.\n",
            "Iteration No: 37 ended. Search finished for the next optimal point.\n",
            "Time taken: 3.8999\n",
            "Function value obtained: -0.9513\n",
            "Current minimum: -0.9709\n",
            "Iteration No: 38 started. Searching for the next optimal point.\n",
            "Iteration No: 38 ended. Search finished for the next optimal point.\n",
            "Time taken: 3.9302\n",
            "Function value obtained: -0.9632\n",
            "Current minimum: -0.9709\n",
            "Iteration No: 39 started. Searching for the next optimal point.\n",
            "Iteration No: 39 ended. Search finished for the next optimal point.\n",
            "Time taken: 58.3848\n",
            "Function value obtained: -0.9675\n",
            "Current minimum: -0.9709\n",
            "Iteration No: 40 started. Searching for the next optimal point.\n"
          ]
        },
        {
          "name": "stderr",
          "output_type": "stream",
          "text": [
            "C:\\Users\\jainp\\anaconda3\\envs\\tf\\lib\\site-packages\\skopt\\optimizer\\optimizer.py:449: UserWarning: The objective has been evaluated at this point before.\n",
            "  warnings.warn(\"The objective has been evaluated \"\n"
          ]
        },
        {
          "name": "stdout",
          "output_type": "stream",
          "text": [
            "Iteration No: 40 ended. Search finished for the next optimal point.\n",
            "Time taken: 3.9027\n",
            "Function value obtained: -0.9632\n",
            "Current minimum: -0.9709\n",
            "Iteration No: 41 started. Searching for the next optimal point.\n",
            "Iteration No: 41 ended. Search finished for the next optimal point.\n",
            "Time taken: 4.6838\n",
            "Function value obtained: -0.9624\n",
            "Current minimum: -0.9709\n",
            "Iteration No: 42 started. Searching for the next optimal point.\n",
            "Iteration No: 42 ended. Search finished for the next optimal point.\n",
            "Time taken: 5.8303\n",
            "Function value obtained: -0.9590\n",
            "Current minimum: -0.9709\n",
            "Iteration No: 43 started. Searching for the next optimal point.\n",
            "Iteration No: 43 ended. Search finished for the next optimal point.\n",
            "Time taken: 37.7389\n",
            "Function value obtained: -0.9538\n",
            "Current minimum: -0.9709\n",
            "Iteration No: 44 started. Searching for the next optimal point.\n",
            "Iteration No: 44 ended. Search finished for the next optimal point.\n",
            "Time taken: 5.5863\n",
            "Function value obtained: -0.9701\n",
            "Current minimum: -0.9709\n",
            "Iteration No: 45 started. Searching for the next optimal point.\n",
            "Iteration No: 45 ended. Search finished for the next optimal point.\n",
            "Time taken: 13.1903\n",
            "Function value obtained: -0.9667\n",
            "Current minimum: -0.9709\n",
            "Iteration No: 46 started. Searching for the next optimal point.\n",
            "Iteration No: 46 ended. Search finished for the next optimal point.\n",
            "Time taken: 3.5534\n",
            "Function value obtained: -0.9607\n",
            "Current minimum: -0.9709\n",
            "Iteration No: 47 started. Searching for the next optimal point.\n"
          ]
        },
        {
          "name": "stderr",
          "output_type": "stream",
          "text": [
            "C:\\Users\\jainp\\anaconda3\\envs\\tf\\lib\\site-packages\\skopt\\optimizer\\optimizer.py:449: UserWarning: The objective has been evaluated at this point before.\n",
            "  warnings.warn(\"The objective has been evaluated \"\n"
          ]
        },
        {
          "name": "stdout",
          "output_type": "stream",
          "text": [
            "Iteration No: 47 ended. Search finished for the next optimal point.\n",
            "Time taken: 6.6766\n",
            "Function value obtained: -0.9701\n",
            "Current minimum: -0.9709\n",
            "Iteration No: 48 started. Searching for the next optimal point.\n",
            "Iteration No: 48 ended. Search finished for the next optimal point.\n",
            "Time taken: 6.1761\n",
            "Function value obtained: -0.9632\n",
            "Current minimum: -0.9709\n",
            "Iteration No: 49 started. Searching for the next optimal point.\n",
            "Iteration No: 49 ended. Search finished for the next optimal point.\n",
            "Time taken: 5.8123\n",
            "Function value obtained: -0.9590\n",
            "Current minimum: -0.9709\n",
            "Iteration No: 50 started. Searching for the next optimal point.\n",
            "Iteration No: 50 ended. Search finished for the next optimal point.\n",
            "Time taken: 3.0838\n",
            "Function value obtained: -0.9641\n",
            "Current minimum: -0.9709\n",
            "Maximimum Recall_score found: 0.97094\n",
            "Optimal parameters:\n",
            "n_estimators: 50\n",
            "criterion: entropy\n",
            "min_samples_split: 15\n",
            "min_samples_leaf: 2\n",
            "max_features: sqrt\n",
            "bootstrap: False\n"
          ]
        },
        {
          "data": {
            "image/png": "[encoded data removed]",
            "text/plain": [
              "<Figure size 432x288 with 1 Axes>"
            ]
          },
          "metadata": {
            "needs_background": "light"
          },
          "output_type": "display_data"
        }
      ],
      "source": [
        "# Hyperparameters tuning for Random Forest Parameters\n",
        "# Bayesian Optimization\n",
        "num_thread=50\n",
        "params = ['n_estimators', 'criterion', 'min_samples_split', 'min_samples_leaf', 'max_features','bootstrap']\n",
        "\n",
        "#for model include item_Features\n",
        "def objective(params):\n",
        "    # unpack\n",
        "    n_estimators, criterion, min_samples_split, min_samples_leaf, max_features, bootstrap = params\n",
        "    \n",
        "    model_iii = RandomForestClassifier(n_estimators=n_estimators, criterion=criterion, min_samples_split=min_samples_split, min_samples_leaf=min_samples_leaf, max_features=max_features, bootstrap = bootstrap, random_state=10)\n",
        "    model_iii.fit(x_train, y_train)\n",
        "    \n",
        "    prediction_test = model_iii.predict(x_test)\n",
        "    recall = recall_score(y_test, prediction_test, average='micro')\n",
        "\n",
        "    out = -recall\n",
        "    # Handle some numerical issue going on\n",
        "    if np.abs(out + 1) < 0.01 or out < -1.0:\n",
        "        return 0.0\n",
        "    else:\n",
        "        return out\n",
        "\n",
        "space = [(20, 40, 50, 60, 80, 100,),\n",
        "         ('gini', 'entropy'),\n",
        "         (5, 10, 15, 20, 25, 30, 35),\n",
        "         (2, 6, 10, 14, 18, 22, 26, 30),\n",
        "         ('auto', 'sqrt', 'log2'),\n",
        "         (True, False),\n",
        "        ]\n",
        "\n",
        "try:\n",
        "    res_fm = forest_minimize(objective, space, n_calls=num_thread,\n",
        "                     random_state=10,base_estimator= 'RF',acq_func='PI',\n",
        "                     verbose=True, n_jobs=-1)\n",
        "except ValueError:\n",
        "    print('Forest diverged, random search intialized')\n",
        "    res_fm = dummy_minimize(objective, space, n_calls=num_thread,\n",
        "         random_state=10,\n",
        "         verbose=True)\n",
        "\n",
        "print('Maximimum Recall_score found: {:6.5f}'.format(-res_fm.fun))\n",
        "print('Optimal parameters:')\n",
        "\n",
        "for (p, x_) in zip(params, res_fm.x):\n",
        "    print('{}: {}'.format(p, x_))\n",
        "from skopt.plots import plot_convergence\n",
        "plot_convergence(res_fm);"
      ]
    },
    {
      "cell_type": "code",
      "execution_count": null,
      "metadata": {
        "id": "GA7DPmOkGq9R",
        "outputId": "fdd79b1d-b408-4343-8350-e4a6860091f4"
      },
      "outputs": [
        {
          "data": {
            "text/plain": [
              "RandomForestClassifier(bootstrap=False, criterion='entropy',\n",
              "                       max_features='sqrt', min_samples_leaf=2,\n",
              "                       min_samples_split=15, n_estimators=50, random_state=10)"
            ]
          },
          "execution_count": 7,
          "metadata": {},
          "output_type": "execute_result"
        }
      ],
      "source": [
        "# Train the Random Forest Model\n",
        "model = RandomForestClassifier(n_estimators = 50, criterion = 'entropy',  min_samples_split = 15, min_samples_leaf = 2, max_features= 'sqrt', bootstrap = False, random_state = 10)\n",
        "\n",
        "model.fit(x_train, y_train)"
      ]
    },
    {
      "cell_type": "code",
      "execution_count": null,
      "metadata": {
        "id": "yksuHpxAGq9S"
      },
      "outputs": [],
      "source": [
        "# Predict using the trained RF model\n",
        "y_pred = model.predict(x_test)\n",
        "\n",
        "# Assigning the labels integer with classes names\n",
        "y_actual = y_test.astype('object')\n",
        "y_predicted = y_pred.astype('object')\n",
        "\n",
        "\n",
        "for i in range(len(labels)):\n",
        "    y_actual[y_actual == i] = labels[i]\n",
        "    y_predicted[y_predicted == i] = labels[i]"
      ]
    },
    {
      "cell_type": "code",
      "execution_count": null,
      "metadata": {
        "scrolled": true,
        "id": "4OgTZRXgGq9S",
        "outputId": "153bead5-6797-447d-c5e7-fd000c3f0d8f"
      },
      "outputs": [
        {
          "name": "stdout",
          "output_type": "stream",
          "text": [
            "              precision    recall  f1-score   support\n",
            "\n",
            "      Normal       0.97      0.95      0.96       371\n",
            "   Pneumonia       0.97      0.98      0.97       410\n",
            "Tuberculosis       0.97      0.98      0.98       389\n",
            "\n",
            "    accuracy                           0.97      1170\n",
            "   macro avg       0.97      0.97      0.97      1170\n",
            "weighted avg       0.97      0.97      0.97      1170\n",
            "\n"
          ]
        },
        {
          "data": {
            "image/png": "[encoded data removed]",
            "text/plain": [
              "<Figure size 504x360 with 2 Axes>"
            ]
          },
          "metadata": {
            "needs_background": "light"
          },
          "output_type": "display_data"
        }
      ],
      "source": [
        "# Print the classification report \n",
        "print(classification_report(y_actual, y_predicted, digits = 2))\n",
        "\n",
        "# Plot the Confusion Matrix\n",
        "y_actual = pd.Series(y_actual, name='Actual')\n",
        "y_predicted = pd.Series(y_predicted, name='Predicted')\n",
        "confusion_matrix = pd.crosstab(y_actual, y_predicted, rownames=['Actual'], colnames=['Predicted'])\n",
        "plt.figure(figsize = (7,5))\n",
        "sns.heatmap(confusion_matrix, annot=True,fmt='d',cmap=\"YlGnBu\").set_title(\n",
        "    \"Confusion Matrix for RandomForest\", fontsize=16)\n",
        "plt.show()"
      ]
    },
    {
      "cell_type": "code",
      "execution_count": null,
      "metadata": {
        "id": "JhA57PmIGq9T"
      },
      "outputs": [],
      "source": [
        ""
      ]
    }
  ],
  "metadata": {
    "kernelspec": {
      "display_name": "GPU-ULTRA",
      "language": "python",
      "name": "tf"
    },
    "language_info": {
      "codemirror_mode": {
        "name": "ipython",
        "version": 3
      },
      "file_extension": ".py",
      "mimetype": "text/x-python",
      "name": "python",
      "nbconvert_exporter": "python",
      "pygments_lexer": "ipython3",
      "version": "3.8.5"
    },
    "colab": {
      "name": "Random_Forest_Final.ipynb",
      "provenance": []
    }
  },
  "nbformat": 4,
  "nbformat_minor": 0
}