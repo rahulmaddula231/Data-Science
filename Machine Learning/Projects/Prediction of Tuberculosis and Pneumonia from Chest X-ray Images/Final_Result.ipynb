{
  "cells": [
    {
      "cell_type": "code",
      "execution_count": null,
      "metadata": {
        "id": "HWU6x5UPGh15"
      },
      "outputs": [],
      "source": [
        "import numpy as np\n",
        "import matplotlib.pyplot as plt\n",
        "import pandas as pd"
      ]
    },
    {
      "cell_type": "code",
      "execution_count": null,
      "metadata": {
        "id": "h9wstNZLGh1-"
      },
      "outputs": [],
      "source": [
        "xls = pd.ExcelFile(r'C:\\Users\\rahulmaddula\\Desktop\\Sem 2\\Data Driven Modeling\\Assignments\\Project\\Final\\Final_Results.xls')\n",
        "Recall = pd.read_excel(xls, 'Recall')\n",
        "Precision = pd.read_excel(xls, 'Precision')\n",
        "Accuracy = pd.read_excel(xls, 'Accuracy')"
      ]
    },
    {
      "cell_type": "code",
      "execution_count": null,
      "metadata": {
        "id": "54qhy_M4Gh1_",
        "outputId": "29d516ec-384c-4413-bc30-b4978d487854"
      },
      "outputs": [
        {
          "data": {
            "text/html": [
              "<div>\n",
              "<style scoped>\n",
              "    .dataframe tbody tr th:only-of-type {\n",
              "        vertical-align: middle;\n",
              "    }\n",
              "\n",
              "    .dataframe tbody tr th {\n",
              "        vertical-align: top;\n",
              "    }\n",
              "\n",
              "    .dataframe thead th {\n",
              "        text-align: right;\n",
              "    }\n",
              "</style>\n",
              "<table border=\"1\" class=\"dataframe\">\n",
              "  <thead>\n",
              "    <tr style=\"text-align: right;\">\n",
              "      <th></th>\n",
              "      <th>Model</th>\n",
              "      <th>Recall(Normal)</th>\n",
              "      <th>Recall(Pneumonia)</th>\n",
              "      <th>Recall(TB)</th>\n",
              "    </tr>\n",
              "  </thead>\n",
              "  <tbody>\n",
              "    <tr>\n",
              "      <th>0</th>\n",
              "      <td>VGG-16</td>\n",
              "      <td>0.41</td>\n",
              "      <td>1.00</td>\n",
              "      <td>0.99</td>\n",
              "    </tr>\n",
              "    <tr>\n",
              "      <th>1</th>\n",
              "      <td>VGG16 + Random Forest</td>\n",
              "      <td>0.96</td>\n",
              "      <td>0.99</td>\n",
              "      <td>0.98</td>\n",
              "    </tr>\n",
              "    <tr>\n",
              "      <th>2</th>\n",
              "      <td>Random Forest</td>\n",
              "      <td>0.95</td>\n",
              "      <td>0.98</td>\n",
              "      <td>0.98</td>\n",
              "    </tr>\n",
              "    <tr>\n",
              "      <th>3</th>\n",
              "      <td>CNN</td>\n",
              "      <td>0.95</td>\n",
              "      <td>0.98</td>\n",
              "      <td>0.92</td>\n",
              "    </tr>\n",
              "    <tr>\n",
              "      <th>4</th>\n",
              "      <td>CNN + Random Forest</td>\n",
              "      <td>0.96</td>\n",
              "      <td>0.99</td>\n",
              "      <td>0.97</td>\n",
              "    </tr>\n",
              "  </tbody>\n",
              "</table>\n",
              "</div>"
            ],
            "text/plain": [
              "                   Model  Recall(Normal)  Recall(Pneumonia)  Recall(TB)\n",
              "0                 VGG-16            0.41               1.00        0.99\n",
              "1  VGG16 + Random Forest            0.96               0.99        0.98\n",
              "2          Random Forest            0.95               0.98        0.98\n",
              "3                    CNN            0.95               0.98        0.92\n",
              "4    CNN + Random Forest            0.96               0.99        0.97"
            ]
          },
          "execution_count": 3,
          "metadata": {},
          "output_type": "execute_result"
        }
      ],
      "source": [
        "Recall"
      ]
    },
    {
      "cell_type": "code",
      "execution_count": null,
      "metadata": {
        "id": "VKD92O7HGh2A"
      },
      "outputs": [],
      "source": [
        "barWidth = 0.25\n",
        "br1 = np.arange(len(Recall['Model']))\n",
        "br2 = np.array([x + barWidth for x in br1])\n",
        "br3 = np.array([x + barWidth for x in br2])"
      ]
    },
    {
      "cell_type": "code",
      "execution_count": null,
      "metadata": {
        "id": "ufBMuH7DGh2B",
        "outputId": "3f76a765-6404-47fb-cd98-43986643beec"
      },
      "outputs": [
        {
          "data": {
            "image/png": "[encoded data removed]",
            "text/plain": [
              "<Figure size 864x576 with 1 Axes>"
            ]
          },
          "metadata": {
            "needs_background": "light"
          },
          "output_type": "display_data"
        }
      ],
      "source": [
        "plt.subplots(figsize = (12,8))\n",
        "plt.bar(br1, Recall['Recall(Normal)']*100, color = 'b', width = barWidth, edgecolor = 'grey', label = 'Noraml')\n",
        "plt.bar(br2, Recall['Recall(Pneumonia)']*100, color = 'r', width = barWidth, edgecolor = 'grey', label = 'Pneumonia')\n",
        "plt.bar(br3, Recall['Recall(TB)']*100, color = 'g', width = barWidth, edgecolor = 'grey', label = 'TB')\n",
        "\n",
        "plt.xticks([r + barWidth for r in range(len(Recall['Model']))],\n",
        "        [i for i in Recall['Model']])\n",
        "plt.xlabel('Models')\n",
        "plt.ylabel('Recall')\n",
        "plt.legend()\n",
        "plt.show()"
      ]
    },
    {
      "cell_type": "code",
      "execution_count": null,
      "metadata": {
        "id": "rzRdXAKgGh2C",
        "outputId": "e7dc4b1c-3cf7-491f-c6b2-2b27c76cee9a"
      },
      "outputs": [
        {
          "data": {
            "text/html": [
              "<div>\n",
              "<style scoped>\n",
              "    .dataframe tbody tr th:only-of-type {\n",
              "        vertical-align: middle;\n",
              "    }\n",
              "\n",
              "    .dataframe tbody tr th {\n",
              "        vertical-align: top;\n",
              "    }\n",
              "\n",
              "    .dataframe thead th {\n",
              "        text-align: right;\n",
              "    }\n",
              "</style>\n",
              "<table border=\"1\" class=\"dataframe\">\n",
              "  <thead>\n",
              "    <tr style=\"text-align: right;\">\n",
              "      <th></th>\n",
              "      <th>Model</th>\n",
              "      <th>Precision(Normal)</th>\n",
              "      <th>Precision(Pneumonia)</th>\n",
              "      <th>Precision(TB)</th>\n",
              "    </tr>\n",
              "  </thead>\n",
              "  <tbody>\n",
              "    <tr>\n",
              "      <th>0</th>\n",
              "      <td>VGG-16</td>\n",
              "      <td>0.99</td>\n",
              "      <td>0.93</td>\n",
              "      <td>0.65</td>\n",
              "    </tr>\n",
              "    <tr>\n",
              "      <th>1</th>\n",
              "      <td>VGG16 + Random Forest</td>\n",
              "      <td>0.97</td>\n",
              "      <td>0.98</td>\n",
              "      <td>0.98</td>\n",
              "    </tr>\n",
              "    <tr>\n",
              "      <th>2</th>\n",
              "      <td>Random Forest</td>\n",
              "      <td>0.97</td>\n",
              "      <td>0.97</td>\n",
              "      <td>0.97</td>\n",
              "    </tr>\n",
              "    <tr>\n",
              "      <th>3</th>\n",
              "      <td>CNN</td>\n",
              "      <td>0.95</td>\n",
              "      <td>0.98</td>\n",
              "      <td>0.92</td>\n",
              "    </tr>\n",
              "    <tr>\n",
              "      <th>4</th>\n",
              "      <td>CNN + Random Forest</td>\n",
              "      <td>0.97</td>\n",
              "      <td>0.97</td>\n",
              "      <td>0.98</td>\n",
              "    </tr>\n",
              "  </tbody>\n",
              "</table>\n",
              "</div>"
            ],
            "text/plain": [
              "                   Model  Precision(Normal)  Precision(Pneumonia)  \\\n",
              "0                 VGG-16               0.99                  0.93   \n",
              "1  VGG16 + Random Forest               0.97                  0.98   \n",
              "2          Random Forest               0.97                  0.97   \n",
              "3                    CNN               0.95                  0.98   \n",
              "4    CNN + Random Forest               0.97                  0.97   \n",
              "\n",
              "   Precision(TB)  \n",
              "0           0.65  \n",
              "1           0.98  \n",
              "2           0.97  \n",
              "3           0.92  \n",
              "4           0.98  "
            ]
          },
          "execution_count": 6,
          "metadata": {},
          "output_type": "execute_result"
        }
      ],
      "source": [
        "Precision"
      ]
    },
    {
      "cell_type": "code",
      "execution_count": null,
      "metadata": {
        "id": "Cr8SsozcGh2D",
        "outputId": "12fb32e2-d157-4042-c604-d4af8e600374"
      },
      "outputs": [
        {
          "data": {
            "image/png": "[encoded data removed]",
            "text/plain": [
              "<Figure size 864x576 with 1 Axes>"
            ]
          },
          "metadata": {
            "needs_background": "light"
          },
          "output_type": "display_data"
        }
      ],
      "source": [
        "plt.subplots(figsize = (12,8))\n",
        "plt.bar(br1, Precision['Precision(Normal)']*100, color = 'b', width = barWidth, edgecolor = 'grey', label = 'Noraml')\n",
        "plt.bar(br2, Precision['Precision(Pneumonia)']*100, color = 'r', width = barWidth, edgecolor = 'grey', label = 'Pneumonia')\n",
        "plt.bar(br3, Precision['Precision(TB)']*100, color = 'g', width = barWidth, edgecolor = 'grey', label = 'TB')\n",
        "\n",
        "plt.xticks([r + barWidth for r in range(len(Precision['Model']))],\n",
        "        [i for i in Precision['Model']])\n",
        "plt.xlabel('Models')\n",
        "plt.ylabel('Precision')\n",
        "plt.legend()\n",
        "plt.show()"
      ]
    },
    {
      "cell_type": "code",
      "execution_count": null,
      "metadata": {
        "id": "14AsSym8Gh2E",
        "outputId": "e6099757-335c-40bf-c08e-e8a5694fc48b"
      },
      "outputs": [
        {
          "data": {
            "text/html": [
              "<div>\n",
              "<style scoped>\n",
              "    .dataframe tbody tr th:only-of-type {\n",
              "        vertical-align: middle;\n",
              "    }\n",
              "\n",
              "    .dataframe tbody tr th {\n",
              "        vertical-align: top;\n",
              "    }\n",
              "\n",
              "    .dataframe thead th {\n",
              "        text-align: right;\n",
              "    }\n",
              "</style>\n",
              "<table border=\"1\" class=\"dataframe\">\n",
              "  <thead>\n",
              "    <tr style=\"text-align: right;\">\n",
              "      <th></th>\n",
              "      <th>Model</th>\n",
              "      <th>Accuracy</th>\n",
              "      <th>Recall</th>\n",
              "      <th>Precision</th>\n",
              "    </tr>\n",
              "  </thead>\n",
              "  <tbody>\n",
              "    <tr>\n",
              "      <th>0</th>\n",
              "      <td>VGG-16</td>\n",
              "      <td>0.81</td>\n",
              "      <td>0.80</td>\n",
              "      <td>0.86</td>\n",
              "    </tr>\n",
              "    <tr>\n",
              "      <th>1</th>\n",
              "      <td>VGG16 + Random Forest</td>\n",
              "      <td>0.98</td>\n",
              "      <td>0.98</td>\n",
              "      <td>0.98</td>\n",
              "    </tr>\n",
              "    <tr>\n",
              "      <th>2</th>\n",
              "      <td>Random Forest</td>\n",
              "      <td>0.97</td>\n",
              "      <td>0.97</td>\n",
              "      <td>0.97</td>\n",
              "    </tr>\n",
              "    <tr>\n",
              "      <th>3</th>\n",
              "      <td>CNN</td>\n",
              "      <td>0.95</td>\n",
              "      <td>0.95</td>\n",
              "      <td>0.95</td>\n",
              "    </tr>\n",
              "    <tr>\n",
              "      <th>4</th>\n",
              "      <td>CNN + Random Forest</td>\n",
              "      <td>0.97</td>\n",
              "      <td>0.97</td>\n",
              "      <td>0.97</td>\n",
              "    </tr>\n",
              "  </tbody>\n",
              "</table>\n",
              "</div>"
            ],
            "text/plain": [
              "                   Model  Accuracy  Recall  Precision\n",
              "0                 VGG-16      0.81    0.80       0.86\n",
              "1  VGG16 + Random Forest      0.98    0.98       0.98\n",
              "2          Random Forest      0.97    0.97       0.97\n",
              "3                    CNN      0.95    0.95       0.95\n",
              "4    CNN + Random Forest      0.97    0.97       0.97"
            ]
          },
          "execution_count": 8,
          "metadata": {},
          "output_type": "execute_result"
        }
      ],
      "source": [
        "Accuracy"
      ]
    },
    {
      "cell_type": "code",
      "execution_count": null,
      "metadata": {
        "id": "pt_LFdEgGh2F",
        "outputId": "5f3c44cf-7541-44d5-b541-f9a8e375bb88"
      },
      "outputs": [
        {
          "data": {
            "image/png": "[encoded data removed]",
            "text/plain": [
              "<Figure size 864x576 with 1 Axes>"
            ]
          },
          "metadata": {
            "needs_background": "light"
          },
          "output_type": "display_data"
        }
      ],
      "source": [
        "plt.subplots(figsize = (12,8))\n",
        "plt.bar(br1, Accuracy['Accuracy']*100, color = 'b', width = barWidth, edgecolor = 'grey', label = 'Accuracy')\n",
        "plt.bar(br2, Accuracy['Recall']*100, color = 'r', width = barWidth, edgecolor = 'grey', label = 'Recall')\n",
        "plt.bar(br3, Accuracy['Precision']*100, color = 'g', width = barWidth, edgecolor = 'grey', label = 'Precision')\n",
        "\n",
        "plt.xticks([r + barWidth for r in range(len(Accuracy['Model']))],\n",
        "        [i for i in Accuracy['Model']])\n",
        "plt.xlabel('Models')\n",
        "plt.ylabel('Accuracy')\n",
        "plt.legend()\n",
        "plt.show()"
      ]
    },
    {
      "cell_type": "code",
      "execution_count": null,
      "metadata": {
        "id": "GgqLn9n-Gh2G"
      },
      "outputs": [],
      "source": [
        ""
      ]
    }
  ],
  "metadata": {
    "kernelspec": {
      "display_name": "GPU-ULTRA",
      "language": "python",
      "name": "tf"
    },
    "language_info": {
      "codemirror_mode": {
        "name": "ipython",
        "version": 3
      },
      "file_extension": ".py",
      "mimetype": "text/x-python",
      "name": "python",
      "nbconvert_exporter": "python",
      "pygments_lexer": "ipython3",
      "version": "3.8.5"
    },
    "colab": {
      "name": "Final_Result.ipynb",
      "provenance": []
    }
  },
  "nbformat": 4,
  "nbformat_minor": 0
}