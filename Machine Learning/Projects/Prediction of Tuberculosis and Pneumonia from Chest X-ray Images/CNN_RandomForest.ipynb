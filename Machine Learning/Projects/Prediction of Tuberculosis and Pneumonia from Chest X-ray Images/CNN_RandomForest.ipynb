{
  "cells": [
    {
      "cell_type": "code",
      "execution_count": null,
      "metadata": {
        "id": "e4bgdHOoGM1G"
      },
      "outputs": [],
      "source": [
        "# 0 - Normal\n",
        "# 1 - Pneumonia\n",
        "# 2 - Tuberculosis"
      ]
    },
    {
      "cell_type": "code",
      "execution_count": null,
      "metadata": {
        "id": "F-JVaVNDGM1M"
      },
      "outputs": [],
      "source": [
        "import matplotlib.pyplot as plt\n",
        "import numpy as np\n",
        "import os\n",
        "import pandas as pd\n",
        "import seaborn as sns\n",
        "from IPython.display import display, HTML\n",
        "\n",
        "import sklearn\n",
        "from sklearn.model_selection import train_test_split\n",
        "from sklearn.ensemble import RandomForestClassifier\n",
        "from sklearn.metrics import confusion_matrix, classification_report, recall_score, precision_recall_curve\n",
        "\n",
        "from scipy.optimize import brute\n",
        "from skopt import forest_minimize, gbrt_minimize, dummy_minimize\n",
        "from skopt import callbacks\n",
        "\n",
        "import tensorflow as tf\n",
        "from tensorflow import keras\n",
        "from tensorflow.keras.preprocessing import image\n",
        "from tensorflow.keras.preprocessing.image import load_img, img_to_array\n",
        "from tensorflow.keras.models import Sequential, Model\n",
        "from tensorflow.keras.layers import BatchNormalization\n",
        "from tensorflow.keras.layers import Conv2D, MaxPooling2D, Dense, Flatten, Dropout\n",
        "from tensorflow.keras.utils import normalize, to_categorical\n",
        "from tensorflow.keras import optimizers\n",
        "from tensorflow.keras.callbacks import EarlyStopping\n",
        "from tensorflow.keras.metrics import Recall"
      ]
    },
    {
      "cell_type": "code",
      "execution_count": null,
      "metadata": {
        "id": "N0aonaGvGM1N",
        "outputId": "db15a413-8f77-4f26-91b5-216ef3cf03a9"
      },
      "outputs": [
        {
          "name": "stdout",
          "output_type": "stream",
          "text": [
            "1 Physical GPUs, 1 Logical GPUs\n"
          ]
        }
      ],
      "source": [
        "# Code to enable the use of the GPU\n",
        "gpus = tf.config.experimental.list_physical_devices('GPU')\n",
        "if gpus:\n",
        "    try:\n",
        "    # Currently, memory growth needs to be the same across GPUs\n",
        "        for gpu in gpus:\n",
        "            tf.config.experimental.set_memory_growth(gpu, True)\n",
        "        logical_gpus = tf.config.experimental.list_logical_devices('GPU')\n",
        "        print(len(gpus), \"Physical GPUs,\", len(logical_gpus), \"Logical GPUs\")\n",
        "    except RuntimeError as e:\n",
        "    # Memory growth must be set before GPUs have been initialized\n",
        "        print(e)"
      ]
    },
    {
      "cell_type": "code",
      "execution_count": null,
      "metadata": {
        "id": "AdOZy3ljGM1P",
        "outputId": "6858faf2-69ef-4ef3-ea29-440e67912dd1"
      },
      "outputs": [
        {
          "data": {
            "text/html": [
              "<style>\n",
              ".output {\n",
              "    flex-direction: row;\n",
              "}\n",
              "</style>"
            ],
            "text/plain": [
              "<IPython.core.display.HTML object>"
            ]
          },
          "metadata": {},
          "output_type": "display_data"
        }
      ],
      "source": [
        "# Ccode for print report and matrix side by side\n",
        "CSS = \"\"\"\n",
        ".output {\n",
        "    flex-direction: row;\n",
        "}\n",
        "\"\"\"\n",
        "\n",
        "display(HTML('<style>{}</style>'.format(CSS)))\n",
        "\n",
        "labels = [ \"Normal\", \"Pneumonia\", \"Tuberculosis\" ]\n",
        "\n",
        "dataset = []\n",
        "label = []\n",
        "\n",
        "Size = 64"
      ]
    },
    {
      "cell_type": "code",
      "execution_count": null,
      "metadata": {
        "id": "HFX0LSOSGM1Q"
      },
      "outputs": [],
      "source": [
        "#Read each image from the train and test data and assiging labels \n",
        "\n",
        "image_directory = r'C:\\Users\\rahulmaddula\\Desktop\\Sem 2\\Data Driven Modeling\\Assignments\\Project\\Final\\Images'\n",
        "\n",
        "Normal_images = os.listdir(image_directory + '/Normal/')\n",
        "for i, image_name in enumerate(Normal_images):    #Remember enumerate method adds a counter and returns the enumerate object\n",
        "    \n",
        "    if (image_name.split('.')[1] == 'png' or image_name.split('.')[1] == 'jpeg'):\n",
        "        image = load_img(image_directory + '/Normal/' + image_name, color_mode = 'rgb')\n",
        "        \n",
        "        image = image.resize((Size,Size))\n",
        "        dataset.append((img_to_array(image)))\n",
        "        label.append(0)\n",
        "        \n",
        "Pneumonia_images = os.listdir(image_directory + '/Pneumonia/')\n",
        "for i, image_name in enumerate(Pneumonia_images):    #Remember enumerate method adds a counter and returns the enumerate object\n",
        "    \n",
        "    if (image_name.split('.')[1] == 'png' or image_name.split('.')[1] == 'jpeg'):\n",
        "        image = load_img(image_directory + '/Pneumonia/' + image_name, color_mode ='rgb')\n",
        "        \n",
        "        image = image.resize((Size,Size))\n",
        "        dataset.append((img_to_array(image)))\n",
        "        label.append(1)\n",
        "\n",
        "Tuberculosis_images = os.listdir(image_directory + '/Tuberculosis/')\n",
        "for i, image_name in enumerate(Tuberculosis_images):    #Remember enumerate method adds a counter and returns the enumerate object\n",
        "\n",
        "    if (image_name.split('.')[1] == 'png' or image_name.split('.')[1] == 'jpeg'):\n",
        "        image = load_img(image_directory + '/Tuberculosis/' + image_name, color_mode ='rgb')\n",
        "        \n",
        "        image = image.resize((Size,Size))\n",
        "        dataset.append((img_to_array(image)))\n",
        "        label.append(2)\n",
        "        "
      ]
    },
    {
      "cell_type": "code",
      "execution_count": null,
      "metadata": {
        "scrolled": true,
        "id": "I6bst77cGM1S"
      },
      "outputs": [],
      "source": [
        "#Processing the data to as input for the neural network\n",
        "x_data = np.array(dataset)\n",
        "\n",
        "\n",
        "#One hot encode y values for neural network. \n",
        "y_labels = to_categorical(label)\n",
        "\n",
        "# Split the data for train and test\n",
        "x_train, x_test, y_train, y_test = train_test_split(x_data, y_labels, test_size = 0.1, random_state = 60616)"
      ]
    },
    {
      "cell_type": "code",
      "execution_count": null,
      "metadata": {
        "scrolled": false,
        "id": "NEU0ZrB7GM1T",
        "outputId": "234b44bf-8552-4bb2-e8bd-7b94f591794c"
      },
      "outputs": [
        {
          "name": "stdout",
          "output_type": "stream",
          "text": [
            "Model: \"sequential\"\n",
            "_________________________________________________________________\n",
            "Layer (type)                 Output Shape              Param #   \n",
            "=================================================================\n",
            "conv2d (Conv2D)              (None, 64, 64, 32)        896       \n",
            "_________________________________________________________________\n",
            "batch_normalization (BatchNo (None, 64, 64, 32)        128       \n",
            "_________________________________________________________________\n",
            "max_pooling2d (MaxPooling2D) (None, 32, 32, 32)        0         \n",
            "_________________________________________________________________\n",
            "flatten (Flatten)            (None, 32768)             0         \n",
            "=================================================================\n",
            "Total params: 1,024\n",
            "Trainable params: 960\n",
            "Non-trainable params: 64\n",
            "_________________________________________________________________\n",
            "None\n"
          ]
        }
      ],
      "source": [
        "#Setting the feature extraction model\n",
        "model = Sequential()\n",
        "model.add(Conv2D(32, (3,3), activation = 'relu', padding = 'same', input_shape = (Size, Size, 3)))\n",
        "model.add(BatchNormalization())\n",
        "model.add(MaxPooling2D(pool_size=2, strides=2))\n",
        "\n",
        "model.add(Flatten())\n",
        "\n",
        "print(model.summary())"
      ]
    },
    {
      "cell_type": "code",
      "execution_count": null,
      "metadata": {
        "id": "JSp70Hs_GM1U",
        "outputId": "bdf722c3-73b9-4301-ec81-b625caefe171"
      },
      "outputs": [
        {
          "name": "stdout",
          "output_type": "stream",
          "text": [
            "Model: \"functional_1\"\n",
            "_________________________________________________________________\n",
            "Layer (type)                 Output Shape              Param #   \n",
            "=================================================================\n",
            "conv2d_input (InputLayer)    [(None, 64, 64, 3)]       0         \n",
            "_________________________________________________________________\n",
            "conv2d (Conv2D)              (None, 64, 64, 32)        896       \n",
            "_________________________________________________________________\n",
            "batch_normalization (BatchNo (None, 64, 64, 32)        128       \n",
            "_________________________________________________________________\n",
            "max_pooling2d (MaxPooling2D) (None, 32, 32, 32)        0         \n",
            "_________________________________________________________________\n",
            "flatten (Flatten)            (None, 32768)             0         \n",
            "_________________________________________________________________\n",
            "dense (Dense)                (None, 3)                 98307     \n",
            "=================================================================\n",
            "Total params: 99,331\n",
            "Trainable params: 99,267\n",
            "Non-trainable params: 64\n",
            "_________________________________________________________________\n",
            "None\n"
          ]
        }
      ],
      "source": [
        "#Add fully connected layers for deep learning prediction\n",
        "x = model.output  \n",
        "prediction_layer = Dense(3, activation = 'softmax')(x)\n",
        "\n",
        "# Make a new model combining both feature extractor and x\n",
        "cnn_model = Model(inputs=model.input, outputs=prediction_layer)\n",
        "\n",
        "sgd_optimizer = optimizers.SGD(momentum=0.8)\n",
        "cnn_model.compile(optimizer=sgd_optimizer, loss = 'categorical_crossentropy', metrics = [Recall()])\n",
        "print(cnn_model.summary()) "
      ]
    },
    {
      "cell_type": "code",
      "execution_count": null,
      "metadata": {
        "scrolled": true,
        "id": "aUWeoHN1GM1V",
        "outputId": "b8dbfe2a-024b-4c7d-99d2-ed0305ed379b"
      },
      "outputs": [
        {
          "name": "stdout",
          "output_type": "stream",
          "text": [
            "Epoch 1/20\n",
            "165/165 [==============================] - 1s 8ms/step - loss: 1.1784 - recall: 0.8703 - val_loss: 0.4648 - val_recall: 0.8590\n",
            "Epoch 2/20\n",
            "165/165 [==============================] - 1s 6ms/step - loss: 0.2678 - recall: 0.9190 - val_loss: 0.7249 - val_recall: 0.8034\n",
            "Epoch 3/20\n",
            "165/165 [==============================] - 1s 6ms/step - loss: 0.1721 - recall: 0.9400 - val_loss: 0.1947 - val_recall: 0.9342\n",
            "Epoch 4/20\n",
            "165/165 [==============================] - 1s 6ms/step - loss: 0.1437 - recall: 0.9495 - val_loss: 0.2011 - val_recall: 0.9308\n",
            "Epoch 5/20\n",
            "165/165 [==============================] - 1s 6ms/step - loss: 0.1257 - recall: 0.9562 - val_loss: 0.1897 - val_recall: 0.9402\n",
            "Epoch 6/20\n",
            "165/165 [==============================] - 1s 6ms/step - loss: 0.1140 - recall: 0.9604 - val_loss: 0.1930 - val_recall: 0.9453\n",
            "Epoch 7/20\n",
            "165/165 [==============================] - 1s 6ms/step - loss: 0.1033 - recall: 0.9654 - val_loss: 0.1941 - val_recall: 0.9462\n",
            "Epoch 8/20\n",
            "165/165 [==============================] - 1s 6ms/step - loss: 0.0983 - recall: 0.9690 - val_loss: 0.1849 - val_recall: 0.9504\n",
            "Epoch 9/20\n",
            "165/165 [==============================] - 1s 6ms/step - loss: 0.0974 - recall: 0.9685 - val_loss: 0.1965 - val_recall: 0.9419\n",
            "Epoch 10/20\n",
            "165/165 [==============================] - 1s 6ms/step - loss: 0.0835 - recall: 0.9736 - val_loss: 0.1744 - val_recall: 0.9530\n",
            "Epoch 11/20\n",
            "165/165 [==============================] - 1s 6ms/step - loss: 0.0729 - recall: 0.9780 - val_loss: 0.1680 - val_recall: 0.9547\n",
            "Epoch 12/20\n",
            "165/165 [==============================] - 1s 6ms/step - loss: 0.0672 - recall: 0.9793 - val_loss: 0.1668 - val_recall: 0.9530\n",
            "Epoch 13/20\n",
            "165/165 [==============================] - 1s 6ms/step - loss: 0.0601 - recall: 0.9826 - val_loss: 0.1718 - val_recall: 0.9513\n",
            "Epoch 14/20\n",
            "165/165 [==============================] - 1s 6ms/step - loss: 0.0556 - recall: 0.9846 - val_loss: 0.1777 - val_recall: 0.9470\n",
            "Epoch 15/20\n",
            "165/165 [==============================] - 1s 6ms/step - loss: 0.0504 - recall: 0.9851 - val_loss: 0.1969 - val_recall: 0.9462\n",
            "Epoch 16/20\n",
            "165/165 [==============================] - 1s 6ms/step - loss: 0.0426 - recall: 0.9885 - val_loss: 0.1962 - val_recall: 0.9419\n",
            "Epoch 17/20\n",
            "165/165 [==============================] - 1s 6ms/step - loss: 0.0393 - recall: 0.9889 - val_loss: 0.1985 - val_recall: 0.9530\n",
            "Epoch 18/20\n",
            "165/165 [==============================] - 1s 6ms/step - loss: 0.0357 - recall: 0.9899 - val_loss: 0.2022 - val_recall: 0.9504\n",
            "Epoch 19/20\n",
            "165/165 [==============================] - 1s 6ms/step - loss: 0.0365 - recall: 0.9899 - val_loss: 0.2541 - val_recall: 0.9427\n",
            "Epoch 20/20\n",
            "165/165 [==============================] - 1s 6ms/step - loss: 0.0328 - recall: 0.9899 - val_loss: 0.2241 - val_recall: 0.9530\n"
          ]
        }
      ],
      "source": [
        "# Train the CNN Model\n",
        "\n",
        "my_callback = [EarlyStopping(monitor = 'val_recall', mode = 'max', patience = 3)]\n",
        "\n",
        "\n",
        "history = cnn_model.fit(x_train, y_train, epochs=20, validation_data=(x_test, y_test), shuffle = False, batch_size=64)"
      ]
    },
    {
      "cell_type": "code",
      "execution_count": null,
      "metadata": {
        "id": "9-WHzBHGGM1W"
      },
      "outputs": [],
      "source": [
        "#Predict the label for test data\n",
        "y_pred = cnn_model.predict(x_test)\n",
        "\n",
        "# Converting the predicted values into a array of label\n",
        "y_true_1 = np.array([np.argmax(y, axis=None, out=None) for y in y_test])\n",
        "y_predict_1 = np.array([np.argmax(y, axis=None, out=None) for y in y_pred])"
      ]
    },
    {
      "cell_type": "code",
      "execution_count": null,
      "metadata": {
        "id": "d63MkgLoGM1X"
      },
      "outputs": [],
      "source": [
        "# Assigning the labels integer with classes names\n",
        "y_actual_1 = y_true_1.astype('object')\n",
        "y_predicted_1 = y_predict_1.astype('object')\n",
        "\n",
        "\n",
        "for i in range(len(labels)):\n",
        "    y_actual_1[y_actual_1 == i] = labels[i]\n",
        "    y_predicted_1[y_predicted_1 == i] = labels[i]\n"
      ]
    },
    {
      "cell_type": "code",
      "execution_count": null,
      "metadata": {
        "id": "Ls2fkiFYGM1X",
        "outputId": "cfb01ec9-7884-4015-bbf5-7265759ee6ca"
      },
      "outputs": [
        {
          "name": "stdout",
          "output_type": "stream",
          "text": [
            "              precision    recall  f1-score   support\n",
            "\n",
            "      Normal       0.93      0.95      0.94       377\n",
            "   Pneumonia       0.95      0.98      0.97       430\n",
            "Tuberculosis       0.98      0.92      0.95       363\n",
            "\n",
            "    accuracy                           0.95      1170\n",
            "   macro avg       0.95      0.95      0.95      1170\n",
            "weighted avg       0.95      0.95      0.95      1170\n",
            "\n"
          ]
        },
        {
          "data": {
            "image/png": "[encoded data removed]",
            "text/plain": [
              "<Figure size 504x360 with 2 Axes>"
            ]
          },
          "metadata": {
            "needs_background": "light"
          },
          "output_type": "display_data"
        }
      ],
      "source": [
        "# Print the classification report\n",
        "\n",
        "print(classification_report(y_actual_1, y_predicted_1))\n",
        "\n",
        "# Plot the Confusion Matrix \n",
        "\n",
        "y_actual_1 = pd.Series(y_actual_1, name='Actual')\n",
        "y_predicted_1 = pd.Series(y_predicted_1, name='Predicted')\n",
        "confusion_matrix = pd.crosstab(y_actual_1, y_predicted_1, rownames=['Actual'], colnames=['Predicted'])\n",
        "plt.figure(figsize = (7,5))\n",
        "sns.heatmap(confusion_matrix, annot=True,fmt='d',cmap=\"YlGnBu\").set_title(\n",
        "    \"Confusion Matrix for CNN\", fontsize=16)\n",
        "plt.show()"
      ]
    },
    {
      "cell_type": "markdown",
      "metadata": {
        "id": "K2PXYHHnGM1Y"
      },
      "source": [
        "# CNN + RandomForest"
      ]
    },
    {
      "cell_type": "code",
      "execution_count": null,
      "metadata": {
        "id": "wb1yGeZ6GM1a"
      },
      "outputs": [],
      "source": [
        "# Input for the Radom Forest model for training\n",
        "\n",
        "x_train_feature =  model.predict(x_train)\n",
        "\n",
        "# Input for the Radom Forest model for prediction\n",
        "\n",
        "x_test_feature = model.predict(x_test)"
      ]
    },
    {
      "cell_type": "code",
      "execution_count": null,
      "metadata": {
        "scrolled": true,
        "id": "YeGuAgOSGM1b",
        "outputId": "77d706c1-1039-4e09-d774-9ba5f964db04"
      },
      "outputs": [
        {
          "name": "stdout",
          "output_type": "stream",
          "text": [
            "Iteration No: 1 started. Evaluating function at random point.\n",
            "Iteration No: 1 ended. Evaluation done at random point.\n",
            "Time taken: 70.8900\n",
            "Function value obtained: -0.9487\n",
            "Current minimum: -0.9487\n",
            "Iteration No: 2 started. Evaluating function at random point.\n",
            "Iteration No: 2 ended. Evaluation done at random point.\n",
            "Time taken: 66.0014\n",
            "Function value obtained: -0.9410\n",
            "Current minimum: -0.9487\n",
            "Iteration No: 3 started. Evaluating function at random point.\n",
            "Iteration No: 3 ended. Evaluation done at random point.\n",
            "Time taken: 5.0857\n",
            "Function value obtained: -0.9162\n",
            "Current minimum: -0.9487\n",
            "Iteration No: 4 started. Evaluating function at random point.\n",
            "Iteration No: 4 ended. Evaluation done at random point.\n",
            "Time taken: 20.6891\n",
            "Function value obtained: -0.9368\n",
            "Current minimum: -0.9487\n",
            "Iteration No: 5 started. Evaluating function at random point.\n",
            "Iteration No: 5 ended. Evaluation done at random point.\n",
            "Time taken: 144.0391\n",
            "Function value obtained: -0.9436\n",
            "Current minimum: -0.9487\n",
            "Iteration No: 6 started. Evaluating function at random point.\n",
            "Iteration No: 6 ended. Evaluation done at random point.\n",
            "Time taken: 46.2381\n",
            "Function value obtained: -0.9462\n",
            "Current minimum: -0.9487\n",
            "Iteration No: 7 started. Evaluating function at random point.\n",
            "Iteration No: 7 ended. Evaluation done at random point.\n",
            "Time taken: 49.7354\n",
            "Function value obtained: -0.9282\n",
            "Current minimum: -0.9487\n",
            "Iteration No: 8 started. Evaluating function at random point.\n",
            "Iteration No: 8 ended. Evaluation done at random point.\n",
            "Time taken: 31.0876\n",
            "Function value obtained: -0.9350\n",
            "Current minimum: -0.9487\n",
            "Iteration No: 9 started. Evaluating function at random point.\n",
            "Iteration No: 9 ended. Evaluation done at random point.\n",
            "Time taken: 8.2027\n",
            "Function value obtained: -0.9256\n",
            "Current minimum: -0.9487\n",
            "Iteration No: 10 started. Evaluating function at random point.\n",
            "Iteration No: 10 ended. Evaluation done at random point.\n",
            "Time taken: 9.9550\n",
            "Function value obtained: -0.9444\n",
            "Current minimum: -0.9487\n",
            "Iteration No: 11 started. Searching for the next optimal point.\n",
            "Iteration No: 11 ended. Search finished for the next optimal point.\n",
            "Time taken: 22.7251\n",
            "Function value obtained: -0.9274\n",
            "Current minimum: -0.9487\n",
            "Iteration No: 12 started. Searching for the next optimal point.\n",
            "Iteration No: 12 ended. Search finished for the next optimal point.\n",
            "Time taken: 3.8724\n",
            "Function value obtained: -0.9171\n",
            "Current minimum: -0.9487\n",
            "Iteration No: 13 started. Searching for the next optimal point.\n",
            "Iteration No: 13 ended. Search finished for the next optimal point.\n",
            "Time taken: 7.2716\n",
            "Function value obtained: -0.9385\n",
            "Current minimum: -0.9487\n",
            "Iteration No: 14 started. Searching for the next optimal point.\n",
            "Iteration No: 14 ended. Search finished for the next optimal point.\n",
            "Time taken: 39.4229\n",
            "Function value obtained: -0.9325\n",
            "Current minimum: -0.9487\n",
            "Iteration No: 15 started. Searching for the next optimal point.\n",
            "Iteration No: 15 ended. Search finished for the next optimal point.\n",
            "Time taken: 6.9651\n",
            "Function value obtained: -0.9333\n",
            "Current minimum: -0.9487\n",
            "Iteration No: 16 started. Searching for the next optimal point.\n",
            "Iteration No: 16 ended. Search finished for the next optimal point.\n",
            "Time taken: 66.2023\n",
            "Function value obtained: -0.9359\n",
            "Current minimum: -0.9487\n",
            "Iteration No: 17 started. Searching for the next optimal point.\n",
            "Iteration No: 17 ended. Search finished for the next optimal point.\n",
            "Time taken: 23.3473\n",
            "Function value obtained: -0.9333\n",
            "Current minimum: -0.9487\n",
            "Iteration No: 18 started. Searching for the next optimal point.\n",
            "Iteration No: 18 ended. Search finished for the next optimal point.\n",
            "Time taken: 130.0989\n",
            "Function value obtained: -0.9410\n",
            "Current minimum: -0.9487\n",
            "Iteration No: 19 started. Searching for the next optimal point.\n",
            "Iteration No: 19 ended. Search finished for the next optimal point.\n",
            "Time taken: 129.8718\n",
            "Function value obtained: -0.9410\n",
            "Current minimum: -0.9487\n",
            "Iteration No: 20 started. Searching for the next optimal point.\n",
            "Iteration No: 20 ended. Search finished for the next optimal point.\n",
            "Time taken: 8.5316\n",
            "Function value obtained: -0.9479\n",
            "Current minimum: -0.9487\n",
            "Iteration No: 21 started. Searching for the next optimal point.\n",
            "Iteration No: 21 ended. Search finished for the next optimal point.\n",
            "Time taken: 7.1722\n",
            "Function value obtained: -0.9205\n",
            "Current minimum: -0.9487\n",
            "Iteration No: 22 started. Searching for the next optimal point.\n",
            "Iteration No: 22 ended. Search finished for the next optimal point.\n",
            "Time taken: 7.5516\n",
            "Function value obtained: -0.9265\n",
            "Current minimum: -0.9487\n",
            "Iteration No: 23 started. Searching for the next optimal point.\n",
            "Iteration No: 23 ended. Search finished for the next optimal point.\n",
            "Time taken: 8.0138\n",
            "Function value obtained: -0.9333\n",
            "Current minimum: -0.9487\n",
            "Iteration No: 24 started. Searching for the next optimal point.\n",
            "Iteration No: 24 ended. Search finished for the next optimal point.\n",
            "Time taken: 116.3142\n",
            "Function value obtained: -0.9650\n",
            "Current minimum: -0.9650\n",
            "Iteration No: 25 started. Searching for the next optimal point.\n",
            "Iteration No: 25 ended. Search finished for the next optimal point.\n",
            "Time taken: 60.8333\n",
            "Function value obtained: -0.9487\n",
            "Current minimum: -0.9650\n",
            "Iteration No: 26 started. Searching for the next optimal point.\n",
            "Iteration No: 26 ended. Search finished for the next optimal point.\n",
            "Time taken: 45.6246\n",
            "Function value obtained: -0.9333\n",
            "Current minimum: -0.9650\n",
            "Iteration No: 27 started. Searching for the next optimal point.\n",
            "Iteration No: 27 ended. Search finished for the next optimal point.\n",
            "Time taken: 54.9482\n",
            "Function value obtained: -0.9462\n",
            "Current minimum: -0.9650\n",
            "Iteration No: 28 started. Searching for the next optimal point.\n",
            "Iteration No: 28 ended. Search finished for the next optimal point.\n",
            "Time taken: 77.8404\n",
            "Function value obtained: -0.9308\n",
            "Current minimum: -0.9650\n",
            "Iteration No: 29 started. Searching for the next optimal point.\n",
            "Iteration No: 29 ended. Search finished for the next optimal point.\n",
            "Time taken: 95.7170\n",
            "Function value obtained: -0.9521\n",
            "Current minimum: -0.9650\n",
            "Iteration No: 30 started. Searching for the next optimal point.\n",
            "Iteration No: 30 ended. Search finished for the next optimal point.\n",
            "Time taken: 102.2980\n",
            "Function value obtained: -0.9581\n",
            "Current minimum: -0.9650\n",
            "Iteration No: 31 started. Searching for the next optimal point.\n",
            "Iteration No: 31 ended. Search finished for the next optimal point.\n",
            "Time taken: 102.4069\n",
            "Function value obtained: -0.9581\n",
            "Current minimum: -0.9650\n",
            "Iteration No: 32 started. Searching for the next optimal point.\n",
            "Iteration No: 32 ended. Search finished for the next optimal point.\n",
            "Time taken: 8.7759\n",
            "Function value obtained: -0.9479\n",
            "Current minimum: -0.9650\n",
            "Iteration No: 33 started. Searching for the next optimal point.\n"
          ]
        },
        {
          "name": "stderr",
          "output_type": "stream",
          "text": [
            "C:\\Users\\jainp\\anaconda3\\envs\\tf\\lib\\site-packages\\skopt\\optimizer\\optimizer.py:449: UserWarning: The objective has been evaluated at this point before.\n",
            "  warnings.warn(\"The objective has been evaluated \"\n"
          ]
        },
        {
          "name": "stdout",
          "output_type": "stream",
          "text": [
            "Iteration No: 33 ended. Search finished for the next optimal point.\n",
            "Time taken: 8.8636\n",
            "Function value obtained: -0.9479\n",
            "Current minimum: -0.9650\n",
            "Iteration No: 34 started. Searching for the next optimal point.\n",
            "Iteration No: 34 ended. Search finished for the next optimal point.\n",
            "Time taken: 80.9320\n",
            "Function value obtained: -0.9410\n",
            "Current minimum: -0.9650\n",
            "Iteration No: 35 started. Searching for the next optimal point.\n",
            "Iteration No: 35 ended. Search finished for the next optimal point.\n",
            "Time taken: 64.8376\n",
            "Function value obtained: -0.9598\n",
            "Current minimum: -0.9650\n",
            "Iteration No: 36 started. Searching for the next optimal point.\n",
            "Iteration No: 36 ended. Search finished for the next optimal point.\n",
            "Time taken: 39.0798\n",
            "Function value obtained: -0.9504\n",
            "Current minimum: -0.9650\n",
            "Iteration No: 37 started. Searching for the next optimal point.\n",
            "Iteration No: 37 ended. Search finished for the next optimal point.\n",
            "Time taken: 37.9898\n",
            "Function value obtained: -0.9504\n",
            "Current minimum: -0.9650\n",
            "Iteration No: 38 started. Searching for the next optimal point.\n",
            "Iteration No: 38 ended. Search finished for the next optimal point.\n",
            "Time taken: 86.4200\n",
            "Function value obtained: -0.9436\n",
            "Current minimum: -0.9650\n",
            "Iteration No: 39 started. Searching for the next optimal point.\n",
            "Iteration No: 39 ended. Search finished for the next optimal point.\n",
            "Time taken: 52.3017\n",
            "Function value obtained: -0.9393\n",
            "Current minimum: -0.9650\n",
            "Iteration No: 40 started. Searching for the next optimal point.\n",
            "Iteration No: 40 ended. Search finished for the next optimal point.\n",
            "Time taken: 69.1647\n",
            "Function value obtained: -0.9504\n",
            "Current minimum: -0.9650\n",
            "Iteration No: 41 started. Searching for the next optimal point.\n",
            "Iteration No: 41 ended. Search finished for the next optimal point.\n",
            "Time taken: 9.0222\n",
            "Function value obtained: -0.9462\n",
            "Current minimum: -0.9650\n",
            "Iteration No: 42 started. Searching for the next optimal point.\n",
            "Iteration No: 42 ended. Search finished for the next optimal point.\n",
            "Time taken: 68.1524\n",
            "Function value obtained: -0.9504\n",
            "Current minimum: -0.9650\n",
            "Iteration No: 43 started. Searching for the next optimal point.\n",
            "Iteration No: 43 ended. Search finished for the next optimal point.\n",
            "Time taken: 5.7946\n",
            "Function value obtained: -0.9462\n",
            "Current minimum: -0.9650\n",
            "Iteration No: 44 started. Searching for the next optimal point.\n",
            "Iteration No: 44 ended. Search finished for the next optimal point.\n",
            "Time taken: 1.8272\n",
            "Function value obtained: -0.9308\n",
            "Current minimum: -0.9650\n",
            "Iteration No: 45 started. Searching for the next optimal point.\n"
          ]
        },
        {
          "name": "stderr",
          "output_type": "stream",
          "text": [
            "C:\\Users\\jainp\\anaconda3\\envs\\tf\\lib\\site-packages\\skopt\\optimizer\\optimizer.py:449: UserWarning: The objective has been evaluated at this point before.\n",
            "  warnings.warn(\"The objective has been evaluated \"\n"
          ]
        },
        {
          "name": "stdout",
          "output_type": "stream",
          "text": [
            "Iteration No: 45 ended. Search finished for the next optimal point.\n",
            "Time taken: 68.6101\n",
            "Function value obtained: -0.9504\n",
            "Current minimum: -0.9650\n",
            "Iteration No: 46 started. Searching for the next optimal point.\n",
            "Iteration No: 46 ended. Search finished for the next optimal point.\n",
            "Time taken: 60.5184\n",
            "Function value obtained: -0.9521\n",
            "Current minimum: -0.9650\n",
            "Iteration No: 47 started. Searching for the next optimal point.\n",
            "Iteration No: 47 ended. Search finished for the next optimal point.\n",
            "Time taken: 37.8060\n",
            "Function value obtained: -0.9444\n",
            "Current minimum: -0.9650\n",
            "Iteration No: 48 started. Searching for the next optimal point.\n",
            "Iteration No: 48 ended. Search finished for the next optimal point.\n",
            "Time taken: 5.4785\n",
            "Function value obtained: -0.9496\n",
            "Current minimum: -0.9650\n",
            "Iteration No: 49 started. Searching for the next optimal point.\n",
            "Iteration No: 49 ended. Search finished for the next optimal point.\n",
            "Time taken: 57.8312\n",
            "Function value obtained: -0.9521\n",
            "Current minimum: -0.9650\n",
            "Iteration No: 50 started. Searching for the next optimal point.\n",
            "Iteration No: 50 ended. Search finished for the next optimal point.\n",
            "Time taken: 45.0676\n",
            "Function value obtained: -0.9547\n",
            "Current minimum: -0.9650\n",
            "Maximimum Recall_score found: 0.96496\n",
            "Optimal parameters:\n",
            "n_estimators: 80\n",
            "criterion: gini\n",
            "min_samples_split: 10\n",
            "min_samples_leaf: 2\n",
            "max_features: sqrt\n",
            "bootstrap: False\n"
          ]
        },
        {
          "data": {
            "image/png": "[encoded data removed]",
            "text/plain": [
              "<Figure size 432x288 with 1 Axes>"
            ]
          },
          "metadata": {
            "needs_background": "light"
          },
          "output_type": "display_data"
        }
      ],
      "source": [
        "# Hyperparameters tuning for Random Forest Parameters\n",
        "# Bayesian Optimization\n",
        "\n",
        "num_thread= 50\n",
        "params = ['n_estimators', 'criterion', 'min_samples_split', 'min_samples_leaf', 'max_features','bootstrap']\n",
        "\n",
        "#for model include item_Features\n",
        "def objective(params):\n",
        "    # unpack\n",
        "    n_estimators, criterion, min_samples_split, min_samples_leaf, max_features, bootstrap = params\n",
        "    \n",
        "    model_iii = RandomForestClassifier(n_estimators=n_estimators, criterion=criterion, min_samples_split=min_samples_split, min_samples_leaf=min_samples_leaf, max_features=max_features, bootstrap = bootstrap, random_state=60616)\n",
        "    model_iii.fit(x_train_feature, y_train)\n",
        "    \n",
        "    prediction_test = model_iii.predict(x_test_feature)\n",
        "    recall = recall_score(y_test, prediction_test, average='micro')\n",
        "\n",
        "    out = -recall\n",
        "    # Handle some numerical issue going on\n",
        "    if np.abs(out + 1) < 0.01 or out < -1.0:\n",
        "        return 0.0\n",
        "    else:\n",
        "        return out\n",
        "\n",
        "space = [(20, 40, 50, 60, 80, 100,),\n",
        "         ('gini', 'entropy'),\n",
        "         (5, 10, 15, 20, 25, 30, 35),\n",
        "         (2, 6, 10, 14, 18, 22, 26, 30),\n",
        "         ('auto', 'sqrt', 'log2'),\n",
        "         (True, False),\n",
        "        ]\n",
        "\n",
        "try:\n",
        "    res_fm = forest_minimize(objective, space, n_calls=num_thread,\n",
        "                     random_state=60616,base_estimator= 'RF',acq_func='PI',\n",
        "                     verbose=True, n_jobs= -1)\n",
        "except ValueError:\n",
        "    print('Forest diverged, random search intialized')\n",
        "    res_fm = dummy_minimize(objective, space, n_calls=num_thread,\n",
        "         random_state=60616,\n",
        "         verbose=True)\n",
        "\n",
        "print('Maximimum Recall_score found: {:6.5f}'.format(-res_fm.fun))\n",
        "print('Optimal parameters:')\n",
        "\n",
        "for (p, x_) in zip(params, res_fm.x):\n",
        "    print('{}: {}'.format(p, x_))\n",
        "from skopt.plots import plot_convergence\n",
        "plot_convergence(res_fm);"
      ]
    },
    {
      "cell_type": "code",
      "execution_count": null,
      "metadata": {
        "id": "uqBi7eBxGM1b",
        "outputId": "41cfe629-e610-4c85-af9d-5ce105dbb5f6"
      },
      "outputs": [
        {
          "data": {
            "text/plain": [
              "RandomForestClassifier(bootstrap=False, max_features='sqrt', min_samples_leaf=2,\n",
              "                       min_samples_split=10, n_estimators=80,\n",
              "                       random_state=60616)"
            ]
          },
          "execution_count": 15,
          "metadata": {},
          "output_type": "execute_result"
        }
      ],
      "source": [
        "# Train the Random Forest Model\n",
        "RF_model = RandomForestClassifier(n_estimators = 80, criterion = 'gini', min_samples_split = 10, min_samples_leaf = 2, max_features= 'sqrt', bootstrap = False, random_state = 60616)\n",
        "\n",
        "RF_model.fit(x_train_feature, y_train)"
      ]
    },
    {
      "cell_type": "code",
      "execution_count": null,
      "metadata": {
        "id": "zzQmJIj6GM1c"
      },
      "outputs": [],
      "source": [
        "#Now predict using the trained RF model\n",
        "y_pred_RF = RF_model.predict(x_test_feature)\n",
        "\n",
        "# Converting the predicted values into a array of label\n",
        "y_true = (np.array([np.argmax(y, axis=None, out=None) for y in y_test]))\n",
        "y_predict = (np.array([np.argmax(y, axis=None, out=None) for y in y_pred_RF]))"
      ]
    },
    {
      "cell_type": "code",
      "execution_count": null,
      "metadata": {
        "id": "j_tzH6NHGM1d"
      },
      "outputs": [],
      "source": [
        "# Assigning the labels integer with classes names\n",
        "\n",
        "y_actual = y_true.astype('object')\n",
        "y_predicted = y_predict.astype('object')\n",
        "\n",
        "for i in range(len(labels)):\n",
        "    y_actual[y_actual == i] = labels[i]\n",
        "    y_predicted[y_predicted == i] = labels[i]"
      ]
    },
    {
      "cell_type": "code",
      "execution_count": null,
      "metadata": {
        "id": "15u4XGxQGM1d",
        "outputId": "5292816e-1077-418f-d019-5928bdd25d44"
      },
      "outputs": [
        {
          "name": "stdout",
          "output_type": "stream",
          "text": [
            "              precision    recall  f1-score   support\n",
            "\n",
            "      Normal       0.97      0.96      0.96       377\n",
            "   Pneumonia       0.97      0.99      0.98       430\n",
            "Tuberculosis       0.98      0.97      0.97       363\n",
            "\n",
            "    accuracy                           0.97      1170\n",
            "   macro avg       0.97      0.97      0.97      1170\n",
            "weighted avg       0.97      0.97      0.97      1170\n",
            "\n"
          ]
        },
        {
          "data": {
            "image/png": "[encoded data removed]",
            "text/plain": [
              "<Figure size 504x360 with 2 Axes>"
            ]
          },
          "metadata": {
            "needs_background": "light"
          },
          "output_type": "display_data"
        }
      ],
      "source": [
        "# Print the Classification report\n",
        "print(classification_report(y_actual, y_predicted))\n",
        "\n",
        "# Plot the Confusion Matrix\n",
        "y_actual = pd.Series(y_actual, name='Actual')\n",
        "y_predicted = pd.Series(y_predicted, name='Predicted')\n",
        "confusion_matrix = pd.crosstab(y_actual, y_predicted, rownames=['Actual'], colnames=['Predicted'])\n",
        "plt.figure(figsize = (7,5))\n",
        "sns.heatmap(confusion_matrix, annot=True,fmt='d',cmap=\"YlGnBu\").set_title(\n",
        "    \"Confusion Matrix for CNN + RandomForest\", fontsize=16)\n",
        "plt.show()"
      ]
    }
  ],
  "metadata": {
    "kernelspec": {
      "display_name": "GPU-ULTRA",
      "language": "python",
      "name": "tf"
    },
    "language_info": {
      "codemirror_mode": {
        "name": "ipython",
        "version": 3
      },
      "file_extension": ".py",
      "mimetype": "text/x-python",
      "name": "python",
      "nbconvert_exporter": "python",
      "pygments_lexer": "ipython3",
      "version": "3.8.5"
    },
    "colab": {
      "name": "CNN-RandomForest.ipynb",
      "provenance": []
    }
  },
  "nbformat": 4,
  "nbformat_minor": 0
}