{
  "nbformat": 4,
  "nbformat_minor": 0,
  "metadata": {
    "colab": {
      "name": "assignment4Q3.ipynb",
      "provenance": []
    },
    "kernelspec": {
      "name": "python3",
      "display_name": "Python 3"
    },
    "language_info": {
      "name": "python"
    }
  },
  "cells": [
    {
      "cell_type": "markdown",
      "source": [
        "PROBLEM 3"
      ],
      "metadata": {
        "id": "WL4Ncr9Ay-29"
      }
    },
    {
      "cell_type": "code",
      "execution_count": 143,
      "metadata": {
        "id": "fo71zbTA87XF"
      },
      "outputs": [],
      "source": [
        "import pandas as pd\n",
        "import numpy as np\n",
        "%matplotlib inline\n",
        "import numpy as np\n",
        "import matplotlib.pyplot as plt\n",
        "import seaborn as sns; sns.set()\n",
        "from sklearn.decomposition import PCA"
      ]
    },
    {
      "cell_type": "markdown",
      "source": [
        "3.1 Importing the data from the places.txt we have to do some preprocessing accodring to our requirments"
      ],
      "metadata": {
        "id": "TQ2bw5PfckXW"
      }
    },
    {
      "cell_type": "code",
      "source": [
        "#loading data\n",
        "data = pd.read_csv('places.txt',delim_whitespace=True,header=None)"
      ],
      "metadata": {
        "id": "VL2ap1H5AZSN"
      },
      "execution_count": 144,
      "outputs": []
    },
    {
      "cell_type": "code",
      "source": [
        "#data.transpose()\n",
        "data.to_csv('places.csv', index=None)"
      ],
      "metadata": {
        "id": "cZ6EdU_KAbqT"
      },
      "execution_count": 145,
      "outputs": []
    },
    {
      "cell_type": "markdown",
      "source": [
        "From the below code we can say that we used places.txt and converted them csv and read the dataframes can convert the each value into each column in preprocessing steps"
      ],
      "metadata": {
        "id": "kyvEn0-vcwMJ"
      }
    },
    {
      "cell_type": "code",
      "source": [
        "data1=pd.read_csv(\"places.csv\", header=None)\n",
        "data1 = data1.iloc[1: , :]\n",
        "data1.head()\n"
      ],
      "metadata": {
        "colab": {
          "base_uri": "https://localhost:8080/",
          "height": 206
        },
        "id": "TUcaE-399GJA",
        "outputId": "eaf3474a-44d5-4b6f-8a5d-b1f8a2361bd3"
      },
      "execution_count": 146,
      "outputs": [
        {
          "output_type": "execute_result",
          "data": {
            "text/plain": [
              "                           0    1     2     3     4     5     6     7     8   \\\n",
              "1                  Abilene,TX  521  6200   237   923  4031  2757   996  1405   \n",
              "2                    Akron,OH  575  8138  1656   886  4883  2438  5564  2632   \n",
              "3                   Albany,GA  468  7339   618   970  2531  2560   237   859   \n",
              "4  Albany-Schenectady-Troy,NY  476  7908  1431   610  6883  3399  4655  1617   \n",
              "5              Albuquerque,NM  659  8393  1853  1483  6558  3026  4496  2612   \n",
              "\n",
              "     9   10        11       12      13  14  \n",
              "1  7633   1  -99.6890  32.5590  110932  44  \n",
              "2  4350   2  -81.5180  41.0850  660328  36  \n",
              "3  5250   3  -84.1580  31.5750  112402  11  \n",
              "4  5864   4  -73.7983  42.7327  835880  35  \n",
              "5  5727   5 -106.6500  35.0830  419700  33  "
            ],
            "text/html": [
              "\n",
              "  <div id=\"df-d4bc6ea0-9109-44d6-a9c1-d3eff6b4a42a\">\n",
              "    <div class=\"colab-df-container\">\n",
              "      <div>\n",
              "<style scoped>\n",
              "    .dataframe tbody tr th:only-of-type {\n",
              "        vertical-align: middle;\n",
              "    }\n",
              "\n",
              "    .dataframe tbody tr th {\n",
              "        vertical-align: top;\n",
              "    }\n",
              "\n",
              "    .dataframe thead th {\n",
              "        text-align: right;\n",
              "    }\n",
              "</style>\n",
              "<table border=\"1\" class=\"dataframe\">\n",
              "  <thead>\n",
              "    <tr style=\"text-align: right;\">\n",
              "      <th></th>\n",
              "      <th>0</th>\n",
              "      <th>1</th>\n",
              "      <th>2</th>\n",
              "      <th>3</th>\n",
              "      <th>4</th>\n",
              "      <th>5</th>\n",
              "      <th>6</th>\n",
              "      <th>7</th>\n",
              "      <th>8</th>\n",
              "      <th>9</th>\n",
              "      <th>10</th>\n",
              "      <th>11</th>\n",
              "      <th>12</th>\n",
              "      <th>13</th>\n",
              "      <th>14</th>\n",
              "    </tr>\n",
              "  </thead>\n",
              "  <tbody>\n",
              "    <tr>\n",
              "      <th>1</th>\n",
              "      <td>Abilene,TX</td>\n",
              "      <td>521</td>\n",
              "      <td>6200</td>\n",
              "      <td>237</td>\n",
              "      <td>923</td>\n",
              "      <td>4031</td>\n",
              "      <td>2757</td>\n",
              "      <td>996</td>\n",
              "      <td>1405</td>\n",
              "      <td>7633</td>\n",
              "      <td>1</td>\n",
              "      <td>-99.6890</td>\n",
              "      <td>32.5590</td>\n",
              "      <td>110932</td>\n",
              "      <td>44</td>\n",
              "    </tr>\n",
              "    <tr>\n",
              "      <th>2</th>\n",
              "      <td>Akron,OH</td>\n",
              "      <td>575</td>\n",
              "      <td>8138</td>\n",
              "      <td>1656</td>\n",
              "      <td>886</td>\n",
              "      <td>4883</td>\n",
              "      <td>2438</td>\n",
              "      <td>5564</td>\n",
              "      <td>2632</td>\n",
              "      <td>4350</td>\n",
              "      <td>2</td>\n",
              "      <td>-81.5180</td>\n",
              "      <td>41.0850</td>\n",
              "      <td>660328</td>\n",
              "      <td>36</td>\n",
              "    </tr>\n",
              "    <tr>\n",
              "      <th>3</th>\n",
              "      <td>Albany,GA</td>\n",
              "      <td>468</td>\n",
              "      <td>7339</td>\n",
              "      <td>618</td>\n",
              "      <td>970</td>\n",
              "      <td>2531</td>\n",
              "      <td>2560</td>\n",
              "      <td>237</td>\n",
              "      <td>859</td>\n",
              "      <td>5250</td>\n",
              "      <td>3</td>\n",
              "      <td>-84.1580</td>\n",
              "      <td>31.5750</td>\n",
              "      <td>112402</td>\n",
              "      <td>11</td>\n",
              "    </tr>\n",
              "    <tr>\n",
              "      <th>4</th>\n",
              "      <td>Albany-Schenectady-Troy,NY</td>\n",
              "      <td>476</td>\n",
              "      <td>7908</td>\n",
              "      <td>1431</td>\n",
              "      <td>610</td>\n",
              "      <td>6883</td>\n",
              "      <td>3399</td>\n",
              "      <td>4655</td>\n",
              "      <td>1617</td>\n",
              "      <td>5864</td>\n",
              "      <td>4</td>\n",
              "      <td>-73.7983</td>\n",
              "      <td>42.7327</td>\n",
              "      <td>835880</td>\n",
              "      <td>35</td>\n",
              "    </tr>\n",
              "    <tr>\n",
              "      <th>5</th>\n",
              "      <td>Albuquerque,NM</td>\n",
              "      <td>659</td>\n",
              "      <td>8393</td>\n",
              "      <td>1853</td>\n",
              "      <td>1483</td>\n",
              "      <td>6558</td>\n",
              "      <td>3026</td>\n",
              "      <td>4496</td>\n",
              "      <td>2612</td>\n",
              "      <td>5727</td>\n",
              "      <td>5</td>\n",
              "      <td>-106.6500</td>\n",
              "      <td>35.0830</td>\n",
              "      <td>419700</td>\n",
              "      <td>33</td>\n",
              "    </tr>\n",
              "  </tbody>\n",
              "</table>\n",
              "</div>\n",
              "      <button class=\"colab-df-convert\" onclick=\"convertToInteractive('df-d4bc6ea0-9109-44d6-a9c1-d3eff6b4a42a')\"\n",
              "              title=\"Convert this dataframe to an interactive table.\"\n",
              "              style=\"display:none;\">\n",
              "        \n",
              "  <svg xmlns=\"http://www.w3.org/2000/svg\" height=\"24px\"viewBox=\"0 0 24 24\"\n",
              "       width=\"24px\">\n",
              "    <path d=\"M0 0h24v24H0V0z\" fill=\"none\"/>\n",
              "    <path d=\"M18.56 5.44l.94 2.06.94-2.06 2.06-.94-2.06-.94-.94-2.06-.94 2.06-2.06.94zm-11 1L8.5 8.5l.94-2.06 2.06-.94-2.06-.94L8.5 2.5l-.94 2.06-2.06.94zm10 10l.94 2.06.94-2.06 2.06-.94-2.06-.94-.94-2.06-.94 2.06-2.06.94z\"/><path d=\"M17.41 7.96l-1.37-1.37c-.4-.4-.92-.59-1.43-.59-.52 0-1.04.2-1.43.59L10.3 9.45l-7.72 7.72c-.78.78-.78 2.05 0 2.83L4 21.41c.39.39.9.59 1.41.59.51 0 1.02-.2 1.41-.59l7.78-7.78 2.81-2.81c.8-.78.8-2.07 0-2.86zM5.41 20L4 18.59l7.72-7.72 1.47 1.35L5.41 20z\"/>\n",
              "  </svg>\n",
              "      </button>\n",
              "      \n",
              "  <style>\n",
              "    .colab-df-container {\n",
              "      display:flex;\n",
              "      flex-wrap:wrap;\n",
              "      gap: 12px;\n",
              "    }\n",
              "\n",
              "    .colab-df-convert {\n",
              "      background-color: #E8F0FE;\n",
              "      border: none;\n",
              "      border-radius: 50%;\n",
              "      cursor: pointer;\n",
              "      display: none;\n",
              "      fill: #1967D2;\n",
              "      height: 32px;\n",
              "      padding: 0 0 0 0;\n",
              "      width: 32px;\n",
              "    }\n",
              "\n",
              "    .colab-df-convert:hover {\n",
              "      background-color: #E2EBFA;\n",
              "      box-shadow: 0px 1px 2px rgba(60, 64, 67, 0.3), 0px 1px 3px 1px rgba(60, 64, 67, 0.15);\n",
              "      fill: #174EA6;\n",
              "    }\n",
              "\n",
              "    [theme=dark] .colab-df-convert {\n",
              "      background-color: #3B4455;\n",
              "      fill: #D2E3FC;\n",
              "    }\n",
              "\n",
              "    [theme=dark] .colab-df-convert:hover {\n",
              "      background-color: #434B5C;\n",
              "      box-shadow: 0px 1px 3px 1px rgba(0, 0, 0, 0.15);\n",
              "      filter: drop-shadow(0px 1px 2px rgba(0, 0, 0, 0.3));\n",
              "      fill: #FFFFFF;\n",
              "    }\n",
              "  </style>\n",
              "\n",
              "      <script>\n",
              "        const buttonEl =\n",
              "          document.querySelector('#df-d4bc6ea0-9109-44d6-a9c1-d3eff6b4a42a button.colab-df-convert');\n",
              "        buttonEl.style.display =\n",
              "          google.colab.kernel.accessAllowed ? 'block' : 'none';\n",
              "\n",
              "        async function convertToInteractive(key) {\n",
              "          const element = document.querySelector('#df-d4bc6ea0-9109-44d6-a9c1-d3eff6b4a42a');\n",
              "          const dataTable =\n",
              "            await google.colab.kernel.invokeFunction('convertToInteractive',\n",
              "                                                     [key], {});\n",
              "          if (!dataTable) return;\n",
              "\n",
              "          const docLinkHtml = 'Like what you see? Visit the ' +\n",
              "            '<a target=\"_blank\" href=https://colab.research.google.com/notebooks/data_table.ipynb>data table notebook</a>'\n",
              "            + ' to learn more about interactive tables.';\n",
              "          element.innerHTML = '';\n",
              "          dataTable['output_type'] = 'display_data';\n",
              "          await google.colab.output.renderOutput(dataTable, element);\n",
              "          const docLink = document.createElement('div');\n",
              "          docLink.innerHTML = docLinkHtml;\n",
              "          element.appendChild(docLink);\n",
              "        }\n",
              "      </script>\n",
              "    </div>\n",
              "  </div>\n",
              "  "
            ]
          },
          "metadata": {},
          "execution_count": 146
        }
      ]
    },
    {
      "cell_type": "markdown",
      "source": [
        "As per the question we are removing the last few columns to manipulate the data "
      ],
      "metadata": {
        "id": "6V3gbb7CdJzg"
      }
    },
    {
      "cell_type": "code",
      "source": [
        "data2=data1.iloc[:,1:10]\n",
        "data2.head(4)"
      ],
      "metadata": {
        "colab": {
          "base_uri": "https://localhost:8080/",
          "height": 175
        },
        "id": "5O4Hxp5Z9KSo",
        "outputId": "6fd3a6d9-3e26-4494-91c4-e9e2e975d6b3"
      },
      "execution_count": 147,
      "outputs": [
        {
          "output_type": "execute_result",
          "data": {
            "text/plain": [
              "     1     2     3    4     5     6     7     8     9\n",
              "1  521  6200   237  923  4031  2757   996  1405  7633\n",
              "2  575  8138  1656  886  4883  2438  5564  2632  4350\n",
              "3  468  7339   618  970  2531  2560   237   859  5250\n",
              "4  476  7908  1431  610  6883  3399  4655  1617  5864"
            ],
            "text/html": [
              "\n",
              "  <div id=\"df-3676bf0b-fe28-41a7-9704-83ebfd8a71cb\">\n",
              "    <div class=\"colab-df-container\">\n",
              "      <div>\n",
              "<style scoped>\n",
              "    .dataframe tbody tr th:only-of-type {\n",
              "        vertical-align: middle;\n",
              "    }\n",
              "\n",
              "    .dataframe tbody tr th {\n",
              "        vertical-align: top;\n",
              "    }\n",
              "\n",
              "    .dataframe thead th {\n",
              "        text-align: right;\n",
              "    }\n",
              "</style>\n",
              "<table border=\"1\" class=\"dataframe\">\n",
              "  <thead>\n",
              "    <tr style=\"text-align: right;\">\n",
              "      <th></th>\n",
              "      <th>1</th>\n",
              "      <th>2</th>\n",
              "      <th>3</th>\n",
              "      <th>4</th>\n",
              "      <th>5</th>\n",
              "      <th>6</th>\n",
              "      <th>7</th>\n",
              "      <th>8</th>\n",
              "      <th>9</th>\n",
              "    </tr>\n",
              "  </thead>\n",
              "  <tbody>\n",
              "    <tr>\n",
              "      <th>1</th>\n",
              "      <td>521</td>\n",
              "      <td>6200</td>\n",
              "      <td>237</td>\n",
              "      <td>923</td>\n",
              "      <td>4031</td>\n",
              "      <td>2757</td>\n",
              "      <td>996</td>\n",
              "      <td>1405</td>\n",
              "      <td>7633</td>\n",
              "    </tr>\n",
              "    <tr>\n",
              "      <th>2</th>\n",
              "      <td>575</td>\n",
              "      <td>8138</td>\n",
              "      <td>1656</td>\n",
              "      <td>886</td>\n",
              "      <td>4883</td>\n",
              "      <td>2438</td>\n",
              "      <td>5564</td>\n",
              "      <td>2632</td>\n",
              "      <td>4350</td>\n",
              "    </tr>\n",
              "    <tr>\n",
              "      <th>3</th>\n",
              "      <td>468</td>\n",
              "      <td>7339</td>\n",
              "      <td>618</td>\n",
              "      <td>970</td>\n",
              "      <td>2531</td>\n",
              "      <td>2560</td>\n",
              "      <td>237</td>\n",
              "      <td>859</td>\n",
              "      <td>5250</td>\n",
              "    </tr>\n",
              "    <tr>\n",
              "      <th>4</th>\n",
              "      <td>476</td>\n",
              "      <td>7908</td>\n",
              "      <td>1431</td>\n",
              "      <td>610</td>\n",
              "      <td>6883</td>\n",
              "      <td>3399</td>\n",
              "      <td>4655</td>\n",
              "      <td>1617</td>\n",
              "      <td>5864</td>\n",
              "    </tr>\n",
              "  </tbody>\n",
              "</table>\n",
              "</div>\n",
              "      <button class=\"colab-df-convert\" onclick=\"convertToInteractive('df-3676bf0b-fe28-41a7-9704-83ebfd8a71cb')\"\n",
              "              title=\"Convert this dataframe to an interactive table.\"\n",
              "              style=\"display:none;\">\n",
              "        \n",
              "  <svg xmlns=\"http://www.w3.org/2000/svg\" height=\"24px\"viewBox=\"0 0 24 24\"\n",
              "       width=\"24px\">\n",
              "    <path d=\"M0 0h24v24H0V0z\" fill=\"none\"/>\n",
              "    <path d=\"M18.56 5.44l.94 2.06.94-2.06 2.06-.94-2.06-.94-.94-2.06-.94 2.06-2.06.94zm-11 1L8.5 8.5l.94-2.06 2.06-.94-2.06-.94L8.5 2.5l-.94 2.06-2.06.94zm10 10l.94 2.06.94-2.06 2.06-.94-2.06-.94-.94-2.06-.94 2.06-2.06.94z\"/><path d=\"M17.41 7.96l-1.37-1.37c-.4-.4-.92-.59-1.43-.59-.52 0-1.04.2-1.43.59L10.3 9.45l-7.72 7.72c-.78.78-.78 2.05 0 2.83L4 21.41c.39.39.9.59 1.41.59.51 0 1.02-.2 1.41-.59l7.78-7.78 2.81-2.81c.8-.78.8-2.07 0-2.86zM5.41 20L4 18.59l7.72-7.72 1.47 1.35L5.41 20z\"/>\n",
              "  </svg>\n",
              "      </button>\n",
              "      \n",
              "  <style>\n",
              "    .colab-df-container {\n",
              "      display:flex;\n",
              "      flex-wrap:wrap;\n",
              "      gap: 12px;\n",
              "    }\n",
              "\n",
              "    .colab-df-convert {\n",
              "      background-color: #E8F0FE;\n",
              "      border: none;\n",
              "      border-radius: 50%;\n",
              "      cursor: pointer;\n",
              "      display: none;\n",
              "      fill: #1967D2;\n",
              "      height: 32px;\n",
              "      padding: 0 0 0 0;\n",
              "      width: 32px;\n",
              "    }\n",
              "\n",
              "    .colab-df-convert:hover {\n",
              "      background-color: #E2EBFA;\n",
              "      box-shadow: 0px 1px 2px rgba(60, 64, 67, 0.3), 0px 1px 3px 1px rgba(60, 64, 67, 0.15);\n",
              "      fill: #174EA6;\n",
              "    }\n",
              "\n",
              "    [theme=dark] .colab-df-convert {\n",
              "      background-color: #3B4455;\n",
              "      fill: #D2E3FC;\n",
              "    }\n",
              "\n",
              "    [theme=dark] .colab-df-convert:hover {\n",
              "      background-color: #434B5C;\n",
              "      box-shadow: 0px 1px 3px 1px rgba(0, 0, 0, 0.15);\n",
              "      filter: drop-shadow(0px 1px 2px rgba(0, 0, 0, 0.3));\n",
              "      fill: #FFFFFF;\n",
              "    }\n",
              "  </style>\n",
              "\n",
              "      <script>\n",
              "        const buttonEl =\n",
              "          document.querySelector('#df-3676bf0b-fe28-41a7-9704-83ebfd8a71cb button.colab-df-convert');\n",
              "        buttonEl.style.display =\n",
              "          google.colab.kernel.accessAllowed ? 'block' : 'none';\n",
              "\n",
              "        async function convertToInteractive(key) {\n",
              "          const element = document.querySelector('#df-3676bf0b-fe28-41a7-9704-83ebfd8a71cb');\n",
              "          const dataTable =\n",
              "            await google.colab.kernel.invokeFunction('convertToInteractive',\n",
              "                                                     [key], {});\n",
              "          if (!dataTable) return;\n",
              "\n",
              "          const docLinkHtml = 'Like what you see? Visit the ' +\n",
              "            '<a target=\"_blank\" href=https://colab.research.google.com/notebooks/data_table.ipynb>data table notebook</a>'\n",
              "            + ' to learn more about interactive tables.';\n",
              "          element.innerHTML = '';\n",
              "          dataTable['output_type'] = 'display_data';\n",
              "          await google.colab.output.renderOutput(dataTable, element);\n",
              "          const docLink = document.createElement('div');\n",
              "          docLink.innerHTML = docLinkHtml;\n",
              "          element.appendChild(docLink);\n",
              "        }\n",
              "      </script>\n",
              "    </div>\n",
              "  </div>\n",
              "  "
            ]
          },
          "metadata": {},
          "execution_count": 147
        }
      ]
    },
    {
      "cell_type": "markdown",
      "source": [
        "3.2  we are replacing the  each value in the matrix by its base-10 logarithm."
      ],
      "metadata": {
        "id": "rm1ezbaldWiH"
      }
    },
    {
      "cell_type": "code",
      "source": [
        "data3 = np.log10(data2)\n",
        "data3.head(4)"
      ],
      "metadata": {
        "colab": {
          "base_uri": "https://localhost:8080/",
          "height": 175
        },
        "id": "tbhN9VjX-Z3c",
        "outputId": "39386f9c-159a-486e-b4ac-1e61c5fc754c"
      },
      "execution_count": 148,
      "outputs": [
        {
          "output_type": "execute_result",
          "data": {
            "text/plain": [
              "          1         2         3         4         5         6         7  \\\n",
              "1  2.716838  3.792392  2.374748  2.965202  3.605413  3.440437  2.998259   \n",
              "2  2.759668  3.910518  3.219060  2.947434  3.688687  3.387034  3.745387   \n",
              "3  2.670246  3.865637  2.790988  2.986772  3.403292  3.408240  2.374748   \n",
              "4  2.677607  3.898067  3.155640  2.785330  3.837778  3.531351  3.667920   \n",
              "\n",
              "          8         9  \n",
              "1  3.147676  3.882695  \n",
              "2  3.420286  3.638489  \n",
              "3  2.933993  3.720159  \n",
              "4  3.208710  3.768194  "
            ],
            "text/html": [
              "\n",
              "  <div id=\"df-1eb8a193-66b3-4c0a-a24e-8528b166d27c\">\n",
              "    <div class=\"colab-df-container\">\n",
              "      <div>\n",
              "<style scoped>\n",
              "    .dataframe tbody tr th:only-of-type {\n",
              "        vertical-align: middle;\n",
              "    }\n",
              "\n",
              "    .dataframe tbody tr th {\n",
              "        vertical-align: top;\n",
              "    }\n",
              "\n",
              "    .dataframe thead th {\n",
              "        text-align: right;\n",
              "    }\n",
              "</style>\n",
              "<table border=\"1\" class=\"dataframe\">\n",
              "  <thead>\n",
              "    <tr style=\"text-align: right;\">\n",
              "      <th></th>\n",
              "      <th>1</th>\n",
              "      <th>2</th>\n",
              "      <th>3</th>\n",
              "      <th>4</th>\n",
              "      <th>5</th>\n",
              "      <th>6</th>\n",
              "      <th>7</th>\n",
              "      <th>8</th>\n",
              "      <th>9</th>\n",
              "    </tr>\n",
              "  </thead>\n",
              "  <tbody>\n",
              "    <tr>\n",
              "      <th>1</th>\n",
              "      <td>2.716838</td>\n",
              "      <td>3.792392</td>\n",
              "      <td>2.374748</td>\n",
              "      <td>2.965202</td>\n",
              "      <td>3.605413</td>\n",
              "      <td>3.440437</td>\n",
              "      <td>2.998259</td>\n",
              "      <td>3.147676</td>\n",
              "      <td>3.882695</td>\n",
              "    </tr>\n",
              "    <tr>\n",
              "      <th>2</th>\n",
              "      <td>2.759668</td>\n",
              "      <td>3.910518</td>\n",
              "      <td>3.219060</td>\n",
              "      <td>2.947434</td>\n",
              "      <td>3.688687</td>\n",
              "      <td>3.387034</td>\n",
              "      <td>3.745387</td>\n",
              "      <td>3.420286</td>\n",
              "      <td>3.638489</td>\n",
              "    </tr>\n",
              "    <tr>\n",
              "      <th>3</th>\n",
              "      <td>2.670246</td>\n",
              "      <td>3.865637</td>\n",
              "      <td>2.790988</td>\n",
              "      <td>2.986772</td>\n",
              "      <td>3.403292</td>\n",
              "      <td>3.408240</td>\n",
              "      <td>2.374748</td>\n",
              "      <td>2.933993</td>\n",
              "      <td>3.720159</td>\n",
              "    </tr>\n",
              "    <tr>\n",
              "      <th>4</th>\n",
              "      <td>2.677607</td>\n",
              "      <td>3.898067</td>\n",
              "      <td>3.155640</td>\n",
              "      <td>2.785330</td>\n",
              "      <td>3.837778</td>\n",
              "      <td>3.531351</td>\n",
              "      <td>3.667920</td>\n",
              "      <td>3.208710</td>\n",
              "      <td>3.768194</td>\n",
              "    </tr>\n",
              "  </tbody>\n",
              "</table>\n",
              "</div>\n",
              "      <button class=\"colab-df-convert\" onclick=\"convertToInteractive('df-1eb8a193-66b3-4c0a-a24e-8528b166d27c')\"\n",
              "              title=\"Convert this dataframe to an interactive table.\"\n",
              "              style=\"display:none;\">\n",
              "        \n",
              "  <svg xmlns=\"http://www.w3.org/2000/svg\" height=\"24px\"viewBox=\"0 0 24 24\"\n",
              "       width=\"24px\">\n",
              "    <path d=\"M0 0h24v24H0V0z\" fill=\"none\"/>\n",
              "    <path d=\"M18.56 5.44l.94 2.06.94-2.06 2.06-.94-2.06-.94-.94-2.06-.94 2.06-2.06.94zm-11 1L8.5 8.5l.94-2.06 2.06-.94-2.06-.94L8.5 2.5l-.94 2.06-2.06.94zm10 10l.94 2.06.94-2.06 2.06-.94-2.06-.94-.94-2.06-.94 2.06-2.06.94z\"/><path d=\"M17.41 7.96l-1.37-1.37c-.4-.4-.92-.59-1.43-.59-.52 0-1.04.2-1.43.59L10.3 9.45l-7.72 7.72c-.78.78-.78 2.05 0 2.83L4 21.41c.39.39.9.59 1.41.59.51 0 1.02-.2 1.41-.59l7.78-7.78 2.81-2.81c.8-.78.8-2.07 0-2.86zM5.41 20L4 18.59l7.72-7.72 1.47 1.35L5.41 20z\"/>\n",
              "  </svg>\n",
              "      </button>\n",
              "      \n",
              "  <style>\n",
              "    .colab-df-container {\n",
              "      display:flex;\n",
              "      flex-wrap:wrap;\n",
              "      gap: 12px;\n",
              "    }\n",
              "\n",
              "    .colab-df-convert {\n",
              "      background-color: #E8F0FE;\n",
              "      border: none;\n",
              "      border-radius: 50%;\n",
              "      cursor: pointer;\n",
              "      display: none;\n",
              "      fill: #1967D2;\n",
              "      height: 32px;\n",
              "      padding: 0 0 0 0;\n",
              "      width: 32px;\n",
              "    }\n",
              "\n",
              "    .colab-df-convert:hover {\n",
              "      background-color: #E2EBFA;\n",
              "      box-shadow: 0px 1px 2px rgba(60, 64, 67, 0.3), 0px 1px 3px 1px rgba(60, 64, 67, 0.15);\n",
              "      fill: #174EA6;\n",
              "    }\n",
              "\n",
              "    [theme=dark] .colab-df-convert {\n",
              "      background-color: #3B4455;\n",
              "      fill: #D2E3FC;\n",
              "    }\n",
              "\n",
              "    [theme=dark] .colab-df-convert:hover {\n",
              "      background-color: #434B5C;\n",
              "      box-shadow: 0px 1px 3px 1px rgba(0, 0, 0, 0.15);\n",
              "      filter: drop-shadow(0px 1px 2px rgba(0, 0, 0, 0.3));\n",
              "      fill: #FFFFFF;\n",
              "    }\n",
              "  </style>\n",
              "\n",
              "      <script>\n",
              "        const buttonEl =\n",
              "          document.querySelector('#df-1eb8a193-66b3-4c0a-a24e-8528b166d27c button.colab-df-convert');\n",
              "        buttonEl.style.display =\n",
              "          google.colab.kernel.accessAllowed ? 'block' : 'none';\n",
              "\n",
              "        async function convertToInteractive(key) {\n",
              "          const element = document.querySelector('#df-1eb8a193-66b3-4c0a-a24e-8528b166d27c');\n",
              "          const dataTable =\n",
              "            await google.colab.kernel.invokeFunction('convertToInteractive',\n",
              "                                                     [key], {});\n",
              "          if (!dataTable) return;\n",
              "\n",
              "          const docLinkHtml = 'Like what you see? Visit the ' +\n",
              "            '<a target=\"_blank\" href=https://colab.research.google.com/notebooks/data_table.ipynb>data table notebook</a>'\n",
              "            + ' to learn more about interactive tables.';\n",
              "          element.innerHTML = '';\n",
              "          dataTable['output_type'] = 'display_data';\n",
              "          await google.colab.output.renderOutput(dataTable, element);\n",
              "          const docLink = document.createElement('div');\n",
              "          docLink.innerHTML = docLinkHtml;\n",
              "          element.appendChild(docLink);\n",
              "        }\n",
              "      </script>\n",
              "    </div>\n",
              "  </div>\n",
              "  "
            ]
          },
          "metadata": {},
          "execution_count": 148
        }
      ]
    },
    {
      "cell_type": "code",
      "source": [
        "X=data3\n",
        "X.shape"
      ],
      "metadata": {
        "colab": {
          "base_uri": "https://localhost:8080/"
        },
        "id": "nmOER3rk-fNb",
        "outputId": "6e99d253-9c61-407a-c960-a253f5e22a5f"
      },
      "execution_count": 149,
      "outputs": [
        {
          "output_type": "execute_result",
          "data": {
            "text/plain": [
              "(329, 9)"
            ]
          },
          "metadata": {},
          "execution_count": 149
        }
      ]
    },
    {
      "cell_type": "markdown",
      "source": [
        "3.3 We are centering the data points first by computing the mean\n",
        "data vector µ and subtracting it from every point."
      ],
      "metadata": {
        "id": "UN5MTSfIdciR"
      }
    },
    {
      "cell_type": "code",
      "source": [
        "x_bar=np.mean(X)\n",
        "x_bar\n",
        "X=X-x_bar\n",
        "X.head(4)"
      ],
      "metadata": {
        "colab": {
          "base_uri": "https://localhost:8080/",
          "height": 175
        },
        "id": "VCz3UIy5-lqN",
        "outputId": "5c0f75dd-8896-431a-d88c-1b5dd4643310"
      },
      "execution_count": 150,
      "outputs": [
        {
          "output_type": "execute_result",
          "data": {
            "text/plain": [
              "          1         2         3         4         5         6         7  \\\n",
              "1 -0.001656 -0.115099 -0.580738  0.013575  0.008211 -0.006170 -0.207950   \n",
              "2  0.041174  0.003027  0.263574 -0.004193  0.091485 -0.059573  0.539178   \n",
              "3 -0.048248 -0.041854 -0.164498  0.035145 -0.193910 -0.038367 -0.831461   \n",
              "4 -0.040887 -0.009424  0.200153 -0.166297  0.240576  0.084745  0.461710   \n",
              "\n",
              "          8         9  \n",
              "1 -0.078891  0.148513  \n",
              "2  0.193719 -0.095693  \n",
              "3 -0.292574 -0.014023  \n",
              "4 -0.017857  0.034012  "
            ],
            "text/html": [
              "\n",
              "  <div id=\"df-a4d68e86-ef0a-41f6-8690-c935d4a6b4b9\">\n",
              "    <div class=\"colab-df-container\">\n",
              "      <div>\n",
              "<style scoped>\n",
              "    .dataframe tbody tr th:only-of-type {\n",
              "        vertical-align: middle;\n",
              "    }\n",
              "\n",
              "    .dataframe tbody tr th {\n",
              "        vertical-align: top;\n",
              "    }\n",
              "\n",
              "    .dataframe thead th {\n",
              "        text-align: right;\n",
              "    }\n",
              "</style>\n",
              "<table border=\"1\" class=\"dataframe\">\n",
              "  <thead>\n",
              "    <tr style=\"text-align: right;\">\n",
              "      <th></th>\n",
              "      <th>1</th>\n",
              "      <th>2</th>\n",
              "      <th>3</th>\n",
              "      <th>4</th>\n",
              "      <th>5</th>\n",
              "      <th>6</th>\n",
              "      <th>7</th>\n",
              "      <th>8</th>\n",
              "      <th>9</th>\n",
              "    </tr>\n",
              "  </thead>\n",
              "  <tbody>\n",
              "    <tr>\n",
              "      <th>1</th>\n",
              "      <td>-0.001656</td>\n",
              "      <td>-0.115099</td>\n",
              "      <td>-0.580738</td>\n",
              "      <td>0.013575</td>\n",
              "      <td>0.008211</td>\n",
              "      <td>-0.006170</td>\n",
              "      <td>-0.207950</td>\n",
              "      <td>-0.078891</td>\n",
              "      <td>0.148513</td>\n",
              "    </tr>\n",
              "    <tr>\n",
              "      <th>2</th>\n",
              "      <td>0.041174</td>\n",
              "      <td>0.003027</td>\n",
              "      <td>0.263574</td>\n",
              "      <td>-0.004193</td>\n",
              "      <td>0.091485</td>\n",
              "      <td>-0.059573</td>\n",
              "      <td>0.539178</td>\n",
              "      <td>0.193719</td>\n",
              "      <td>-0.095693</td>\n",
              "    </tr>\n",
              "    <tr>\n",
              "      <th>3</th>\n",
              "      <td>-0.048248</td>\n",
              "      <td>-0.041854</td>\n",
              "      <td>-0.164498</td>\n",
              "      <td>0.035145</td>\n",
              "      <td>-0.193910</td>\n",
              "      <td>-0.038367</td>\n",
              "      <td>-0.831461</td>\n",
              "      <td>-0.292574</td>\n",
              "      <td>-0.014023</td>\n",
              "    </tr>\n",
              "    <tr>\n",
              "      <th>4</th>\n",
              "      <td>-0.040887</td>\n",
              "      <td>-0.009424</td>\n",
              "      <td>0.200153</td>\n",
              "      <td>-0.166297</td>\n",
              "      <td>0.240576</td>\n",
              "      <td>0.084745</td>\n",
              "      <td>0.461710</td>\n",
              "      <td>-0.017857</td>\n",
              "      <td>0.034012</td>\n",
              "    </tr>\n",
              "  </tbody>\n",
              "</table>\n",
              "</div>\n",
              "      <button class=\"colab-df-convert\" onclick=\"convertToInteractive('df-a4d68e86-ef0a-41f6-8690-c935d4a6b4b9')\"\n",
              "              title=\"Convert this dataframe to an interactive table.\"\n",
              "              style=\"display:none;\">\n",
              "        \n",
              "  <svg xmlns=\"http://www.w3.org/2000/svg\" height=\"24px\"viewBox=\"0 0 24 24\"\n",
              "       width=\"24px\">\n",
              "    <path d=\"M0 0h24v24H0V0z\" fill=\"none\"/>\n",
              "    <path d=\"M18.56 5.44l.94 2.06.94-2.06 2.06-.94-2.06-.94-.94-2.06-.94 2.06-2.06.94zm-11 1L8.5 8.5l.94-2.06 2.06-.94-2.06-.94L8.5 2.5l-.94 2.06-2.06.94zm10 10l.94 2.06.94-2.06 2.06-.94-2.06-.94-.94-2.06-.94 2.06-2.06.94z\"/><path d=\"M17.41 7.96l-1.37-1.37c-.4-.4-.92-.59-1.43-.59-.52 0-1.04.2-1.43.59L10.3 9.45l-7.72 7.72c-.78.78-.78 2.05 0 2.83L4 21.41c.39.39.9.59 1.41.59.51 0 1.02-.2 1.41-.59l7.78-7.78 2.81-2.81c.8-.78.8-2.07 0-2.86zM5.41 20L4 18.59l7.72-7.72 1.47 1.35L5.41 20z\"/>\n",
              "  </svg>\n",
              "      </button>\n",
              "      \n",
              "  <style>\n",
              "    .colab-df-container {\n",
              "      display:flex;\n",
              "      flex-wrap:wrap;\n",
              "      gap: 12px;\n",
              "    }\n",
              "\n",
              "    .colab-df-convert {\n",
              "      background-color: #E8F0FE;\n",
              "      border: none;\n",
              "      border-radius: 50%;\n",
              "      cursor: pointer;\n",
              "      display: none;\n",
              "      fill: #1967D2;\n",
              "      height: 32px;\n",
              "      padding: 0 0 0 0;\n",
              "      width: 32px;\n",
              "    }\n",
              "\n",
              "    .colab-df-convert:hover {\n",
              "      background-color: #E2EBFA;\n",
              "      box-shadow: 0px 1px 2px rgba(60, 64, 67, 0.3), 0px 1px 3px 1px rgba(60, 64, 67, 0.15);\n",
              "      fill: #174EA6;\n",
              "    }\n",
              "\n",
              "    [theme=dark] .colab-df-convert {\n",
              "      background-color: #3B4455;\n",
              "      fill: #D2E3FC;\n",
              "    }\n",
              "\n",
              "    [theme=dark] .colab-df-convert:hover {\n",
              "      background-color: #434B5C;\n",
              "      box-shadow: 0px 1px 3px 1px rgba(0, 0, 0, 0.15);\n",
              "      filter: drop-shadow(0px 1px 2px rgba(0, 0, 0, 0.3));\n",
              "      fill: #FFFFFF;\n",
              "    }\n",
              "  </style>\n",
              "\n",
              "      <script>\n",
              "        const buttonEl =\n",
              "          document.querySelector('#df-a4d68e86-ef0a-41f6-8690-c935d4a6b4b9 button.colab-df-convert');\n",
              "        buttonEl.style.display =\n",
              "          google.colab.kernel.accessAllowed ? 'block' : 'none';\n",
              "\n",
              "        async function convertToInteractive(key) {\n",
              "          const element = document.querySelector('#df-a4d68e86-ef0a-41f6-8690-c935d4a6b4b9');\n",
              "          const dataTable =\n",
              "            await google.colab.kernel.invokeFunction('convertToInteractive',\n",
              "                                                     [key], {});\n",
              "          if (!dataTable) return;\n",
              "\n",
              "          const docLinkHtml = 'Like what you see? Visit the ' +\n",
              "            '<a target=\"_blank\" href=https://colab.research.google.com/notebooks/data_table.ipynb>data table notebook</a>'\n",
              "            + ' to learn more about interactive tables.';\n",
              "          element.innerHTML = '';\n",
              "          dataTable['output_type'] = 'display_data';\n",
              "          await google.colab.output.renderOutput(dataTable, element);\n",
              "          const docLink = document.createElement('div');\n",
              "          docLink.innerHTML = docLinkHtml;\n",
              "          element.appendChild(docLink);\n",
              "        }\n",
              "      </script>\n",
              "    </div>\n",
              "  </div>\n",
              "  "
            ]
          },
          "metadata": {},
          "execution_count": 150
        }
      ]
    },
    {
      "cell_type": "markdown",
      "source": [
        "we are performing the SVD for the above data X"
      ],
      "metadata": {
        "id": "HE9b8qRpdndR"
      }
    },
    {
      "cell_type": "code",
      "source": [
        "# Performing SVD\n",
        "u, s, v = np.linalg.svd(X, full_matrices=True)"
      ],
      "metadata": {
        "id": "Qh9ogDJ_-oah"
      },
      "execution_count": 151,
      "outputs": []
    },
    {
      "cell_type": "code",
      "source": [
        "principal=v\n",
        "principal"
      ],
      "metadata": {
        "colab": {
          "base_uri": "https://localhost:8080/"
        },
        "id": "M_9-FyT5dFpB",
        "outputId": "2706e038-c2e7-4c5e-b287-4ed91bf0ecca"
      },
      "execution_count": 152,
      "outputs": [
        {
          "output_type": "execute_result",
          "data": {
            "text/plain": [
              "array([[ 0.03507288,  0.09335159,  0.40776448,  0.10044536,  0.15009714,\n",
              "         0.03215319,  0.87434057,  0.15899622,  0.01949418],\n",
              "       [ 0.0088782 ,  0.00923057, -0.85853187,  0.22042372,  0.05920111,\n",
              "        -0.06058858,  0.30380632,  0.33399255,  0.0561011 ],\n",
              "       [-0.14087477, -0.12884967, -0.27605769, -0.5926882 , -0.22089816,\n",
              "        -0.0081447 ,  0.36328732, -0.58362605, -0.12085337],\n",
              "       [ 0.15274476, -0.17838233, -0.03516139,  0.72366303, -0.12620531,\n",
              "        -0.00519693,  0.08111571, -0.62822609,  0.05216997],\n",
              "       [-0.39751159, -0.1753133 , -0.05032469,  0.01345714,  0.86996951,\n",
              "         0.04779772, -0.05506994, -0.21328989, -0.02965242],\n",
              "       [ 0.83129501,  0.20905725, -0.08967085, -0.16401885,  0.37244964,\n",
              "         0.02362804, -0.02812147, -0.14179906, -0.26481279],\n",
              "       [-0.0559096 ,  0.6958923 , -0.06245284, -0.05553037,  0.0724604 ,\n",
              "         0.05738567, -0.0232698 , -0.23451524,  0.66448592],\n",
              "       [-0.31490125,  0.61361583, -0.0210358 ,  0.1823479 , -0.05714199,\n",
              "        -0.20447312, -0.01673991, -0.08353911, -0.66203179],\n",
              "       [-0.06448925,  0.08687702, -0.06550333,  0.05421223, -0.07183942,\n",
              "         0.97327107, -0.00525656,  0.01749472, -0.16826376]])"
            ]
          },
          "metadata": {},
          "execution_count": 152
        }
      ]
    },
    {
      "cell_type": "code",
      "source": [
        "from sklearn.utils.validation import check_is_fitted\n",
        "pca=PCA(n_components=9).fit(X)\n",
        "\n"
      ],
      "metadata": {
        "id": "hYXg5bzXdN7p"
      },
      "execution_count": 153,
      "outputs": []
    },
    {
      "cell_type": "markdown",
      "source": [
        "3.4 we are taking first two principal components v1 and v2."
      ],
      "metadata": {
        "id": "BZnbukcpd08F"
      }
    },
    {
      "cell_type": "code",
      "source": [
        "pc =[X.T.dot(u[:,i]) for i in range(9)]"
      ],
      "metadata": {
        "id": "kHU3qpPG-seS"
      },
      "execution_count": 154,
      "outputs": []
    },
    {
      "cell_type": "code",
      "source": [
        "v1 = pc[0]\n",
        "v2 = pc[1]"
      ],
      "metadata": {
        "id": "AKfzckggbXSc"
      },
      "execution_count": 155,
      "outputs": []
    },
    {
      "cell_type": "code",
      "source": [
        "datapoints = [X.dot(v1),X.dot(v2)]"
      ],
      "metadata": {
        "id": "tU12zjXibcYm"
      },
      "execution_count": 156,
      "outputs": []
    },
    {
      "cell_type": "code",
      "source": [
        "l=2\n",
        "pcs=sc=us=u[:,:len(s)] @ np.diag(s)\n",
        "vc1=us[:,0]\n",
        "vc2=us[:,1]"
      ],
      "metadata": {
        "id": "g8qactugeufa"
      },
      "execution_count": 157,
      "outputs": []
    },
    {
      "cell_type": "code",
      "source": [
        "from numpy.core.numeric import correlate\n",
        "def coo(train):\n",
        "  coo=train.corr()\n",
        "  fig,ax=plt.subplots(figsize=(10,10))\n",
        "  sns.heatmap(coo, vmax=1, square=True,annot=True)\n",
        "  plt.show();\n",
        "coo(pd.DataFrame(X))"
      ],
      "metadata": {
        "colab": {
          "base_uri": "https://localhost:8080/",
          "height": 579
        },
        "id": "xNqYrFfAfW-w",
        "outputId": "41af0991-ce2f-411e-97e3-2a87b4293c1a"
      },
      "execution_count": 158,
      "outputs": [
        {
          "output_type": "display_data",
          "data": {
            "text/plain": [
              "<Figure size 720x720 with 2 Axes>"
            ],
            "image/png": "[encoded data removed]"
          },
          "metadata": {}
        }
      ]
    },
    {
      "cell_type": "markdown",
      "source": [
        "3.5 we are projecting the data points onto the first two principal components."
      ],
      "metadata": {
        "id": "2nFiFzhrd7zb"
      }
    },
    {
      "cell_type": "code",
      "source": [
        "plt.scatter(datapoints[0],datapoints[1])"
      ],
      "metadata": {
        "colab": {
          "base_uri": "https://localhost:8080/",
          "height": 285
        },
        "id": "Hsr_L_W0bhY9",
        "outputId": "c89b1cce-790b-4879-d011-52f8c869b026"
      },
      "execution_count": 159,
      "outputs": [
        {
          "output_type": "execute_result",
          "data": {
            "text/plain": [
              "<matplotlib.collections.PathCollection at 0x7f8138e828d0>"
            ]
          },
          "metadata": {},
          "execution_count": 159
        },
        {
          "output_type": "display_data",
          "data": {
            "text/plain": [
              "<Figure size 432x288 with 1 Axes>"
            ],
            "image/png": "[encoded data removed]"
          },
          "metadata": {}
        }
      ]
    },
    {
      "cell_type": "markdown",
      "source": [
        "Now, we can use some estimation to define the outliers in data points in the data frame"
      ],
      "metadata": {
        "id": "Lr2klrRteIup"
      }
    },
    {
      "cell_type": "code",
      "source": [
        "def estimate(datavalues):\n",
        "\n",
        "    m = np.mean(datavalues)\n",
        "    s = np.std(datavalues)\n",
        "    li = s * 1.5\n",
        "\n",
        "    min = m - li\n",
        "    max = m + li\n",
        "\n",
        "    return m, s, min, max"
      ],
      "metadata": {
        "id": "az8Ptt3x-vTK"
      },
      "execution_count": 160,
      "outputs": []
    },
    {
      "cell_type": "markdown",
      "source": [
        "Now, we can project the outliers in the scatter plot"
      ],
      "metadata": {
        "id": "-lJH-VxTeXwW"
      }
    },
    {
      "cell_type": "code",
      "source": [
        "m, s, min, max = estimate(datapoints[1])\n",
        "\n",
        "p = []\n",
        "i = 0\n",
        "for x, y in zip(datapoints[0],datapoints[1]):\n",
        "    color = 'green'  # non-outlier color\n",
        "    if not min <= y <= max:  # condition for being an outlier\n",
        "        color = 'grey'  # outlier color\n",
        "        p.append(i)\n",
        "    i +=1\n",
        "    plt.scatter(x, y, color=color)\n",
        "plt.show()"
      ],
      "metadata": {
        "colab": {
          "base_uri": "https://localhost:8080/",
          "height": 268
        },
        "id": "x3d2RVIgbuyI",
        "outputId": "fa3cac46-cccc-4346-b5bb-5e8572d45287"
      },
      "execution_count": 161,
      "outputs": [
        {
          "output_type": "display_data",
          "data": {
            "text/plain": [
              "<Figure size 432x288 with 1 Axes>"
            ],
            "image/png": "[encoded data removed]"
          },
          "metadata": {}
        }
      ]
    },
    {
      "cell_type": "markdown",
      "source": [
        "Now, by the above outliesr we can able to print the cities which are comes under the outliers"
      ],
      "metadata": {
        "id": "oCFnYhQ8eg6b"
      }
    },
    {
      "cell_type": "code",
      "source": [
        "df = pd.read_csv('places.txt',delim_whitespace=True,header=None)\n",
        "\n",
        "outpoints = [df.values[i,0] for i in p]\n",
        "for i in range (0,len(outpoints)):\n",
        "  print(outpoints[i])\n",
        "coun=len(outpoints)\n",
        "print('')\n",
        "print('The number of outliers of cities',coun)"
      ],
      "metadata": {
        "colab": {
          "base_uri": "https://localhost:8080/"
        },
        "id": "KD7Zh7Hy_YWj",
        "outputId": "e9d0c3b9-f2df-415d-fd55-53e8d143414a"
      },
      "execution_count": 162,
      "outputs": [
        {
          "output_type": "stream",
          "name": "stdout",
          "text": [
            "Abilene,TX\n",
            "Anderson,SC\n",
            "Augusta,GA-SC\n",
            "Baton-Rouge,LA\n",
            "Bellingham,WA\n",
            "Brownsville-Harlington,TX\n",
            "Burlington,NC\n",
            "Chico,CA\n",
            "Corpus-Christi,TX\n",
            "Danville,VA\n",
            "Eugene-Springfield,OR\n",
            "Fresno,CA\n",
            "Gadsden,AL\n",
            "Glens-Falls,NY\n",
            "Hickory,NC\n",
            "Iowa-City,IA\n",
            "Lake-Charles,LA\n",
            "Las-Vegas,NV\n",
            "Medford,OR\n",
            "Midland,TX\n",
            "Monroe,LA\n",
            "Panama-City,FL\n",
            "Parkerburg-Marietta,WV-OH\n",
            "Provo-Orem,UT\n",
            "Redding,CA\n",
            "Rochester,MN\n",
            "St.-Joseph,MO\n",
            "Salinas-Seaside-Monterey,CA\n",
            "San-Angelo,TX\n",
            "Santa-Barbara-Santa-Maria-Lompoc,CA\n",
            "Sharon,PA\n",
            "Stockton,CA\n",
            "Tacoma,WA\n",
            "Tallahassee,FL\n",
            "Visalia-Tulare-Porterville,CA\n",
            "Materbury,CT\n",
            "West-Palm-Beach-Boca-Raton-Delray-Beach,FL\n",
            "Williamsport,PA\n",
            "Worcester,MA\n",
            "Yakima,WA\n",
            "\n",
            "The number of outliers of cities 40\n"
          ]
        }
      ]
    },
    {
      "cell_type": "markdown",
      "source": [
        "3.6 we can use the normalized z-score of each data point "
      ],
      "metadata": {
        "id": "erChn-Zves5k"
      }
    },
    {
      "cell_type": "code",
      "source": [
        "z = (X-X.mean())/X.std()\n",
        "u, s, v = np.linalg.svd(z, full_matrices=True)"
      ],
      "metadata": {
        "id": "cdXcATdH9OH2"
      },
      "execution_count": 163,
      "outputs": []
    },
    {
      "cell_type": "code",
      "source": [
        "from sklearn.utils.validation import check_is_fitted\n",
        "pca=PCA(n_components=9).fit(z)\n"
      ],
      "metadata": {
        "id": "YkEYbLw6srZY"
      },
      "execution_count": 164,
      "outputs": []
    },
    {
      "cell_type": "code",
      "source": [
        "l=2\n",
        "pcs=sc=us=u[:,:len(s)] @ np.diag(s)\n",
        "vc3=us[:,0]\n",
        "vc4=us[:,1]"
      ],
      "metadata": {
        "id": "5vidNe0Tr45L"
      },
      "execution_count": 165,
      "outputs": []
    },
    {
      "cell_type": "markdown",
      "source": [
        "Again we are taking first two principal components v1 and v2"
      ],
      "metadata": {
        "id": "XjS2CNgqe8tn"
      }
    },
    {
      "cell_type": "code",
      "source": [
        "l= ['V'+str(i) for i in range(1,3)]\n",
        "z_score = pd.DataFrame(u[:,0:2], index=data1[0].tolist(), columns=l)\n",
        "z_score = z_score.reset_index()\n",
        "z_score.rename(columns={'index':'0'}, inplace=True)\n",
        "z_score.head(10)"
      ],
      "metadata": {
        "colab": {
          "base_uri": "https://localhost:8080/",
          "height": 363
        },
        "id": "r-n0C-wWccYO",
        "outputId": "4176c27a-5894-441b-85e2-cf85a86e9450"
      },
      "execution_count": 166,
      "outputs": [
        {
          "output_type": "execute_result",
          "data": {
            "text/plain": [
              "                            0        V1        V2\n",
              "0                  Abilene,TX -0.036452  0.073899\n",
              "1                    Akron,OH  0.028530 -0.012453\n",
              "2                   Albany,GA -0.071377  0.017028\n",
              "3  Albany-Schenectady-Troy,NY  0.041937 -0.080885\n",
              "4              Albuquerque,NM  0.074109  0.009603\n",
              "5               Alexandria,LA -0.068012 -0.030903\n",
              "6   Allentown,Bethlehem,PA-NJ -0.024112 -0.063622\n",
              "7       Alton,Granite-City,IL -0.008833 -0.036450\n",
              "8                  Altoona,PA -0.074246 -0.075599\n",
              "9                 Amarillo,TX -0.010378  0.013091"
            ],
            "text/html": [
              "\n",
              "  <div id=\"df-1220584f-624c-4e89-a451-1d63b41e4fb4\">\n",
              "    <div class=\"colab-df-container\">\n",
              "      <div>\n",
              "<style scoped>\n",
              "    .dataframe tbody tr th:only-of-type {\n",
              "        vertical-align: middle;\n",
              "    }\n",
              "\n",
              "    .dataframe tbody tr th {\n",
              "        vertical-align: top;\n",
              "    }\n",
              "\n",
              "    .dataframe thead th {\n",
              "        text-align: right;\n",
              "    }\n",
              "</style>\n",
              "<table border=\"1\" class=\"dataframe\">\n",
              "  <thead>\n",
              "    <tr style=\"text-align: right;\">\n",
              "      <th></th>\n",
              "      <th>0</th>\n",
              "      <th>V1</th>\n",
              "      <th>V2</th>\n",
              "    </tr>\n",
              "  </thead>\n",
              "  <tbody>\n",
              "    <tr>\n",
              "      <th>0</th>\n",
              "      <td>Abilene,TX</td>\n",
              "      <td>-0.036452</td>\n",
              "      <td>0.073899</td>\n",
              "    </tr>\n",
              "    <tr>\n",
              "      <th>1</th>\n",
              "      <td>Akron,OH</td>\n",
              "      <td>0.028530</td>\n",
              "      <td>-0.012453</td>\n",
              "    </tr>\n",
              "    <tr>\n",
              "      <th>2</th>\n",
              "      <td>Albany,GA</td>\n",
              "      <td>-0.071377</td>\n",
              "      <td>0.017028</td>\n",
              "    </tr>\n",
              "    <tr>\n",
              "      <th>3</th>\n",
              "      <td>Albany-Schenectady-Troy,NY</td>\n",
              "      <td>0.041937</td>\n",
              "      <td>-0.080885</td>\n",
              "    </tr>\n",
              "    <tr>\n",
              "      <th>4</th>\n",
              "      <td>Albuquerque,NM</td>\n",
              "      <td>0.074109</td>\n",
              "      <td>0.009603</td>\n",
              "    </tr>\n",
              "    <tr>\n",
              "      <th>5</th>\n",
              "      <td>Alexandria,LA</td>\n",
              "      <td>-0.068012</td>\n",
              "      <td>-0.030903</td>\n",
              "    </tr>\n",
              "    <tr>\n",
              "      <th>6</th>\n",
              "      <td>Allentown,Bethlehem,PA-NJ</td>\n",
              "      <td>-0.024112</td>\n",
              "      <td>-0.063622</td>\n",
              "    </tr>\n",
              "    <tr>\n",
              "      <th>7</th>\n",
              "      <td>Alton,Granite-City,IL</td>\n",
              "      <td>-0.008833</td>\n",
              "      <td>-0.036450</td>\n",
              "    </tr>\n",
              "    <tr>\n",
              "      <th>8</th>\n",
              "      <td>Altoona,PA</td>\n",
              "      <td>-0.074246</td>\n",
              "      <td>-0.075599</td>\n",
              "    </tr>\n",
              "    <tr>\n",
              "      <th>9</th>\n",
              "      <td>Amarillo,TX</td>\n",
              "      <td>-0.010378</td>\n",
              "      <td>0.013091</td>\n",
              "    </tr>\n",
              "  </tbody>\n",
              "</table>\n",
              "</div>\n",
              "      <button class=\"colab-df-convert\" onclick=\"convertToInteractive('df-1220584f-624c-4e89-a451-1d63b41e4fb4')\"\n",
              "              title=\"Convert this dataframe to an interactive table.\"\n",
              "              style=\"display:none;\">\n",
              "        \n",
              "  <svg xmlns=\"http://www.w3.org/2000/svg\" height=\"24px\"viewBox=\"0 0 24 24\"\n",
              "       width=\"24px\">\n",
              "    <path d=\"M0 0h24v24H0V0z\" fill=\"none\"/>\n",
              "    <path d=\"M18.56 5.44l.94 2.06.94-2.06 2.06-.94-2.06-.94-.94-2.06-.94 2.06-2.06.94zm-11 1L8.5 8.5l.94-2.06 2.06-.94-2.06-.94L8.5 2.5l-.94 2.06-2.06.94zm10 10l.94 2.06.94-2.06 2.06-.94-2.06-.94-.94-2.06-.94 2.06-2.06.94z\"/><path d=\"M17.41 7.96l-1.37-1.37c-.4-.4-.92-.59-1.43-.59-.52 0-1.04.2-1.43.59L10.3 9.45l-7.72 7.72c-.78.78-.78 2.05 0 2.83L4 21.41c.39.39.9.59 1.41.59.51 0 1.02-.2 1.41-.59l7.78-7.78 2.81-2.81c.8-.78.8-2.07 0-2.86zM5.41 20L4 18.59l7.72-7.72 1.47 1.35L5.41 20z\"/>\n",
              "  </svg>\n",
              "      </button>\n",
              "      \n",
              "  <style>\n",
              "    .colab-df-container {\n",
              "      display:flex;\n",
              "      flex-wrap:wrap;\n",
              "      gap: 12px;\n",
              "    }\n",
              "\n",
              "    .colab-df-convert {\n",
              "      background-color: #E8F0FE;\n",
              "      border: none;\n",
              "      border-radius: 50%;\n",
              "      cursor: pointer;\n",
              "      display: none;\n",
              "      fill: #1967D2;\n",
              "      height: 32px;\n",
              "      padding: 0 0 0 0;\n",
              "      width: 32px;\n",
              "    }\n",
              "\n",
              "    .colab-df-convert:hover {\n",
              "      background-color: #E2EBFA;\n",
              "      box-shadow: 0px 1px 2px rgba(60, 64, 67, 0.3), 0px 1px 3px 1px rgba(60, 64, 67, 0.15);\n",
              "      fill: #174EA6;\n",
              "    }\n",
              "\n",
              "    [theme=dark] .colab-df-convert {\n",
              "      background-color: #3B4455;\n",
              "      fill: #D2E3FC;\n",
              "    }\n",
              "\n",
              "    [theme=dark] .colab-df-convert:hover {\n",
              "      background-color: #434B5C;\n",
              "      box-shadow: 0px 1px 3px 1px rgba(0, 0, 0, 0.15);\n",
              "      filter: drop-shadow(0px 1px 2px rgba(0, 0, 0, 0.3));\n",
              "      fill: #FFFFFF;\n",
              "    }\n",
              "  </style>\n",
              "\n",
              "      <script>\n",
              "        const buttonEl =\n",
              "          document.querySelector('#df-1220584f-624c-4e89-a451-1d63b41e4fb4 button.colab-df-convert');\n",
              "        buttonEl.style.display =\n",
              "          google.colab.kernel.accessAllowed ? 'block' : 'none';\n",
              "\n",
              "        async function convertToInteractive(key) {\n",
              "          const element = document.querySelector('#df-1220584f-624c-4e89-a451-1d63b41e4fb4');\n",
              "          const dataTable =\n",
              "            await google.colab.kernel.invokeFunction('convertToInteractive',\n",
              "                                                     [key], {});\n",
              "          if (!dataTable) return;\n",
              "\n",
              "          const docLinkHtml = 'Like what you see? Visit the ' +\n",
              "            '<a target=\"_blank\" href=https://colab.research.google.com/notebooks/data_table.ipynb>data table notebook</a>'\n",
              "            + ' to learn more about interactive tables.';\n",
              "          element.innerHTML = '';\n",
              "          dataTable['output_type'] = 'display_data';\n",
              "          await google.colab.output.renderOutput(dataTable, element);\n",
              "          const docLink = document.createElement('div');\n",
              "          docLink.innerHTML = docLinkHtml;\n",
              "          element.appendChild(docLink);\n",
              "        }\n",
              "      </script>\n",
              "    </div>\n",
              "  </div>\n",
              "  "
            ]
          },
          "metadata": {},
          "execution_count": 166
        }
      ]
    },
    {
      "cell_type": "markdown",
      "source": [
        "we are projecting the data points onto the first two principal components."
      ],
      "metadata": {
        "id": "ldp7rdHffHch"
      }
    },
    {
      "cell_type": "code",
      "source": [
        "plt.scatter(x=\"V1\", y=\"V2\", data=z_score)"
      ],
      "metadata": {
        "colab": {
          "base_uri": "https://localhost:8080/",
          "height": 288
        },
        "id": "YyBzUpbzjrX8",
        "outputId": "900eb2f4-a8d5-4545-fc8d-7eb8f1da11ee"
      },
      "execution_count": 167,
      "outputs": [
        {
          "output_type": "execute_result",
          "data": {
            "text/plain": [
              "<matplotlib.collections.PathCollection at 0x7f8139603490>"
            ]
          },
          "metadata": {},
          "execution_count": 167
        },
        {
          "output_type": "display_data",
          "data": {
            "text/plain": [
              "<Figure size 432x288 with 1 Axes>"
            ],
            "image/png": "[encoded data removed]"
          },
          "metadata": {}
        }
      ]
    },
    {
      "cell_type": "markdown",
      "source": [
        "Again, we can project the outliers in the scatter plot"
      ],
      "metadata": {
        "id": "INnG__yDfOS_"
      }
    },
    {
      "cell_type": "code",
      "source": [
        "m, s, min, max = estimate(z_score['V2'])\n",
        "\n",
        "po = []\n",
        "i = 0\n",
        "for x, y in zip(z_score['V1'],z_score['V2']):\n",
        "    color = 'green'  # non-outlier color\n",
        "    if not min <= y <= max:  # condition for being an outlier\n",
        "        color = 'grey'  # outlier color\n",
        "        po.append(i)\n",
        "    i +=1\n",
        "    plt.scatter(x, y, color=color)\n",
        "plt.show()"
      ],
      "metadata": {
        "colab": {
          "base_uri": "https://localhost:8080/",
          "height": 271
        },
        "id": "lB_JMZlLgvAA",
        "outputId": "7cae38b8-f474-4738-9877-b0ab8c7f2f25"
      },
      "execution_count": 168,
      "outputs": [
        {
          "output_type": "display_data",
          "data": {
            "text/plain": [
              "<Figure size 432x288 with 1 Axes>"
            ],
            "image/png": "[encoded data removed]"
          },
          "metadata": {}
        }
      ]
    },
    {
      "cell_type": "markdown",
      "source": [
        "Now,by the above outliesr we can able to print the cities which are comes under the outliers"
      ],
      "metadata": {
        "id": "n_DFjhuVfVTh"
      }
    },
    {
      "cell_type": "code",
      "source": [
        "df = pd.read_csv('places.txt',delim_whitespace=True,header=None)\n",
        "\n",
        "outcities = [df.values[i,0] for i in po]\n",
        "for i in range (0,len(outcities)):\n",
        "  print(outcities[i])\n",
        "coun1=len(outcities)\n",
        "print('')\n",
        "print('The number of outliers of cities',coun1)"
      ],
      "metadata": {
        "colab": {
          "base_uri": "https://localhost:8080/"
        },
        "id": "HnVUpuqjiLWU",
        "outputId": "7282e679-daa5-4cf2-e2b6-736b54021f15"
      },
      "execution_count": 169,
      "outputs": [
        {
          "output_type": "stream",
          "name": "stdout",
          "text": [
            "Anchorage,AK\n",
            "Atlantic-City,NJ\n",
            "Bakersfield,CA\n",
            "Beaver-County,PA\n",
            "Boulder-Longmont,CO\n",
            "Bradenton,FL\n",
            "Brownsville-Harlington,TX\n",
            "Chicago,IL\n",
            "Colorado-Springs,CO\n",
            "Cumberland,MD-WV\n",
            "Danville,VA\n",
            "Daytona-Beach,FL\n",
            "Duluth,MN-WI\n",
            "Fort-Collins-Lover=land,CO\n",
            "Fort-Lauderdale-Hollywood-Pompano-Beach,FL\n",
            "Fort-Pierce,FL\n",
            "Fresno,CA\n",
            "Harrisburg-Lebanon-Carlisle,PA\n",
            "Houma-Thibodaux,LA\n",
            "Johnstown,PA\n",
            "Kokomo,IN\n",
            "Lafayette,LA\n",
            "Lake-Charles,LA\n",
            "Lancaster,PA\n",
            "Las-Vegas,NV\n",
            "Melbourne-Titusville-Palm-Bay,FL\n",
            "Midland,TX\n",
            "Ocala,FL\n",
            "Odessa,TX\n",
            "Panama-City,FL\n",
            "Philadelphia,PA-NJ\n",
            "Pittsburgh,PA\n",
            "Richland-Kinnewick-Pasco,WA\n",
            "Salinas-Seaside-Monterey,CA\n",
            "San-Angelo,TX\n",
            "Sarasota,FL\n",
            "Scranton-Wilkes-Barre,PA\n",
            "Sharon,PA\n",
            "Stockton,CA\n",
            "Victoria,TX\n",
            "Visalia-Tulare-Porterville,CA\n",
            "West-Palm-Beach-Boca-Raton-Delray-Beach,FL\n",
            "Wheeling,WV-OH\n",
            "Williamsport,PA\n",
            "Worcester,MA\n",
            "\n",
            "The number of outliers of cities 45\n"
          ]
        }
      ]
    },
    {
      "cell_type": "markdown",
      "source": [
        "We can see the differnce we using Replace each value in the matrix by its base-10 logarithm and use the normalized z-score of each data point. For the 1st one we had outliers only 40 and for second we had outlies 45"
      ],
      "metadata": {
        "id": "4qgT-DDbhC1d"
      }
    }
  ]
}