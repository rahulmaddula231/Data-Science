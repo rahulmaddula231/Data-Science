{
  "nbformat": 4,
  "nbformat_minor": 0,
  "metadata": {
    "colab": {
      "name": "MLassignment6Q3.ipynb",
      "provenance": []
    },
    "kernelspec": {
      "name": "python3",
      "display_name": "Python 3"
    },
    "language_info": {
      "name": "python"
    }
  },
  "cells": [
    {
      "cell_type": "markdown",
      "source": [
        "**Problem:3**"
      ],
      "metadata": {
        "id": "-prbzS3amKTq"
      }
    },
    {
      "cell_type": "code",
      "source": [
        "Importing the required packages"
      ],
      "metadata": {
        "id": "2qB5Yaz9mIoL"
      },
      "execution_count": null,
      "outputs": []
    },
    {
      "cell_type": "code",
      "execution_count": 1287,
      "metadata": {
        "id": "1oj6UDxlV6zL"
      },
      "outputs": [],
      "source": [
        "import math\n",
        "import warnings\n",
        "import numpy as np\n",
        "import pandas as pd\n",
        "import matplotlib.pyplot as plt\n",
        "from sklearn.manifold import MDS"
      ]
    },
    {
      "cell_type": "markdown",
      "source": [
        "From the below code we are just loading the cities csv and which is seperated by the ; and also, we are also verifying the shape of the cities csv file"
      ],
      "metadata": {
        "id": "4fVn0M9qmN8z"
      }
    },
    {
      "cell_type": "code",
      "source": [
        "dataset = pd.read_csv(\"cities.csv\",sep=';',header=None) #loading the cities csv file with seperator ;\n",
        "print('The shape of the cities csv file is',dataset.shape) #priniting the shape of the cities data set\n",
        "print(' ')\n",
        "dataset.head(10) #priniting the few rows from the data set"
      ],
      "metadata": {
        "colab": {
          "base_uri": "https://localhost:8080/",
          "height": 491
        },
        "id": "N8yEUyd_WFmP",
        "outputId": "e8bfbae7-f06e-4046-8492-e804bfa3049d"
      },
      "execution_count": 1288,
      "outputs": [
        {
          "output_type": "stream",
          "name": "stdout",
          "text": [
            "The shape of the cities csv file is (24, 26)\n",
            " \n"
          ]
        },
        {
          "output_type": "execute_result",
          "data": {
            "text/plain": [
              "           0        1        2        3        4        5        6        7   \\\n",
              "0   Barcelona     0.00  1528.13  1497.61  1062.89  1968.42  1498.79  1757.54   \n",
              "1    Belgrade  1528.13     0.00   999.25  1372.59   447.34   316.41  1327.24   \n",
              "2      Berlin  1497.61   999.25     0.00   651.62  1293.40   689.06   354.03   \n",
              "3    Brussels  1062.89  1372.59   651.62     0.00  1769.69  1131.52   766.67   \n",
              "4   Bucharest  1968.42   447.34  1293.40  1769.69     0.00   639.77  1571.54   \n",
              "5    Budapest  1498.79   316.41   689.06  1131.52   639.77     0.00  1011.31   \n",
              "6  Copenhagen  1757.54  1327.24   354.03   766.67  1571.54  1011.31     0.00   \n",
              "7      Dublin  1469.29  2145.39  1315.16   773.20  2534.72  1894.95  1238.38   \n",
              "8     Hamburg  1471.78  1229.93   254.51   489.76  1544.17   927.92   287.97   \n",
              "9    Istanbul  2230.42   809.48  1735.01  2178.85   445.62  1064.76  2017.17   \n",
              "\n",
              "        8        9   ...       16       17       18       19       20  \\\n",
              "0  1469.29  1471.78  ...  1054.55   831.59  1353.90   856.69  2813.02   \n",
              "1  2145.39  1229.93  ...   773.33  1445.70   738.10   721.55  1797.75   \n",
              "2  1315.16   254.51  ...   501.97   876.96   280.34  1181.67  1319.62   \n",
              "3   773.20   489.76  ...   601.87   261.29   721.08  1171.34  1903.66   \n",
              "4  2534.72  1544.17  ...  1186.37  1869.95  1076.82  1137.38  1740.39   \n",
              "5  1894.95   927.92  ...   563.93  1247.61   443.26   811.11  1556.51   \n",
              "6  1238.38   287.97  ...   838.00  1025.90   633.05  1529.69  1143.40   \n",
              "7     0.00  1073.36  ...  1374.91   776.83  1465.61  1882.22  2314.19   \n",
              "8  1073.36     0.00  ...   610.17   744.63   492.25  1307.51  1414.16   \n",
              "9  2950.11  1983.75  ...  1582.16  2253.98  1507.55  1373.81  2099.29   \n",
              "\n",
              "        21       22       23       24  25  \n",
              "0  1745.55  2276.51  1347.43  1862.33 NaN  \n",
              "1   329.46  1620.96   489.28   826.66 NaN  \n",
              "2  1318.67   810.38   523.61   516.06 NaN  \n",
              "3  1697.83  1280.88   914.81  1159.85 NaN  \n",
              "4   296.68  1742.25   855.32   946.12 NaN  \n",
              "5   629.63  1316.59   216.98   545.29 NaN  \n",
              "6  1635.54   521.68   868.87   667.80 NaN  \n",
              "7  2471.02  1626.56  1680.00  1823.72 NaN  \n",
              "8  1554.82   809.65   742.79   750.49 NaN  \n",
              "9   502.61  2171.65  1273.88  1386.08 NaN  \n",
              "\n",
              "[10 rows x 26 columns]"
            ],
            "text/html": [
              "\n",
              "  <div id=\"df-a053ce63-4ad1-4ee2-b8b2-9318e306c6bb\">\n",
              "    <div class=\"colab-df-container\">\n",
              "      <div>\n",
              "<style scoped>\n",
              "    .dataframe tbody tr th:only-of-type {\n",
              "        vertical-align: middle;\n",
              "    }\n",
              "\n",
              "    .dataframe tbody tr th {\n",
              "        vertical-align: top;\n",
              "    }\n",
              "\n",
              "    .dataframe thead th {\n",
              "        text-align: right;\n",
              "    }\n",
              "</style>\n",
              "<table border=\"1\" class=\"dataframe\">\n",
              "  <thead>\n",
              "    <tr style=\"text-align: right;\">\n",
              "      <th></th>\n",
              "      <th>0</th>\n",
              "      <th>1</th>\n",
              "      <th>2</th>\n",
              "      <th>3</th>\n",
              "      <th>4</th>\n",
              "      <th>5</th>\n",
              "      <th>6</th>\n",
              "      <th>7</th>\n",
              "      <th>8</th>\n",
              "      <th>9</th>\n",
              "      <th>...</th>\n",
              "      <th>16</th>\n",
              "      <th>17</th>\n",
              "      <th>18</th>\n",
              "      <th>19</th>\n",
              "      <th>20</th>\n",
              "      <th>21</th>\n",
              "      <th>22</th>\n",
              "      <th>23</th>\n",
              "      <th>24</th>\n",
              "      <th>25</th>\n",
              "    </tr>\n",
              "  </thead>\n",
              "  <tbody>\n",
              "    <tr>\n",
              "      <th>0</th>\n",
              "      <td>Barcelona</td>\n",
              "      <td>0.00</td>\n",
              "      <td>1528.13</td>\n",
              "      <td>1497.61</td>\n",
              "      <td>1062.89</td>\n",
              "      <td>1968.42</td>\n",
              "      <td>1498.79</td>\n",
              "      <td>1757.54</td>\n",
              "      <td>1469.29</td>\n",
              "      <td>1471.78</td>\n",
              "      <td>...</td>\n",
              "      <td>1054.55</td>\n",
              "      <td>831.59</td>\n",
              "      <td>1353.90</td>\n",
              "      <td>856.69</td>\n",
              "      <td>2813.02</td>\n",
              "      <td>1745.55</td>\n",
              "      <td>2276.51</td>\n",
              "      <td>1347.43</td>\n",
              "      <td>1862.33</td>\n",
              "      <td>NaN</td>\n",
              "    </tr>\n",
              "    <tr>\n",
              "      <th>1</th>\n",
              "      <td>Belgrade</td>\n",
              "      <td>1528.13</td>\n",
              "      <td>0.00</td>\n",
              "      <td>999.25</td>\n",
              "      <td>1372.59</td>\n",
              "      <td>447.34</td>\n",
              "      <td>316.41</td>\n",
              "      <td>1327.24</td>\n",
              "      <td>2145.39</td>\n",
              "      <td>1229.93</td>\n",
              "      <td>...</td>\n",
              "      <td>773.33</td>\n",
              "      <td>1445.70</td>\n",
              "      <td>738.10</td>\n",
              "      <td>721.55</td>\n",
              "      <td>1797.75</td>\n",
              "      <td>329.46</td>\n",
              "      <td>1620.96</td>\n",
              "      <td>489.28</td>\n",
              "      <td>826.66</td>\n",
              "      <td>NaN</td>\n",
              "    </tr>\n",
              "    <tr>\n",
              "      <th>2</th>\n",
              "      <td>Berlin</td>\n",
              "      <td>1497.61</td>\n",
              "      <td>999.25</td>\n",
              "      <td>0.00</td>\n",
              "      <td>651.62</td>\n",
              "      <td>1293.40</td>\n",
              "      <td>689.06</td>\n",
              "      <td>354.03</td>\n",
              "      <td>1315.16</td>\n",
              "      <td>254.51</td>\n",
              "      <td>...</td>\n",
              "      <td>501.97</td>\n",
              "      <td>876.96</td>\n",
              "      <td>280.34</td>\n",
              "      <td>1181.67</td>\n",
              "      <td>1319.62</td>\n",
              "      <td>1318.67</td>\n",
              "      <td>810.38</td>\n",
              "      <td>523.61</td>\n",
              "      <td>516.06</td>\n",
              "      <td>NaN</td>\n",
              "    </tr>\n",
              "    <tr>\n",
              "      <th>3</th>\n",
              "      <td>Brussels</td>\n",
              "      <td>1062.89</td>\n",
              "      <td>1372.59</td>\n",
              "      <td>651.62</td>\n",
              "      <td>0.00</td>\n",
              "      <td>1769.69</td>\n",
              "      <td>1131.52</td>\n",
              "      <td>766.67</td>\n",
              "      <td>773.20</td>\n",
              "      <td>489.76</td>\n",
              "      <td>...</td>\n",
              "      <td>601.87</td>\n",
              "      <td>261.29</td>\n",
              "      <td>721.08</td>\n",
              "      <td>1171.34</td>\n",
              "      <td>1903.66</td>\n",
              "      <td>1697.83</td>\n",
              "      <td>1280.88</td>\n",
              "      <td>914.81</td>\n",
              "      <td>1159.85</td>\n",
              "      <td>NaN</td>\n",
              "    </tr>\n",
              "    <tr>\n",
              "      <th>4</th>\n",
              "      <td>Bucharest</td>\n",
              "      <td>1968.42</td>\n",
              "      <td>447.34</td>\n",
              "      <td>1293.40</td>\n",
              "      <td>1769.69</td>\n",
              "      <td>0.00</td>\n",
              "      <td>639.77</td>\n",
              "      <td>1571.54</td>\n",
              "      <td>2534.72</td>\n",
              "      <td>1544.17</td>\n",
              "      <td>...</td>\n",
              "      <td>1186.37</td>\n",
              "      <td>1869.95</td>\n",
              "      <td>1076.82</td>\n",
              "      <td>1137.38</td>\n",
              "      <td>1740.39</td>\n",
              "      <td>296.68</td>\n",
              "      <td>1742.25</td>\n",
              "      <td>855.32</td>\n",
              "      <td>946.12</td>\n",
              "      <td>NaN</td>\n",
              "    </tr>\n",
              "    <tr>\n",
              "      <th>5</th>\n",
              "      <td>Budapest</td>\n",
              "      <td>1498.79</td>\n",
              "      <td>316.41</td>\n",
              "      <td>689.06</td>\n",
              "      <td>1131.52</td>\n",
              "      <td>639.77</td>\n",
              "      <td>0.00</td>\n",
              "      <td>1011.31</td>\n",
              "      <td>1894.95</td>\n",
              "      <td>927.92</td>\n",
              "      <td>...</td>\n",
              "      <td>563.93</td>\n",
              "      <td>1247.61</td>\n",
              "      <td>443.26</td>\n",
              "      <td>811.11</td>\n",
              "      <td>1556.51</td>\n",
              "      <td>629.63</td>\n",
              "      <td>1316.59</td>\n",
              "      <td>216.98</td>\n",
              "      <td>545.29</td>\n",
              "      <td>NaN</td>\n",
              "    </tr>\n",
              "    <tr>\n",
              "      <th>6</th>\n",
              "      <td>Copenhagen</td>\n",
              "      <td>1757.54</td>\n",
              "      <td>1327.24</td>\n",
              "      <td>354.03</td>\n",
              "      <td>766.67</td>\n",
              "      <td>1571.54</td>\n",
              "      <td>1011.31</td>\n",
              "      <td>0.00</td>\n",
              "      <td>1238.38</td>\n",
              "      <td>287.97</td>\n",
              "      <td>...</td>\n",
              "      <td>838.00</td>\n",
              "      <td>1025.90</td>\n",
              "      <td>633.05</td>\n",
              "      <td>1529.69</td>\n",
              "      <td>1143.40</td>\n",
              "      <td>1635.54</td>\n",
              "      <td>521.68</td>\n",
              "      <td>868.87</td>\n",
              "      <td>667.80</td>\n",
              "      <td>NaN</td>\n",
              "    </tr>\n",
              "    <tr>\n",
              "      <th>7</th>\n",
              "      <td>Dublin</td>\n",
              "      <td>1469.29</td>\n",
              "      <td>2145.39</td>\n",
              "      <td>1315.16</td>\n",
              "      <td>773.20</td>\n",
              "      <td>2534.72</td>\n",
              "      <td>1894.95</td>\n",
              "      <td>1238.38</td>\n",
              "      <td>0.00</td>\n",
              "      <td>1073.36</td>\n",
              "      <td>...</td>\n",
              "      <td>1374.91</td>\n",
              "      <td>776.83</td>\n",
              "      <td>1465.61</td>\n",
              "      <td>1882.22</td>\n",
              "      <td>2314.19</td>\n",
              "      <td>2471.02</td>\n",
              "      <td>1626.56</td>\n",
              "      <td>1680.00</td>\n",
              "      <td>1823.72</td>\n",
              "      <td>NaN</td>\n",
              "    </tr>\n",
              "    <tr>\n",
              "      <th>8</th>\n",
              "      <td>Hamburg</td>\n",
              "      <td>1471.78</td>\n",
              "      <td>1229.93</td>\n",
              "      <td>254.51</td>\n",
              "      <td>489.76</td>\n",
              "      <td>1544.17</td>\n",
              "      <td>927.92</td>\n",
              "      <td>287.97</td>\n",
              "      <td>1073.36</td>\n",
              "      <td>0.00</td>\n",
              "      <td>...</td>\n",
              "      <td>610.17</td>\n",
              "      <td>744.63</td>\n",
              "      <td>492.25</td>\n",
              "      <td>1307.51</td>\n",
              "      <td>1414.16</td>\n",
              "      <td>1554.82</td>\n",
              "      <td>809.65</td>\n",
              "      <td>742.79</td>\n",
              "      <td>750.49</td>\n",
              "      <td>NaN</td>\n",
              "    </tr>\n",
              "    <tr>\n",
              "      <th>9</th>\n",
              "      <td>Istanbul</td>\n",
              "      <td>2230.42</td>\n",
              "      <td>809.48</td>\n",
              "      <td>1735.01</td>\n",
              "      <td>2178.85</td>\n",
              "      <td>445.62</td>\n",
              "      <td>1064.76</td>\n",
              "      <td>2017.17</td>\n",
              "      <td>2950.11</td>\n",
              "      <td>1983.75</td>\n",
              "      <td>...</td>\n",
              "      <td>1582.16</td>\n",
              "      <td>2253.98</td>\n",
              "      <td>1507.55</td>\n",
              "      <td>1373.81</td>\n",
              "      <td>2099.29</td>\n",
              "      <td>502.61</td>\n",
              "      <td>2171.65</td>\n",
              "      <td>1273.88</td>\n",
              "      <td>1386.08</td>\n",
              "      <td>NaN</td>\n",
              "    </tr>\n",
              "  </tbody>\n",
              "</table>\n",
              "<p>10 rows × 26 columns</p>\n",
              "</div>\n",
              "      <button class=\"colab-df-convert\" onclick=\"convertToInteractive('df-a053ce63-4ad1-4ee2-b8b2-9318e306c6bb')\"\n",
              "              title=\"Convert this dataframe to an interactive table.\"\n",
              "              style=\"display:none;\">\n",
              "        \n",
              "  <svg xmlns=\"http://www.w3.org/2000/svg\" height=\"24px\"viewBox=\"0 0 24 24\"\n",
              "       width=\"24px\">\n",
              "    <path d=\"M0 0h24v24H0V0z\" fill=\"none\"/>\n",
              "    <path d=\"M18.56 5.44l.94 2.06.94-2.06 2.06-.94-2.06-.94-.94-2.06-.94 2.06-2.06.94zm-11 1L8.5 8.5l.94-2.06 2.06-.94-2.06-.94L8.5 2.5l-.94 2.06-2.06.94zm10 10l.94 2.06.94-2.06 2.06-.94-2.06-.94-.94-2.06-.94 2.06-2.06.94z\"/><path d=\"M17.41 7.96l-1.37-1.37c-.4-.4-.92-.59-1.43-.59-.52 0-1.04.2-1.43.59L10.3 9.45l-7.72 7.72c-.78.78-.78 2.05 0 2.83L4 21.41c.39.39.9.59 1.41.59.51 0 1.02-.2 1.41-.59l7.78-7.78 2.81-2.81c.8-.78.8-2.07 0-2.86zM5.41 20L4 18.59l7.72-7.72 1.47 1.35L5.41 20z\"/>\n",
              "  </svg>\n",
              "      </button>\n",
              "      \n",
              "  <style>\n",
              "    .colab-df-container {\n",
              "      display:flex;\n",
              "      flex-wrap:wrap;\n",
              "      gap: 12px;\n",
              "    }\n",
              "\n",
              "    .colab-df-convert {\n",
              "      background-color: #E8F0FE;\n",
              "      border: none;\n",
              "      border-radius: 50%;\n",
              "      cursor: pointer;\n",
              "      display: none;\n",
              "      fill: #1967D2;\n",
              "      height: 32px;\n",
              "      padding: 0 0 0 0;\n",
              "      width: 32px;\n",
              "    }\n",
              "\n",
              "    .colab-df-convert:hover {\n",
              "      background-color: #E2EBFA;\n",
              "      box-shadow: 0px 1px 2px rgba(60, 64, 67, 0.3), 0px 1px 3px 1px rgba(60, 64, 67, 0.15);\n",
              "      fill: #174EA6;\n",
              "    }\n",
              "\n",
              "    [theme=dark] .colab-df-convert {\n",
              "      background-color: #3B4455;\n",
              "      fill: #D2E3FC;\n",
              "    }\n",
              "\n",
              "    [theme=dark] .colab-df-convert:hover {\n",
              "      background-color: #434B5C;\n",
              "      box-shadow: 0px 1px 3px 1px rgba(0, 0, 0, 0.15);\n",
              "      filter: drop-shadow(0px 1px 2px rgba(0, 0, 0, 0.3));\n",
              "      fill: #FFFFFF;\n",
              "    }\n",
              "  </style>\n",
              "\n",
              "      <script>\n",
              "        const buttonEl =\n",
              "          document.querySelector('#df-a053ce63-4ad1-4ee2-b8b2-9318e306c6bb button.colab-df-convert');\n",
              "        buttonEl.style.display =\n",
              "          google.colab.kernel.accessAllowed ? 'block' : 'none';\n",
              "\n",
              "        async function convertToInteractive(key) {\n",
              "          const element = document.querySelector('#df-a053ce63-4ad1-4ee2-b8b2-9318e306c6bb');\n",
              "          const dataTable =\n",
              "            await google.colab.kernel.invokeFunction('convertToInteractive',\n",
              "                                                     [key], {});\n",
              "          if (!dataTable) return;\n",
              "\n",
              "          const docLinkHtml = 'Like what you see? Visit the ' +\n",
              "            '<a target=\"_blank\" href=https://colab.research.google.com/notebooks/data_table.ipynb>data table notebook</a>'\n",
              "            + ' to learn more about interactive tables.';\n",
              "          element.innerHTML = '';\n",
              "          dataTable['output_type'] = 'display_data';\n",
              "          await google.colab.output.renderOutput(dataTable, element);\n",
              "          const docLink = document.createElement('div');\n",
              "          docLink.innerHTML = docLinkHtml;\n",
              "          element.appendChild(docLink);\n",
              "        }\n",
              "      </script>\n",
              "    </div>\n",
              "  </div>\n",
              "  "
            ]
          },
          "metadata": {},
          "execution_count": 1288
        }
      ]
    },
    {
      "cell_type": "markdown",
      "source": [
        "As , we see from the data set, the 1st columns is the names of the city, which can be removed for multi-dimensional scaling puropse , and also, we can also see the last columns which consist of null values, we can also drop the last column for mds."
      ],
      "metadata": {
        "id": "qHAvI2eanZFX"
      }
    },
    {
      "cell_type": "code",
      "source": [
        "newmatrix = np.array(dataset.iloc[:,1:25].values) #resetting the dataset by removing the 1st and last columns which is stored as the distance matrix\n",
        "print('After prepocessing the csv file shape is',newmatrix.shape) #priniting the shape of the matrix"
      ],
      "metadata": {
        "colab": {
          "base_uri": "https://localhost:8080/"
        },
        "id": "dF_LD1EHYCa-",
        "outputId": "c21babda-2d9f-4e8b-f73a-d4865b38e334"
      },
      "execution_count": 1289,
      "outputs": [
        {
          "output_type": "stream",
          "name": "stdout",
          "text": [
            "After prepocessing the csv file shape is (24, 24)\n"
          ]
        }
      ]
    },
    {
      "cell_type": "markdown",
      "source": [
        "From the above we can see that, 1 and last columns are ignored and the stored the remaining columns data as the matrix form "
      ],
      "metadata": {
        "id": "9HJDhJ7JoMtJ"
      }
    },
    {
      "cell_type": "code",
      "source": [
        "print('The matrix with the cities csv file\\n',newmatrix) #printing the matrix"
      ],
      "metadata": {
        "colab": {
          "base_uri": "https://localhost:8080/"
        },
        "id": "jA1-d252bqso",
        "outputId": "856c6bad-9cb8-4bc8-e20e-c5971a4ac6fd"
      },
      "execution_count": 1290,
      "outputs": [
        {
          "output_type": "stream",
          "name": "stdout",
          "text": [
            "The matrix with the cities csv file\n",
            " [[   0.   1528.13 1497.61 1062.89 1968.42 1498.79 1757.54 1469.29 1471.78\n",
            "  2230.42 2391.06 1137.67  504.64  725.12 3006.93 1054.55  831.59 1353.9\n",
            "   856.69 2813.02 1745.55 2276.51 1347.43 1862.33]\n",
            " [1528.13    0.    999.25 1372.59  447.34  316.41 1327.24 2145.39 1229.93\n",
            "   809.48  976.02 1688.97 2026.94  885.32 1710.99  773.33 1445.7   738.1\n",
            "   721.55 1797.75  329.46 1620.96  489.28  826.66]\n",
            " [1497.61  999.25    0.    651.62 1293.4   689.06  354.03 1315.16  254.51\n",
            "  1735.01 1204.    929.97 1867.69  840.72 1607.99  501.97  876.96  280.34\n",
            "  1181.67 1319.62 1318.67  810.38  523.61  516.06]\n",
            " [1062.89 1372.59  651.62    0.   1769.69 1131.52  766.67  773.2   489.76\n",
            "  2178.85 1836.2   318.72 1314.3   696.61 2253.26  601.87  261.29  721.08\n",
            "  1171.34 1903.66 1697.83 1280.88  914.81 1159.85]\n",
            " [1968.42  447.34 1293.4  1769.69    0.    639.77 1571.54 2534.72 1544.17\n",
            "   445.62  744.44 2088.42 2469.71 1331.46 1497.56 1186.37 1869.95 1076.82\n",
            "  1137.38 1740.39  296.68 1742.25  855.32  946.12]\n",
            " [1498.79  316.41  689.06 1131.52  639.77    0.   1011.31 1894.95  927.92\n",
            "  1064.76  894.29 1450.12 1975.38  788.56 1565.19  563.93 1247.61  443.26\n",
            "   811.11 1556.51  629.63 1316.59  216.98  545.29]\n",
            " [1757.54 1327.24  354.03  766.67 1571.54 1011.31    0.   1238.38  287.97\n",
            "  2017.17 1326.33  955.13 2071.75 1157.89 1558.52  838.   1025.9   633.05\n",
            "  1529.69 1143.4  1635.54  521.68  868.87  667.8 ]\n",
            " [1469.29 2145.39 1315.16  773.2  2534.72 1894.95 1238.38    0.   1073.36\n",
            "  2950.11 2513.69  462.6  1449.96 1413.37 2792.41 1374.91  776.83 1465.61\n",
            "  1882.22 2314.19 2471.02 1626.56 1680.   1823.72]\n",
            " [1471.78 1229.93  254.51  489.76 1544.17  927.92  287.97 1073.36    0.\n",
            "  1983.75 1440.34  720.12 1785.33  900.01 1779.93  610.17  744.63  492.25\n",
            "  1307.51 1414.16 1554.82  809.65  742.79  750.49]\n",
            " [2230.42  809.48 1735.01 2178.85  445.62 1064.76 2017.17 2950.11 1983.75\n",
            "     0.   1052.95 2496.39 2734.6  1669.43 1753.97 1582.16 2253.98 1507.55\n",
            "  1373.81 2099.29  502.61 2171.65 1273.88 1386.08]\n",
            " [2391.06  976.02 1204.   1836.2   744.44  894.29 1326.33 2513.69 1440.34\n",
            "  1052.95    0.   2131.2  2859.32 1672.69  756.61 1391.36 2022.76 1138.61\n",
            "  1673.74 1051.39 1020.76 1265.79 1052.76  690.12]\n",
            " [1137.67 1688.97  929.97  318.72 2088.42 1450.12  955.13  462.6   720.12\n",
            "  2496.39 2131.2     0.   1263.37  957.91 2498.32  916.23  340.55 1034.57\n",
            "  1431.21 2093.69 2012.7  1431.07 1233.48 1445.85]\n",
            " [ 504.64 2026.94 1867.69 1314.3  2469.71 1975.38 2071.75 1449.96 1785.33\n",
            "  2734.6  2859.32 1263.37    0.   1187.73 3437.7  1484.53 1053.4  1773.73\n",
            "  1360.8  3183.43 2250.1  2591.53 1807.09 2288.42]\n",
            " [ 725.12  885.32  840.72  696.61 1331.46  788.56 1157.89 1413.37  900.01\n",
            "  1669.43 1672.69  957.91 1187.73    0.   2283.19  348.89  641.31  646.04\n",
            "   476.   2122.15 1166.83 1650.12  623.36 1143.01]\n",
            " [3006.93 1710.99 1607.99 2253.26 1497.56 1565.19 1558.52 2792.41 1779.93\n",
            "  1753.97  756.61 2498.32 3437.7  2283.19    0.   1957.15 2484.92 1664.04\n",
            "  2374.26  632.59 1777.35 1227.38 1669.22 1149.41]\n",
            " [1054.55  773.33  501.97  601.87 1186.37  563.93  838.   1374.91  610.17\n",
            "  1582.16 1391.36  916.23 1484.53  348.89 1957.15    0.    685.14  300.16\n",
            "   698.04 1773.83 1096.54 1311.8   354.42  809.02]\n",
            " [ 831.59 1445.7   876.96  261.29 1869.95 1247.61 1025.9   776.83  744.63\n",
            "  2253.98 2022.76  340.55 1053.4   641.31 2484.92  685.14    0.    885.38\n",
            "  1105.76 2157.99 1758.03 1541.83 1033.73 1365.91]\n",
            " [1353.9   738.1   280.34  721.08 1076.82  443.26  633.05 1465.61  492.25\n",
            "  1507.55 1138.61 1034.57 1773.73  646.04 1664.04  300.16  885.38    0.\n",
            "   922.   1476.73 1064.43 1052.85  250.71  514.69]\n",
            " [ 856.69  721.55 1181.67 1171.34 1137.38  811.11 1529.69 1882.22 1307.51\n",
            "  1373.81 1673.74 1431.21 1360.8   476.   2374.26  698.04 1105.76  922.\n",
            "     0.   2339.22  894.06 1974.79  763.26 1316.24]\n",
            " [2813.02 1797.75 1319.62 1903.66 1740.39 1556.51 1143.4  2314.19 1414.16\n",
            "  2099.29 1051.39 2093.69 3183.43 2122.15  632.59 1773.83 2157.99 1476.73\n",
            "  2339.22    0.   1969.82  688.33 1577.56 1023.41]\n",
            " [1745.55  329.46 1318.67 1697.83  296.68  629.63 1635.54 2471.02 1554.82\n",
            "   502.61 1020.76 2012.7  2250.1  1166.83 1777.35 1096.54 1758.03 1064.43\n",
            "   894.06 1969.82    0.   1884.91  817.45 1076.99]\n",
            " [2276.51 1620.96  810.38 1280.88 1742.25 1316.59  521.68 1626.56  809.65\n",
            "  2171.65 1265.79 1431.07 2591.53 1650.12 1227.38 1311.8  1541.83 1052.85\n",
            "  1974.79  688.33 1884.91    0.   1241.9   808.14]\n",
            " [1347.43  489.28  523.61  914.81  855.32  216.98  868.87 1680.    742.79\n",
            "  1273.88 1052.76 1233.48 1807.09  623.36 1669.22  354.42 1033.73  250.71\n",
            "   763.26 1577.56  817.45 1241.9     0.    557.43]\n",
            " [1862.33  826.66  516.06 1159.85  946.12  545.29  667.8  1823.72  750.49\n",
            "  1386.08  690.12 1445.85 2288.42 1143.01 1149.41  809.02 1365.91  514.69\n",
            "  1316.24 1023.41 1076.99  808.14  557.43    0.  ]]\n"
          ]
        }
      ]
    },
    {
      "cell_type": "markdown",
      "source": [
        "From the above result we can say that the matrix is symmetrical"
      ],
      "metadata": {
        "id": "SY1MkRmyoqWH"
      }
    },
    {
      "cell_type": "markdown",
      "source": [
        "Now, we can implement the  multi-dimensional scaling\n",
        "(MDS), embed the points on a 2D plane"
      ],
      "metadata": {
        "id": "ZMb3MnMmowh8"
      }
    },
    {
      "cell_type": "code",
      "source": [
        "mdsmodel = MDS(n_components=2, max_iter=1000) #using MDS package connverting the matrix\n",
        "citiesmdsmodel = mdsmodel.fit_transform(newmatrix) #fitting the matrix\n",
        "plt.scatter(citiesmdsmodel[:,0],citiesmdsmodel[:,1],color = 'red') #scattering the points on the scatter plot\n",
        "plt.title('The preprocessed figure for the Europe Map')\n",
        "plt.show()"
      ],
      "metadata": {
        "colab": {
          "base_uri": "https://localhost:8080/",
          "height": 281
        },
        "id": "8pRjIpX-bw4R",
        "outputId": "02b2851e-fa85-4e0b-cdf1-02b104994606"
      },
      "execution_count": 1291,
      "outputs": [
        {
          "output_type": "display_data",
          "data": {
            "text/plain": [
              "<Figure size 432x288 with 1 Axes>"
            ],
            "image/png": "[encoded data removed]"
          },
          "metadata": {
            "needs_background": "light"
          }
        }
      ]
    },
    {
      "cell_type": "markdown",
      "source": [
        "we had recieved the map up to a reflection/rotation, so we  have to post-process the answer that you get from MDS. To do this we can mathematical way of using the sin and cos functions which helps to rotate the data points withe respective angles"
      ],
      "metadata": {
        "id": "2HE2DGF-pg_A"
      }
    },
    {
      "cell_type": "markdown",
      "source": [
        "![Screenshot 2022-04-15 at 11.36.06 PM.png](data:image/png;base64,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)"
      ],
      "metadata": {
        "id": "QjoaDnMbqMzB"
      }
    },
    {
      "cell_type": "markdown",
      "source": [
        "From the above , we can implement in which helps to rotate the data points with the particular angle "
      ],
      "metadata": {
        "id": "yR8P_eAVqSRD"
      }
    },
    {
      "cell_type": "markdown",
      "source": [
        "![Screenshot 2022-04-15 at 11.46.17 PM.png](data:image/png;base64,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)"
      ],
      "metadata": {
        "id": "6Q7FYeXfsn_0"
      }
    },
    {
      "cell_type": "code",
      "source": [
        "degree=-1. #assigning the degree randomly\n",
        "degree=np.deg2rad(degree) #converting the degree into radians\n",
        "c, s = np.cos(degree), np.sin(degree) #computing the values of cos and sin\n",
        "cosine1=c*citiesmdsmodel[:,0] \n",
        "cosine2=c*citiesmdsmodel[:,1]\n",
        "sine3=s*citiesmdsmodel[:,0]\n",
        "sine4=s*citiesmdsmodel[:,1]\n",
        "angledpoints1=cosine1-sine4 #this will rotate the data points according to to degree which is assigned above\n",
        "angledpoints2=sine3-cosine2\n",
        "angledpointsmatrix = np.array(((angledpoints1), (angledpoints2)))\n",
        "print('The angled points matrix\\n',angledpointsmatrix)\n",
        "figure,angledpoints = plt.subplots(figsize=(8,7)). #plotting the figure after rotating the data points based on the degree\n",
        "angledpoints.scatter(angledpoints1,angledpoints2,color='red')\n",
        "for i,j in enumerate(np.array(dataset.iloc[:,0].values)):    #looping to gives the cities names to the data points\n",
        "    angledpoints.annotate(j,(angledpoints1[i],angledpoints2[i])) #getting the names of the cities according the datapoints\n",
        "plt.title('The post processed figure for the Europe Map')\n",
        "plt.show()"
      ],
      "metadata": {
        "colab": {
          "base_uri": "https://localhost:8080/",
          "height": 670
        },
        "id": "hS9cZ5EmFhKm",
        "outputId": "088725fd-dc0a-4b7b-ae58-620b3f58c2d0"
      },
      "execution_count": 1292,
      "outputs": [
        {
          "output_type": "stream",
          "name": "stdout",
          "text": [
            "The angled points matrix\n",
            " [[-2424.31020421  1795.18149136  -539.00896356 -2305.92374289\n",
            "   3052.71463135  1219.89205027  -847.66726406 -4221.62725453\n",
            "  -1259.43806962  4182.73404912  3019.04900912 -3151.25380748\n",
            "  -3825.31056917  -920.53587327  3317.49634183  -571.21979283\n",
            "  -2674.16248819   -82.30940515   109.98059552  1812.59708285\n",
            "   2698.69865648    16.05420189   543.39332222  1054.97600296]\n",
            " [-2847.05241275 -1391.28320868   851.73452088    89.84074458\n",
            "   -836.02734937  -700.31295251  1724.98424476   899.12473988\n",
            "   1089.37494786  -982.90420703  1244.12271876   175.93007049\n",
            "  -3425.02562012 -1552.95609749  3579.21593401  -703.66354371\n",
            "   -543.95270266    39.59171341 -2344.03083283  3853.12825183\n",
            "  -1527.24271234  2915.1492436   -588.72334011   980.97784953]]\n"
          ]
        },
        {
          "output_type": "display_data",
          "data": {
            "text/plain": [
              "<Figure size 576x504 with 1 Axes>"
            ],
            "image/png": "[encoded data removed]"
          },
          "metadata": {
            "needs_background": "light"
          }
        }
      ]
    }
  ]
}