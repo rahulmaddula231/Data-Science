{
  "nbformat": 4,
  "nbformat_minor": 0,
  "metadata": {
    "colab": {
      "name": "MLassignment5Q2.ipynb",
      "provenance": []
    },
    "kernelspec": {
      "name": "python3",
      "display_name": "Python 3"
    },
    "language_info": {
      "name": "python"
    }
  },
  "cells": [
    {
      "cell_type": "markdown",
      "source": [
        "**Problem : 2**"
      ],
      "metadata": {
        "id": "hcKWFmZAcmrm"
      }
    },
    {
      "cell_type": "code",
      "execution_count": 1,
      "metadata": {
        "id": "MA-KO616ooUi"
      },
      "outputs": [],
      "source": [
        "import numpy as np\n",
        "import matplotlib.pyplot as plt\n",
        "from sklearn . datasets import make_circles\n",
        "from sklearn.neighbors import kneighbors_graph"
      ]
    },
    {
      "cell_type": "markdown",
      "source": [
        "From, the below code, is the same code given in question which is used to generate the some samples, and intilaizing the outer and inner labels."
      ],
      "metadata": {
        "id": "fOsvw3NXML7b"
      }
    },
    {
      "cell_type": "code",
      "source": [
        "n_samples = 280\n",
        "X, y = make_circles(n_samples=n_samples , shuffle=False) \n",
        "outer, inner = 0, 1\n",
        "labels = np.full(n_samples ,-1.0)\n",
        "labels[0] = outer\n",
        "labels[-1] = inner"
      ],
      "metadata": {
        "id": "6cwkR1gFp3sa"
      },
      "execution_count": 2,
      "outputs": []
    },
    {
      "cell_type": "markdown",
      "source": [
        "Now, the below code help us create a figure with the raw data samples, into two class lables which are outer and inner labels. "
      ],
      "metadata": {
        "id": "ZAgJU2vIRwNC"
      }
    },
    {
      "cell_type": "code",
      "source": [
        "plt.figure(figsize=(10, 5))\n",
        "plt.subplot(1,1,1)\n",
        "plt.scatter(X[labels == -1, 0],X[labels == -1, 1],color=\"blue\",marker=\"^\",label=\"unlabeled\",s=35,)\n",
        "plt.scatter(X[labels == inner, 0],X[labels == inner, 1],color=\"green\",marker=\"o\",lw=0,label=\"inner labeled\",s=35,)\n",
        "plt.scatter(X[labels == outer, 0],X[labels == outer, 1],color=\"red\",marker=\"o\",lw=0,label=\"outer labeled\",s=35,)\n",
        "plt.title(\"Raw data (2 classes=outer and inner)\")\n",
        "plt.legend(scatterpoints=1, shadow=True, loc=\"upper left\")\n",
        "plt.show()"
      ],
      "metadata": {
        "colab": {
          "base_uri": "https://localhost:8080/",
          "height": 336
        },
        "id": "3RbOHPYTp_8h",
        "outputId": "8e04bdf9-5cd8-46b6-9b06-c69be0b3059e"
      },
      "execution_count": 3,
      "outputs": [
        {
          "output_type": "display_data",
          "data": {
            "text/plain": [
              "<Figure size 720x360 with 1 Axes>"
            ],
            "image/png": "[encoded data removed]"
          },
          "metadata": {
            "needs_background": "light"
          }
        }
      ]
    },
    {
      "cell_type": "markdown",
      "source": [
        "The below is the code for the Label spreading, we had implemented Label Spreading to classify data points from two circles. For this we have to create the the graph matrix, then we have to do the categorical distribution, Then by that we have start the process for the label distribution to entire raw data samples, and then by transduction we can assign the labels to the samples given."
      ],
      "metadata": {
        "id": "6RCLDk2aSO7R"
      }
    },
    {
      "cell_type": "code",
      "source": [
        "def Labelspreadingalgo(X, y):  #defining the function for the Labelspreadingalgorithm\n",
        "    alphadecay = 0.8           # Intialiazing the parameters as question mentioned alphadecay must be 0.8\n",
        "    contol=0.001\n",
        "    maximumiterations=150\n",
        "    n_samples=len(y)           #n_samples nothing but the number samples given for the raw data.\n",
        "    matgraph = kneighbors_graph(X, 6,include_self='auto') #Creating a graph matrix using the Kneighborsgraph which will used for the label distriubution.\n",
        "    catdis = np.unique(y)\n",
        "    catdis = catdis[catdis != -1]\n",
        "    print('The classes distribution :',catdis) # printing label construction,construct a categorical distribution for classification\n",
        "    print(' ')        \n",
        "    no_of_classifications = len(catdis)\n",
        "    print('The number of samples:',n_samples)\n",
        "    print(' ')\n",
        "    print('The sum of classification distrubutions are:',no_of_classifications)\n",
        "    befores = np.zeros((X.shape[0], no_of_classifications)) #Label propagation for the process\n",
        "    ldis = np.zeros((n_samples, no_of_classifications)) #Staring the label distribution process as below\n",
        "    for i in catdis:\n",
        "        ldis[y == i, catdis == i] = 1\n",
        "    ps = np.copy(ldis)\n",
        "    ps = ps *(1 - alphadecay) #Label spreading using the hyperparameter alphadecay 0.8\n",
        "    for n in range(maximumiterations):\n",
        "        sub=np.abs(ldis - befores).sum()\n",
        "        if sub < contol:\n",
        "            break\n",
        "        befores = ldis\n",
        "        mul=np.multiply(ldis, alphadecay) #soft clampping with the help of alphadecay 0.8\n",
        "        ldis = mul+ps\n",
        "        mul1=matgraph @ ldis\n",
        "        ldis = mul1        \n",
        "    li = np.sum(ldis, axis=1)[:, np.newaxis]\n",
        "    li[li == 0] = 1\n",
        "    ldis =ldis/li\n",
        "    tra = catdis[np.argmax(ldis, axis=1)] #Now we are setting the transduction which can help us to assign the appropriate labels to the data sample.\n",
        "    tra1 = tra.ravel()                    #Now with the help of transduction variable we can finally assign the labels.\n",
        "    #print(tra)\n",
        "    return tra1                           #In the end we are returning the Labels for the raw data samples."
      ],
      "metadata": {
        "id": "5NeZRPedJJbR"
      },
      "execution_count": 4,
      "outputs": []
    },
    {
      "cell_type": "markdown",
      "source": [
        "Now, we are running the algorithm by given the labels and raw sample data as the parameters and stroring it and priniting the results."
      ],
      "metadata": {
        "id": "TGSgzNTTcw01"
      }
    },
    {
      "cell_type": "code",
      "source": [
        "results = Labelspreadingalgo(X, labels)\n",
        "print(' ')\n",
        "print('The resulting labels are :\\n',results)"
      ],
      "metadata": {
        "colab": {
          "base_uri": "https://localhost:8080/"
        },
        "id": "3lYfYfMoJOR8",
        "outputId": "795cb28d-49b9-445b-e2a0-8be988d77fae"
      },
      "execution_count": 5,
      "outputs": [
        {
          "output_type": "stream",
          "name": "stdout",
          "text": [
            "The classes distribution : [0. 1.]\n",
            " \n",
            "The number of samples: 280\n",
            " \n",
            "The sum of classification distrubutions are: 2\n",
            " \n",
            "The resulting labels are :\n",
            " [0. 0. 0. 0. 0. 0. 0. 0. 0. 0. 0. 0. 0. 0. 0. 0. 0. 0. 0. 0. 0. 0. 0. 0.\n",
            " 0. 0. 0. 0. 0. 0. 0. 0. 0. 0. 0. 0. 0. 0. 0. 0. 0. 0. 0. 0. 0. 0. 0. 0.\n",
            " 0. 0. 0. 0. 0. 0. 0. 0. 0. 0. 0. 0. 0. 0. 0. 0. 0. 0. 0. 0. 0. 0. 0. 0.\n",
            " 0. 0. 0. 0. 0. 0. 0. 0. 0. 0. 0. 0. 0. 0. 0. 0. 0. 0. 0. 0. 0. 0. 0. 0.\n",
            " 0. 0. 0. 0. 0. 0. 0. 0. 0. 0. 0. 0. 0. 0. 0. 0. 0. 0. 0. 0. 0. 0. 0. 0.\n",
            " 0. 0. 0. 0. 0. 0. 0. 0. 0. 0. 0. 0. 0. 0. 0. 0. 0. 0. 0. 0. 1. 1. 1. 1.\n",
            " 1. 1. 1. 1. 1. 1. 1. 1. 1. 1. 1. 1. 1. 1. 1. 1. 1. 1. 1. 1. 1. 1. 1. 1.\n",
            " 1. 1. 1. 1. 1. 1. 1. 1. 1. 1. 1. 1. 1. 1. 1. 1. 1. 1. 1. 1. 1. 1. 1. 1.\n",
            " 1. 1. 1. 1. 1. 1. 1. 1. 1. 1. 1. 1. 1. 1. 1. 1. 1. 1. 1. 1. 1. 1. 1. 1.\n",
            " 1. 1. 1. 1. 1. 1. 1. 1. 1. 1. 1. 1. 1. 1. 1. 1. 1. 1. 1. 1. 1. 1. 1. 1.\n",
            " 1. 1. 1. 1. 1. 1. 1. 1. 1. 1. 1. 1. 1. 1. 1. 1. 1. 1. 1. 1. 1. 1. 1. 1.\n",
            " 1. 1. 1. 1. 1. 1. 1. 1. 1. 1. 1. 1. 1. 1. 1. 1.]\n"
          ]
        }
      ]
    },
    {
      "cell_type": "markdown",
      "source": [
        "From the above we know that, from 0-139 raw data samples are assigned with 0 which are know to be outer learned labels and 140-279 raw data samples are assigned with 1 which are know to be inner leraned labels."
      ],
      "metadata": {
        "id": "8uiSHk6yc_hU"
      }
    },
    {
      "cell_type": "markdown",
      "source": [
        "From the below code is used to repersent the figure for the labelled data(0's and 1's) in form of circles which can be explain the label spreading clearly."
      ],
      "metadata": {
        "id": "YzT-6DIUdsTb"
      }
    },
    {
      "cell_type": "code",
      "source": [
        "plt.subplot(1, 1, 1)\n",
        "resa = np.asarray(results)\n",
        "print('The result array :\\n',resa)\n",
        "i = np.where(resa == inner)[0]\n",
        "o = np.where(resa == outer)[0]\n",
        "print(' ')\n",
        "print('The inner label numbers:\\n',i)\n",
        "print(' ')\n",
        "print('The outer label numbers:\\n',o)\n",
        "plt.scatter(X[i, 0],X[i, 1],color=\"green\",marker=\"^\",lw=0,s=40,label=\"inner learned\",)\n",
        "plt.scatter(X[o, 0],X[o, 1],color=\"red\",marker=\"o\",lw=0,s=40,label=\"outer learned\",)\n",
        "plt.title(\"Labels learned with Label Spreading (KNN)\")\n",
        "plt.legend(scatterpoints=1, shadow=True, loc=\"upper left\")\n",
        "plt.show()"
      ],
      "metadata": {
        "colab": {
          "base_uri": "https://localhost:8080/",
          "height": 854
        },
        "id": "LL6GOAMENkh8",
        "outputId": "3f0a7eb3-7128-4d10-c701-4f3700a5d6a1"
      },
      "execution_count": 8,
      "outputs": [
        {
          "output_type": "stream",
          "name": "stdout",
          "text": [
            "The result array :\n",
            " [0. 0. 0. 0. 0. 0. 0. 0. 0. 0. 0. 0. 0. 0. 0. 0. 0. 0. 0. 0. 0. 0. 0. 0.\n",
            " 0. 0. 0. 0. 0. 0. 0. 0. 0. 0. 0. 0. 0. 0. 0. 0. 0. 0. 0. 0. 0. 0. 0. 0.\n",
            " 0. 0. 0. 0. 0. 0. 0. 0. 0. 0. 0. 0. 0. 0. 0. 0. 0. 0. 0. 0. 0. 0. 0. 0.\n",
            " 0. 0. 0. 0. 0. 0. 0. 0. 0. 0. 0. 0. 0. 0. 0. 0. 0. 0. 0. 0. 0. 0. 0. 0.\n",
            " 0. 0. 0. 0. 0. 0. 0. 0. 0. 0. 0. 0. 0. 0. 0. 0. 0. 0. 0. 0. 0. 0. 0. 0.\n",
            " 0. 0. 0. 0. 0. 0. 0. 0. 0. 0. 0. 0. 0. 0. 0. 0. 0. 0. 0. 0. 1. 1. 1. 1.\n",
            " 1. 1. 1. 1. 1. 1. 1. 1. 1. 1. 1. 1. 1. 1. 1. 1. 1. 1. 1. 1. 1. 1. 1. 1.\n",
            " 1. 1. 1. 1. 1. 1. 1. 1. 1. 1. 1. 1. 1. 1. 1. 1. 1. 1. 1. 1. 1. 1. 1. 1.\n",
            " 1. 1. 1. 1. 1. 1. 1. 1. 1. 1. 1. 1. 1. 1. 1. 1. 1. 1. 1. 1. 1. 1. 1. 1.\n",
            " 1. 1. 1. 1. 1. 1. 1. 1. 1. 1. 1. 1. 1. 1. 1. 1. 1. 1. 1. 1. 1. 1. 1. 1.\n",
            " 1. 1. 1. 1. 1. 1. 1. 1. 1. 1. 1. 1. 1. 1. 1. 1. 1. 1. 1. 1. 1. 1. 1. 1.\n",
            " 1. 1. 1. 1. 1. 1. 1. 1. 1. 1. 1. 1. 1. 1. 1. 1.]\n",
            " \n",
            "The inner label numbers:\n",
            " [140 141 142 143 144 145 146 147 148 149 150 151 152 153 154 155 156 157\n",
            " 158 159 160 161 162 163 164 165 166 167 168 169 170 171 172 173 174 175\n",
            " 176 177 178 179 180 181 182 183 184 185 186 187 188 189 190 191 192 193\n",
            " 194 195 196 197 198 199 200 201 202 203 204 205 206 207 208 209 210 211\n",
            " 212 213 214 215 216 217 218 219 220 221 222 223 224 225 226 227 228 229\n",
            " 230 231 232 233 234 235 236 237 238 239 240 241 242 243 244 245 246 247\n",
            " 248 249 250 251 252 253 254 255 256 257 258 259 260 261 262 263 264 265\n",
            " 266 267 268 269 270 271 272 273 274 275 276 277 278 279]\n",
            " \n",
            "The outer label numbers:\n",
            " [  0   1   2   3   4   5   6   7   8   9  10  11  12  13  14  15  16  17\n",
            "  18  19  20  21  22  23  24  25  26  27  28  29  30  31  32  33  34  35\n",
            "  36  37  38  39  40  41  42  43  44  45  46  47  48  49  50  51  52  53\n",
            "  54  55  56  57  58  59  60  61  62  63  64  65  66  67  68  69  70  71\n",
            "  72  73  74  75  76  77  78  79  80  81  82  83  84  85  86  87  88  89\n",
            "  90  91  92  93  94  95  96  97  98  99 100 101 102 103 104 105 106 107\n",
            " 108 109 110 111 112 113 114 115 116 117 118 119 120 121 122 123 124 125\n",
            " 126 127 128 129 130 131 132 133 134 135 136 137 138 139]\n"
          ]
        },
        {
          "output_type": "display_data",
          "data": {
            "text/plain": [
              "<Figure size 432x288 with 1 Axes>"
            ],
            "image/png": "[encoded data removed]"
          },
          "metadata": {
            "needs_background": "light"
          }
        }
      ]
    },
    {
      "cell_type": "markdown",
      "source": [
        "From the above results we can say that Labelspreading algorithm worked perfectly. "
      ],
      "metadata": {
        "id": "eA5gVWKNeH1O"
      }
    }
  ]
}