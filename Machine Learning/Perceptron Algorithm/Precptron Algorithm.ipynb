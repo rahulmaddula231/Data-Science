{
  "nbformat": 4,
  "nbformat_minor": 0,
  "metadata": {
    "colab": {
      "name": "MLAssignment02.ipynb",
      "provenance": []
    },
    "kernelspec": {
      "name": "python3",
      "display_name": "Python 3"
    },
    "language_info": {
      "name": "python"
    }
  },
  "cells": [
    {
      "cell_type": "code",
      "source": [
        "import numpy as np\n",
        "import matplotlib.pyplot as plt"
      ],
      "metadata": {
        "id": "fyoNOab4OrhE"
      },
      "execution_count": null,
      "outputs": []
    },
    {
      "cell_type": "markdown",
      "source": [
        "Gaussian Function for 2-D "
      ],
      "metadata": {
        "id": "YUrakPXhTwHS"
      }
    },
    {
      "cell_type": "code",
      "execution_count": null,
      "metadata": {
        "id": "cMRGfFYgOOSS"
      },
      "outputs": [],
      "source": [
        "def gaussian(x,y,mux,muy,sdx,sdy):\n",
        "  return (1/(2*np.pi*sdx*sdy))*np.exp(-1*((x-mux)/sdx)**2-((y-muy)/sdy)**2)"
      ]
    },
    {
      "cell_type": "markdown",
      "source": [
        "Below code help us to generate the two classes with 100 points each which will be sufficiently separated "
      ],
      "metadata": {
        "id": "T5s8pjRvvTPW"
      }
    },
    {
      "cell_type": "code",
      "source": [
        "mu1x,mu1y = 0.5,0.5 #mean for class 1 distribution\n",
        "mu2x,mu2y = -0.5,-0.5 #mean for class 0 distribution\n",
        "va1x,va1y = 0.25,0.25 #variance for class 1 distribution\n",
        "va2x,va2y = 0.25,0.25 #variance for class 0 distribution"
      ],
      "metadata": {
        "id": "oR4kPqDaOXam"
      },
      "execution_count": null,
      "outputs": []
    },
    {
      "cell_type": "code",
      "source": [
        "gridx = np.linspace(-2,2,400)\n",
        "gridy = np.linspace(-2,2,400)\n",
        "xv,yv = np.meshgrid(gridx,gridy)\n",
        "prob1 = gaussian(xv,yv,mu1x,mu1y,va1x,va1y) #probability class 1 w.r.t [-2,2]x[-2,2] grid with 400x400 points\n",
        "prob2 = gaussian(xv,yv,mu2x,mu2y,va2x,va2y) #probability for class 0 w.r.t [-2,2]x[-2,2] grid with 400x400 points"
      ],
      "metadata": {
        "id": "RKfaNCIPOZJs"
      },
      "execution_count": null,
      "outputs": []
    },
    {
      "cell_type": "code",
      "source": [
        "delta = 0.01\n",
        "prob1 = prob1/prob1.max()\n",
        "prob2 = prob2/prob2.max()"
      ],
      "metadata": {
        "id": "_2abLTzeRPmI"
      },
      "execution_count": null,
      "outputs": []
    },
    {
      "cell_type": "markdown",
      "source": [
        "Q1) Distribution"
      ],
      "metadata": {
        "id": "uf6XQzLjRI4B"
      }
    },
    {
      "cell_type": "code",
      "source": [
        "n = 100\n",
        "x1 = []\n",
        "x2 = []\n",
        "for i in range(n):\n",
        "  val = np.random.rand()\n",
        "  one1 = prob1.copy()\n",
        "  one1[one1<val] = 0\n",
        "  one1[one1>val+delta] = 0\n",
        "  t1 = np.argwhere(one1>0)\n",
        "  arg = np.random.choice(t1.shape[0])\n",
        "  x1.append(-2+t1[arg]/100)\n",
        "\n",
        "  val = np.random.rand()\n",
        "  one2 = prob2.copy()\n",
        "  one2[one2<val] = 0\n",
        "  one2[one2>val+delta] = 0\n",
        "  t2 = np.argwhere(one2>0)\n",
        "  arg = np.random.choice(t2.shape[0])\n",
        "  x2.append(-2+t2[arg]/100)\n",
        "\n",
        "x1 = np.array(x1)\n",
        "x2 = np.array(x2)"
      ],
      "metadata": {
        "id": "vN1Jihb1ZCg_"
      },
      "execution_count": null,
      "outputs": []
    },
    {
      "cell_type": "markdown",
      "source": [
        "We have a region around random probability chosen so that selected that probability we will have p<=a<=p+delta region for selecting points on the grid. Selecting a random point on that region is equivalent to selecting a point in gaussian distrubution because of the random sampling of probability distrubution on gaussian function"
      ],
      "metadata": {
        "id": "iQPqeNJuUSj0"
      }
    },
    {
      "cell_type": "code",
      "source": [
        "plt.scatter(x1[:,0],x1[:,1])\n",
        "plt.scatter(x2[:,0],x2[:,1])"
      ],
      "metadata": {
        "colab": {
          "base_uri": "https://localhost:8080/",
          "height": 286
        },
        "id": "AMC6VXyjXQv4",
        "outputId": "cdd702d0-f70a-43bb-ab4e-23807d443df7"
      },
      "execution_count": null,
      "outputs": [
        {
          "output_type": "execute_result",
          "data": {
            "text/plain": [
              "<matplotlib.collections.PathCollection at 0x7fd17169ba50>"
            ]
          },
          "metadata": {},
          "execution_count": 173
        },
        {
          "output_type": "display_data",
          "data": {
            "image/png": "[encoded data removed]",
            "text/plain": [
              "<Figure size 432x288 with 1 Axes>"
            ]
          },
          "metadata": {
            "needs_background": "light"
          }
        }
      ]
    },
    {
      "cell_type": "code",
      "source": [
        "w = np.array([0,0])\n",
        "b = 0"
      ],
      "metadata": {
        "id": "oVY6LPa0d_qw"
      },
      "execution_count": null,
      "outputs": []
    },
    {
      "cell_type": "markdown",
      "source": [
        "Initial weights 0,0,0 bias is not being updated here"
      ],
      "metadata": {
        "id": "gQ-8FUJHVMhx"
      }
    },
    {
      "cell_type": "code",
      "source": [
        "T = 100\n",
        "lr = 1\n",
        "conv_epoch = -1\n",
        "prev_w = np.array([-1,-1])\n",
        "for i in range(T):\n",
        "  y_exp1 = np.sum(w*x1,axis=-1)+b\n",
        "  y_exp1[y_exp1<=0] = 0\n",
        "  y_exp1[y_exp1>0] = 1\n",
        "  y_exp2 = np.sum(w*x2,axis=-1)+b\n",
        "  y_exp2[y_exp2<=0] = 0\n",
        "  y_exp2[y_exp2>0] = 1\n",
        "  w = w - lr*np.matmul((y_exp1-1).reshape(100,1).T,x1)\n",
        "  w = w - lr*np.matmul((y_exp2-0).reshape(100,1).T,x2)\n",
        "  b = b - lr*(y_exp1-1).sum()\n",
        "  b = b - lr*(y_exp2-0).sum()\n",
        "  if((prev_w-w)**2).sum()<0.01 and conv_epoch ==-1: #mse for convergence\n",
        "    conv_epoch = i\n",
        "  prev_w = w.copy()"
      ],
      "metadata": {
        "id": "KXJJqIOJIzoL"
      },
      "execution_count": null,
      "outputs": []
    },
    {
      "cell_type": "markdown",
      "source": [
        "Perceptron algorithm y_exp1 is expected output for class 1 points according to weights and y_exp2 is expected output for class 0 points"
      ],
      "metadata": {
        "id": "vtd-FO6JVSJs"
      }
    },
    {
      "cell_type": "markdown",
      "source": [
        "Q2 Weights"
      ],
      "metadata": {
        "id": "BmOrD8Q5RNtq"
      }
    },
    {
      "cell_type": "code",
      "source": [
        "w,b"
      ],
      "metadata": {
        "colab": {
          "base_uri": "https://localhost:8080/"
        },
        "id": "M-YFxIgTiRlY",
        "outputId": "83d9a676-c85f-4250-f9d3-59a481b8714b"
      },
      "execution_count": null,
      "outputs": [
        {
          "output_type": "execute_result",
          "data": {
            "text/plain": [
              "(array([[97.95, 97.98]]), 0.0)"
            ]
          },
          "metadata": {},
          "execution_count": 177
        }
      ]
    },
    {
      "cell_type": "code",
      "source": [
        "def plot_line(w,b):\n",
        "    x1 = -1\n",
        "    x2 = 1\n",
        "    y1 = -1*w[0]*x1/w[1]-b/w[1]\n",
        "    y2 = -1*w[0]*x2/w[1]-b/w[1]\n",
        "    plt.plot([x1,x2],[y1,y2])\n",
        "\n",
        "plt.scatter(x1[:,0],x1[:,1])\n",
        "plt.scatter(x2[:,0],x2[:,1])\n",
        "plot_line(w[0],b)"
      ],
      "metadata": {
        "colab": {
          "base_uri": "https://localhost:8080/",
          "height": 265
        },
        "id": "TkU1jwTcZbUX",
        "outputId": "7226cae0-1647-4c48-9c7d-86514d4c1ec0"
      },
      "execution_count": null,
      "outputs": [
        {
          "output_type": "display_data",
          "data": {
            "image/png": "[encoded data removed]",
            "text/plain": [
              "<Figure size 432x288 with 1 Axes>"
            ]
          },
          "metadata": {
            "needs_background": "light"
          }
        }
      ]
    },
    {
      "cell_type": "code",
      "source": [
        ""
      ],
      "metadata": {
        "id": "tz6tHv3aOkHj"
      },
      "execution_count": null,
      "outputs": []
    },
    {
      "cell_type": "markdown",
      "source": [
        "Q3"
      ],
      "metadata": {
        "id": "S9OnNxv8YcfQ"
      }
    },
    {
      "cell_type": "code",
      "source": [
        "mu1x,mu1y = 0.5,0.5 #mean for class 1 distribution\n",
        "mu2x,mu2y = -0.5,-0.5 #mean for class 0 distribution\n",
        "va1x,va1y = 0.8,0.8 #variance for class 1 distribution\n",
        "va2x,va2y = 0.8,0.8 #variance for class 0 distribution"
      ],
      "metadata": {
        "id": "CeyHN0FpOkxQ"
      },
      "execution_count": null,
      "outputs": []
    },
    {
      "cell_type": "code",
      "source": [
        "gridx = np.linspace(-2,2,400)\n",
        "gridy = np.linspace(-2,2,400)\n",
        "xv,yv = np.meshgrid(gridx,gridy)\n",
        "prob1 = gaussian(xv,yv,mu1x,mu1y,va1x,va1y) #probability class 1 w.r.t [-2,2]x[-2,2] grid with 400x400 points\n",
        "prob2 = gaussian(xv,yv,mu2x,mu2y,va2x,va2y) #probability for class 0 w.r.t [-2,2]x[-2,2] grid with 400x400 points"
      ],
      "metadata": {
        "id": "JGv-Sxv2OkxQ"
      },
      "execution_count": null,
      "outputs": []
    },
    {
      "cell_type": "code",
      "source": [
        "delta = 0.01\n",
        "prob1 = prob1/prob1.max()\n",
        "prob2 = prob2/prob2.max()"
      ],
      "metadata": {
        "id": "lz9LDhSBOkxR"
      },
      "execution_count": null,
      "outputs": []
    },
    {
      "cell_type": "markdown",
      "source": [
        "Q3 distribution"
      ],
      "metadata": {
        "id": "QL0guBBnRRtj"
      }
    },
    {
      "cell_type": "code",
      "source": [
        "n = 100\n",
        "x1 = []\n",
        "x2 = []\n",
        "for i in range(n):\n",
        "  val = np.random.rand()\n",
        "  one1 = prob1.copy()\n",
        "  one1[one1<val] = 0\n",
        "  one1[one1>val+delta] = 0\n",
        "  t1 = np.argwhere(one1>0)\n",
        "  arg = np.random.choice(t1.shape[0])\n",
        "  x1.append(-2+t1[arg]/100)\n",
        "\n",
        "  val = np.random.rand()\n",
        "  one2 = prob2.copy()\n",
        "  one2[one2<val] = 0\n",
        "  one2[one2>val+delta] = 0\n",
        "  t2 = np.argwhere(one2>0)\n",
        "  arg = np.random.choice(t2.shape[0])\n",
        "  x2.append(-2+t2[arg]/100)\n",
        "\n",
        "x1 = np.array(x1)\n",
        "x2 = np.array(x2)"
      ],
      "metadata": {
        "id": "vbqDEbTROkxR"
      },
      "execution_count": null,
      "outputs": []
    },
    {
      "cell_type": "markdown",
      "source": [
        "We have a region around random probability chosen so that selected that probability we will have p<=a<=p+delta region for selecting points on the grid. Selecting a random point on that region is equivalent to selecting a point in gaussian distrubution because of the random sampling of probability distrubution on gaussian function"
      ],
      "metadata": {
        "id": "yIDbCdAdX2ja"
      }
    },
    {
      "cell_type": "code",
      "source": [
        "plt.scatter(x1[:,0],x1[:,1])\n",
        "plt.scatter(x2[:,0],x2[:,1])"
      ],
      "metadata": {
        "colab": {
          "base_uri": "https://localhost:8080/",
          "height": 284
        },
        "id": "k_rBGL1eeun5",
        "outputId": "c20cf557-d189-4c93-c145-cd9f402987d3"
      },
      "execution_count": null,
      "outputs": [
        {
          "output_type": "execute_result",
          "data": {
            "text/plain": [
              "<matplotlib.collections.PathCollection at 0x7fd171af1610>"
            ]
          },
          "metadata": {},
          "execution_count": 183
        },
        {
          "output_type": "display_data",
          "data": {
            "image/png": "[encoded data removed]",
            "text/plain": [
              "<Figure size 432x288 with 1 Axes>"
            ]
          },
          "metadata": {
            "needs_background": "light"
          }
        }
      ]
    },
    {
      "cell_type": "code",
      "source": [
        "w = np.array([0,0])\n",
        "b = 0"
      ],
      "metadata": {
        "id": "7ySt2FcDOkxS"
      },
      "execution_count": null,
      "outputs": []
    },
    {
      "cell_type": "markdown",
      "source": [
        "Initial weights 0,0,0 bias is not being updated here"
      ],
      "metadata": {
        "id": "aqPi3hWnX2jb"
      }
    },
    {
      "cell_type": "code",
      "source": [
        "T = 100\n",
        "lr = 1\n",
        "conv_epoch = -1\n",
        "prev_w = np.array([-1,-1])\n",
        "for i in range(T):\n",
        "  y_exp1 = np.sum(w*x1,axis=-1)+b\n",
        "  y_exp1[y_exp1<=0] = 0\n",
        "  y_exp1[y_exp1>0] = 1\n",
        "  y_exp2 = np.sum(w*x2,axis=-1)+b\n",
        "  y_exp2[y_exp2<=0] = 0\n",
        "  y_exp2[y_exp2>0] = 1\n",
        "  w = w - lr*np.matmul((y_exp1-1).reshape(100,1).T,x1)\n",
        "  w = w - lr*np.matmul((y_exp2-0).reshape(100,1).T,x2)\n",
        "  b = b - lr*(y_exp1-1).sum()\n",
        "  b = b - lr*(y_exp2-0).sum()\n",
        "  if((prev_w-w)**2).sum()<0.01 and conv_epoch ==-1: #mse for convergence\n",
        "    conv_epoch = i\n",
        "  prev_w = w.copy()"
      ],
      "metadata": {
        "id": "kOOX1GDIOkxS"
      },
      "execution_count": null,
      "outputs": []
    },
    {
      "cell_type": "markdown",
      "source": [
        "Perceptron algorithm y_exp1 is expected output for class 1 points according to weights and y_exp2 is expected output for class 0 points"
      ],
      "metadata": {
        "id": "9QrL4EnIX2jc"
      }
    },
    {
      "cell_type": "code",
      "source": [
        "w,b"
      ],
      "metadata": {
        "colab": {
          "base_uri": "https://localhost:8080/"
        },
        "outputId": "36898f71-dbec-4dff-b363-5c02af394b91",
        "id": "7JNLsSITOkxT"
      },
      "execution_count": null,
      "outputs": [
        {
          "output_type": "execute_result",
          "data": {
            "text/plain": [
              "(array([[14.44, 13.73]]), 7.0)"
            ]
          },
          "metadata": {},
          "execution_count": 186
        }
      ]
    },
    {
      "cell_type": "markdown",
      "source": [
        "Weights and biases"
      ],
      "metadata": {
        "id": "bihJjozUXkO9"
      }
    },
    {
      "cell_type": "code",
      "source": [
        "def plot_line(w,b):\n",
        "    x1 = -2\n",
        "    x2 = 2\n",
        "    y1 = -1*w[0]*x1/w[1]-b/w[1]\n",
        "    y2 = -1*w[0]*x2/w[1]-b/w[1]\n",
        "    plt.plot([x1,x2],[y1,y2])\n",
        "\n",
        "plt.scatter(x1[:,0],x1[:,1])\n",
        "plt.scatter(x2[:,0],x2[:,1])\n",
        "plot_line(w[0],b)"
      ],
      "metadata": {
        "id": "3FhgmHUIY_m0",
        "colab": {
          "base_uri": "https://localhost:8080/",
          "height": 265
        },
        "outputId": "ea4f1810-3b7a-4f46-ac02-9e540244fd62"
      },
      "execution_count": null,
      "outputs": [
        {
          "output_type": "display_data",
          "data": {
            "image/png": "[encoded data removed]",
            "text/plain": [
              "<Figure size 432x288 with 1 Axes>"
            ]
          },
          "metadata": {
            "needs_background": "light"
          }
        }
      ]
    }
  ]
}