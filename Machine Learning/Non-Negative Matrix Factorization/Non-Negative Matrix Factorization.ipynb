{
  "nbformat": 4,
  "nbformat_minor": 0,
  "metadata": {
    "colab": {
      "name": "assignment4Q1.ipynb",
      "provenance": []
    },
    "kernelspec": {
      "name": "python3",
      "display_name": "Python 3"
    },
    "language_info": {
      "name": "python"
    }
  },
  "cells": [
    {
      "cell_type": "markdown",
      "source": [
        "PROBLEM 1"
      ],
      "metadata": {
        "id": "-ZnnEKyL71VX"
      }
    },
    {
      "cell_type": "markdown",
      "source": [
        "1.1"
      ],
      "metadata": {
        "id": "N7JNszD3_476"
      }
    },
    {
      "cell_type": "code",
      "execution_count": 83,
      "metadata": {
        "id": "WUH-ZB584C_-"
      },
      "outputs": [],
      "source": [
        "from sklearn.decomposition import NMF\n",
        "import numpy as np\n",
        "import matplotlib.pyplot as plt"
      ]
    },
    {
      "cell_type": "markdown",
      "source": [
        "Create a matrix X as the given in the question"
      ],
      "metadata": {
        "id": "Tbdbf0ZG79c8"
      }
    },
    {
      "cell_type": "code",
      "source": [
        "X = [[4,6,5], [1,2,3], [7,10,7], [6,8,4], [6,10,11]]\n",
        "X = np.array(X)\n",
        "Bi = []\n",
        "Ci = []"
      ],
      "metadata": {
        "id": "pOtYxqfc4HjN"
      },
      "execution_count": 84,
      "outputs": []
    },
    {
      "cell_type": "markdown",
      "source": [
        "By the nmf package we are getting the non-negative matrix factoriaztaion as the in the question asked for the intermediate results, so we are taking the extra variable to declare the number of itertaions, as our need and In this loop we are exceuting each every itertaion to get the result and we are appending the results into empty array bi and ci"
      ],
      "metadata": {
        "id": "MRg-9kjj8Gm8"
      }
    },
    {
      "cell_type": "code",
      "source": [
        "nmf = NMF(n_components=2, init='random', random_state=0)\n",
        "B = nmf.fit_transform(X)\n",
        "C = nmf.components_\n",
        "noite = nmf.max_iter"
      ],
      "metadata": {
        "id": "vcK1uiWZ4Td9"
      },
      "execution_count": 85,
      "outputs": []
    },
    {
      "cell_type": "markdown",
      "source": [
        "In this loop we are exceuting each every itertaion to get the result and we are appending the results into empty array bi and ci"
      ],
      "metadata": {
        "id": "1vVOrw389_c9"
      }
    },
    {
      "cell_type": "code",
      "source": [
        "e=[]\n",
        "for i in range(1,noite):\n",
        "  nmf = NMF(n_components=2, init='random', random_state=0,max_iter=i)\n",
        "  Bi.append(nmf.fit_transform(X))\n",
        "  Ci.append(nmf.components_)\n",
        "  e.append(nmf.reconstruction_err_)\n",
        "B = Bi[noite-2]\n",
        "C= Ci[noite-2]"
      ],
      "metadata": {
        "id": "zE1uw5l49606"
      },
      "execution_count": null,
      "outputs": []
    },
    {
      "cell_type": "markdown",
      "source": [
        "In this iteration we are just printing the intermediate results"
      ],
      "metadata": {
        "id": "Ma8XBSYM-0vC"
      }
    },
    {
      "cell_type": "code",
      "source": [
        "for i in range(1,noite,50):\n",
        "  print(\"Iteration:\",i)\n",
        "  print(\"basis matrix B:\\n\",Bi[i])\n",
        "  print(\"coefficient matrix C\\n\",Ci[i])"
      ],
      "metadata": {
        "colab": {
          "base_uri": "https://localhost:8080/"
        },
        "id": "DgBetzJO4qMk",
        "outputId": "bdc35c20-1629-4090-abd7-cb6ed0b84d5a"
      },
      "execution_count": 106,
      "outputs": [
        {
          "output_type": "stream",
          "name": "stdout",
          "text": [
            "Iteration: 1\n",
            "basis matrix B:\n",
            " [[1.46777074 0.61343456]\n",
            " [0.21759395 0.467505  ]\n",
            " [0.08864142 2.48617261]\n",
            " [1.61566129 0.87288473]\n",
            " [2.78523149 0.96900795]]\n",
            "coefficient matrix C\n",
            " [[1.37133098 2.43470929 2.49827937]\n",
            " [2.83883602 3.91295294 2.67830217]]\n",
            "Iteration: 51\n",
            "basis matrix B:\n",
            " [[1.05691233 0.90606946]\n",
            " [1.00149524 0.        ]\n",
            " [1.06141466 1.85009186]\n",
            " [0.0090401  1.88802487]\n",
            " [3.16172001 0.83017049]]\n",
            "coefficient matrix C\n",
            " [[1.05865048 2.04818876 2.93405874]\n",
            " [3.17672663 4.2304521  2.09967583]]\n",
            "Iteration: 101\n",
            "basis matrix B:\n",
            " [[1.05082444 0.91830761]\n",
            " [1.02582986 0.        ]\n",
            " [1.06379027 1.84535301]\n",
            " [0.02593165 1.8540908 ]\n",
            " [3.12654168 0.90083202]]\n",
            "coefficient matrix C\n",
            " [[0.98910741 1.96193257 2.91033435]\n",
            " [3.22328394 4.28814952 2.11538756]]\n",
            "Iteration: 151\n",
            "basis matrix B:\n",
            " [[1.04933681 0.92109463]\n",
            " [1.03162464 0.        ]\n",
            " [1.06449452 1.84403383]\n",
            " [0.03031543 1.8458784 ]\n",
            " [3.117695   0.91740548]]\n",
            "coefficient matrix C\n",
            " [[0.97238452 1.94131199 2.90505387]\n",
            " [3.23474021 4.30227332 2.11899578]]\n"
          ]
        }
      ]
    },
    {
      "cell_type": "markdown",
      "source": [
        "we can see from below graph we can say that at max iteration 200, it is get the convergence."
      ],
      "metadata": {
        "id": "Pq54q4KD-8II"
      }
    },
    {
      "cell_type": "code",
      "source": [
        "plt.plot(e)"
      ],
      "metadata": {
        "colab": {
          "base_uri": "https://localhost:8080/",
          "height": 282
        },
        "id": "H38uKOsh4x6x",
        "outputId": "6f55ef79-f68a-4c32-9969-a67246b57c2a"
      },
      "execution_count": 88,
      "outputs": [
        {
          "output_type": "execute_result",
          "data": {
            "text/plain": [
              "[<matplotlib.lines.Line2D at 0x7f48a5b76890>]"
            ]
          },
          "metadata": {},
          "execution_count": 88
        },
        {
          "output_type": "display_data",
          "data": {
            "text/plain": [
              "<Figure size 432x288 with 1 Axes>"
            ],
            "image/png": "[encoded data removed]"
          },
          "metadata": {
            "needs_background": "light"
          }
        }
      ]
    },
    {
      "cell_type": "markdown",
      "source": [
        "we are just verifying the matrix A with dot product B and C matrix which we got from the above results. By the result we can say that dot product of our B and C results are same the matrix X and we can do the roundoff as to get the same result perferctly as matrix x, By this we can say that non-negative facttorization is d"
      ],
      "metadata": {
        "id": "DfDGfpYn_Hp8"
      }
    },
    {
      "cell_type": "code",
      "source": [
        "print(np.matmul(B, C), '\\n',np.round(B.dot(C),0))"
      ],
      "metadata": {
        "colab": {
          "base_uri": "https://localhost:8080/"
        },
        "id": "Z1Ovc5csCEpR",
        "outputId": "38f95f3f-c712-4897-d5ec-4730cd62b4ca"
      },
      "execution_count": 104,
      "outputs": [
        {
          "output_type": "stream",
          "name": "stdout",
          "text": [
            "[[12.00008854 22.00022021 40.99879018 35.00028718]\n",
            " [19.00012093 19.99981379 13.00035271 48.00014875]\n",
            " [10.99979684 14.00031001 16.00181953 28.99974868]\n",
            " [13.99994402 16.00008801 14.00113563 35.99993205]] \n",
            " [[12. 22. 41. 35.]\n",
            " [19. 20. 13. 48.]\n",
            " [11. 14. 16. 29.]\n",
            " [14. 16. 14. 36.]]\n"
          ]
        }
      ]
    },
    {
      "cell_type": "markdown",
      "source": [
        "1.2.a"
      ],
      "metadata": {
        "id": "HKG2JIStK7qA"
      }
    },
    {
      "cell_type": "code",
      "source": [
        "A = [[12,22,41,35],[19,20,13,48],[11,14,16,29],[14,16,14,36]]\n",
        "A = np.array(A)\n",
        "S, V =  np.linalg.eig(A)\n",
        "A[np.round(np.real(S),2)==0,:]"
      ],
      "metadata": {
        "colab": {
          "base_uri": "https://localhost:8080/"
        },
        "id": "GFe_lIxZK_Lo",
        "outputId": "6de9f4df-adfe-4ce7-c001-bff16687decb"
      },
      "execution_count": 99,
      "outputs": [
        {
          "output_type": "execute_result",
          "data": {
            "text/plain": [
              "array([[11, 14, 16, 29],\n",
              "       [14, 16, 14, 36]])"
            ]
          },
          "metadata": {},
          "execution_count": 99
        }
      ]
    },
    {
      "cell_type": "markdown",
      "source": [
        "From the above code, we can use eigenvalues,Therefore we can say that from matrix A 3 and 4 are approximate positive linear combinations of other rows of A"
      ],
      "metadata": {
        "id": "SOxjKg1oLfs8"
      }
    },
    {
      "cell_type": "markdown",
      "source": [
        "1.2.b\n",
        "Find an approximate nonnegative factorization of A."
      ],
      "metadata": {
        "id": "WZAy_zX6_6NE"
      }
    },
    {
      "cell_type": "code",
      "source": [
        "A = [[12,22,41,35], [19,20,13,48], [11,14,16,29], [14,16,14,36]]\n",
        "A = np.array(A)"
      ],
      "metadata": {
        "id": "PXNexP2RHYOj"
      },
      "execution_count": 91,
      "outputs": []
    },
    {
      "cell_type": "code",
      "source": [
        "nmf = NMF(n_components=2, init='random', random_state=0)\n",
        "B = nmf.fit_transform(A)\n",
        "C = nmf.components_"
      ],
      "metadata": {
        "id": "xT0C2D7bHbc2"
      },
      "execution_count": 92,
      "outputs": []
    },
    {
      "cell_type": "code",
      "source": [
        "print(\"basis matrix B\\n\",B)\n",
        "print(\"coefficient matrix C\\n\",C)"
      ],
      "metadata": {
        "colab": {
          "base_uri": "https://localhost:8080/"
        },
        "id": "_2GgUuWWHery",
        "outputId": "ed1a20b5-b6ed-4ff6-88da-52ff13fe0a45"
      },
      "execution_count": 105,
      "outputs": [
        {
          "output_type": "stream",
          "name": "stdout",
          "text": [
            "basis matrix B\n",
            " [[5.06811038 0.        ]\n",
            " [1.60705285 3.047195  ]\n",
            " [1.97808246 1.26663945]\n",
            " [1.73076573 1.98572031]]\n",
            "coefficient matrix C\n",
            " [[ 2.36776385  4.34091181  8.08956141  6.9059836 ]\n",
            " [ 4.98655297  4.27400907  0.         12.11011047]]\n"
          ]
        }
      ]
    },
    {
      "cell_type": "code",
      "source": [
        "print(np.matmul(B, C),'\\n',np.round(B.dot(C),2))"
      ],
      "metadata": {
        "colab": {
          "base_uri": "https://localhost:8080/"
        },
        "id": "WyEZxLTsHiQS",
        "outputId": "e75eee89-9dce-4801-a40c-1e8681317c21"
      },
      "execution_count": 102,
      "outputs": [
        {
          "output_type": "stream",
          "name": "stdout",
          "text": [
            "[[12.00008854 22.00022021 40.99879018 35.00028718]\n",
            " [19.00012093 19.99981379 13.00035271 48.00014875]\n",
            " [10.99979684 14.00031001 16.00181953 28.99974868]\n",
            " [13.99994402 16.00008801 14.00113563 35.99993205]] \n",
            " [[12. 22. 41. 35.]\n",
            " [19. 20. 13. 48.]\n",
            " [11. 14. 16. 29.]\n",
            " [14. 16. 14. 36.]]\n"
          ]
        }
      ]
    }
  ]
}