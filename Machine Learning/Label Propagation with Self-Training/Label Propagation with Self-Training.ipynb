{
  "nbformat": 4,
  "nbformat_minor": 0,
  "metadata": {
    "colab": {
      "name": "MLassignment5Q3.ipynb",
      "provenance": []
    },
    "kernelspec": {
      "name": "python3",
      "display_name": "Python 3"
    },
    "language_info": {
      "name": "python"
    }
  },
  "cells": [
    {
      "cell_type": "markdown",
      "source": [
        "**Problem** : **3**"
      ],
      "metadata": {
        "id": "Dchbkasav1d_"
      }
    },
    {
      "cell_type": "code",
      "execution_count": 337,
      "metadata": {
        "id": "TTDnalqhtSmf"
      },
      "outputs": [],
      "source": [
        "import warnings\n",
        "import numpy as np\n",
        "from scipy import stats\n",
        "import matplotlib.pyplot as plt\n",
        "from sklearn import datasets\n",
        "from sklearn.neighbors import kneighbors_graph\n",
        "from sklearn.utils.extmath import safe_sparse_dot\n",
        "from sklearn.metrics import confusion_matrix,accuracy_score, classification_report\n"
      ]
    },
    {
      "cell_type": "markdown",
      "source": [
        "Demonstrates an self training technique to learn handwritten digits using label propagation"
      ],
      "metadata": {
        "id": "lUvUuU9bjkLd"
      }
    },
    {
      "cell_type": "markdown",
      "source": [
        "We start by training a label propagation model with only 10 labeled points, then we select the top five most uncertain points to label. Next, we train with 15 labeled points. We repeat this process four times to have a model trained with 30 labeled examples. Note you can increase this to label more than 30 by changing max_iterations. Labeling more than 30 can be useful to get a sense for the speed of convergence of this self training technique.\n",
        "\n",
        "A function which projects a vector into some higher dimensional space. This\n",
        "  implementation supports RBF and KNN kernels. Using the RBF kernel generates\n",
        "  a dense matrix of size O(N^2). KNN kernel will generate a sparse matrix of\n",
        "  size O(k*N) which will run much faster. See the documentation for SVMs for\n",
        "  more info on kernels."
      ],
      "metadata": {
        "id": "znF69FnojlNz"
      }
    },
    {
      "cell_type": "markdown",
      "source": [
        "As the sample code mentioned in the question, we can use that code to implement the Label Propagation with Self-Training."
      ],
      "metadata": {
        "id": "N046NnUYsNrT"
      }
    },
    {
      "cell_type": "code",
      "source": [
        "digits = datasets.load_digits()\n",
        "rng = np.random.RandomState(0)\n",
        "indices = np.arange(len(digits.data)) \n",
        "rng.shuffle(indices)\n",
        "X = digits.data[indices[:330]]\n",
        "y = digits.target[indices[:330]] \n",
        "images = digits.images[indices[:330]]"
      ],
      "metadata": {
        "id": "W52QAdV9tt-4"
      },
      "execution_count": 338,
      "outputs": []
    },
    {
      "cell_type": "code",
      "source": [
        "def Labelspreadingalgo(X, y):  #defining the function for the Labelspreadingalgorithm\n",
        "    alphadecay = 0.8           # Intialiazing the parameters as question mentioned alphadecay must be 0.8\n",
        "    contol=0.001\n",
        "    maximumiterations=150\n",
        "    y = np.asarray(y)\n",
        "    unlabeled = y == -1 #boolean array containning all the unlabled nodes\n",
        "    n_samples=len(y)           #n_samples nothing but the number samples given for the raw data.\n",
        "    matgraph = kneighbors_graph(X, 6,include_self='auto') #Creating a graph matrix using the Kneighborsgraph which will used for the label distriubution.\n",
        "    catdis = np.unique(y)\n",
        "    catdis = catdis[catdis != -1]\n",
        "    no_of_classifications = len(catdis)\n",
        "    befores = np.zeros((X.shape[0], no_of_classifications)) #Label propagation for the process\n",
        "    ldis = np.zeros((n_samples, no_of_classifications)) #Staring the label distribution process as below\n",
        "    for i in catdis:\n",
        "        ldis[y == i, catdis == i] = 1\n",
        "    ps = np.copy(ldis)\n",
        "    unlabeled = unlabeled[:, np.newaxis] # To track the labeled and unlabelled nodes \n",
        "    for n in range(maximumiterations):\n",
        "        sub=np.abs(ldis - befores).sum()\n",
        "        if sub < contol:\n",
        "            break\n",
        "        befores = ldis\n",
        "        mul1=matgraph @ ldis\n",
        "        ldis = mul1        \n",
        "        li = np.sum(ldis, axis=1)[:, np.newaxis]\n",
        "        li[li == 0] = 1\n",
        "        ldis =ldis/li\n",
        "        ldis = np.where(unlabeled, ldis, ps)\n",
        "    unlabellednodes=catdis[np.argmax(ldis, axis=1)] # unlabelled nodes\n",
        "    return unlabellednodes,catdis,ldis  "
      ],
      "metadata": {
        "id": "phgnWP9VtfXo"
      },
      "execution_count": 339,
      "outputs": []
    },
    {
      "cell_type": "code",
      "source": [
        "tot = len(y) #getting the toatal value for the targeted values.\n",
        "n = 10 #assigning the 10 label points for label propagation\n",
        "unlabeled_set = np.arange(tot)[n:]"
      ],
      "metadata": {
        "id": "8EszDiWhkH2M"
      },
      "execution_count": 340,
      "outputs": []
    },
    {
      "cell_type": "code",
      "source": [
        "def labelpropagation(n):  #we are defining the fucntion to load the digitsdataset \n",
        "    ys = np.copy(y)\n",
        "    indices = np.arange(tot)\n",
        "    nola = indices[n:]\n",
        "    ys[nola] = -1\n",
        "    unlabellednodes,labels,ldis=Labelspreadingalgo(X, ys)\n",
        "    plabs = unlabellednodes[unlabeled_set] #Predicted labels from the learnet model\n",
        "    tlabs = y[unlabeled_set] #True lables of the unlabelled set\n",
        "    warnings.filterwarnings('ignore') \n",
        "    acc = classification_report(tlabs, plabs) #getting the report which consist of accauracy, precsion,recall,f1-score,support\n",
        "    accuarcy=accuracy_score(tlabs,plabs) #getting the accuarcy scores\n",
        "    print('The Accuarcy Score of the model is: \\n',accuarcy) #priniting the accuarcy score\n",
        "    print(' ')\n",
        "    confusionmatrix = confusion_matrix(tlabs, plabs) #getting the confusion matrix\n",
        "    print(\"Accuracy of the model:\\n\",acc) #printing the entire report to get the accuarcy.\n",
        "    print(' ')\n",
        "    print(\"Confusion matrix of the model:\\n\",confusionmatrix) #printing the confusion matrix\n",
        "    prentr = stats.distributions.entropy(ldis.T) #compute the entropies of transduced label distributions\n",
        "    ui = np.argsort(prentr)[:5] # select up to 5 digit examples that the classifier is most uncertain about\n",
        "    plotfigure = plt.figure(figsize=(7, 7)) #plotting the figure and storing it\n",
        "    for i, j in enumerate(ui):\n",
        "      pc = images[j] #storing the images for the comparsions\n",
        "      pltfigure = plotfigure.add_subplot(3, 4, i + 3)\n",
        "      pltfigure.imshow(pc) #plotting the images\n",
        "      pltfigure.set_title('TrueValue: %i\\nPredictValue: %i' % (y[j], unlabellednodes[j])) #setting up the title and comapring the Actual value with the estimated value\n",
        "    plt.show()"
      ],
      "metadata": {
        "id": "iuCgMzAPxha9"
      },
      "execution_count": 341,
      "outputs": []
    },
    {
      "cell_type": "markdown",
      "source": [
        "Calling the above function with only 10 labeled points, And also getting the Accuarcy score , report and confusion matrix with the images of the digits data."
      ],
      "metadata": {
        "id": "R7yxxZT3sWRG"
      }
    },
    {
      "cell_type": "code",
      "source": [
        "n = 10\n",
        "print('The number of Label points are:',n)\n",
        "print(' ')\n",
        "unlabeled_set = np.arange(tot)[n:]\n",
        "labelpropagation(10)"
      ],
      "metadata": {
        "colab": {
          "base_uri": "https://localhost:8080/",
          "height": 906
        },
        "id": "n6JyFWklczGl",
        "outputId": "df8535cd-aba7-4f9c-e4e0-16a1cb0a7bf6"
      },
      "execution_count": 342,
      "outputs": [
        {
          "output_type": "stream",
          "name": "stdout",
          "text": [
            "The number of Label points are: 10\n",
            " \n",
            "The Accuarcy Score of the model is: \n",
            " 0.48125\n",
            " \n",
            "Accuracy of the model:\n",
            "               precision    recall  f1-score   support\n",
            "\n",
            "           0       0.00      0.00      0.00        24\n",
            "           1       0.00      0.00      0.00        29\n",
            "           2       0.78      0.94      0.85        31\n",
            "           3       0.00      0.00      0.00        28\n",
            "           4       0.00      0.00      0.00        27\n",
            "           5       0.82      0.40      0.54        35\n",
            "           6       0.62      1.00      0.76        40\n",
            "           7       0.44      1.00      0.62        36\n",
            "           8       0.34      0.97      0.51        33\n",
            "           9       1.00      0.08      0.15        37\n",
            "\n",
            "    accuracy                           0.48       320\n",
            "   macro avg       0.40      0.44      0.34       320\n",
            "weighted avg       0.44      0.48      0.38       320\n",
            "\n",
            " \n",
            "Confusion matrix of the model:\n",
            " [[ 0 24  0  0  0  0  0  0  0  0]\n",
            " [ 0  0  5  0  0  0  0 13 11  0]\n",
            " [ 0  0 29  0  0  0  0  2  0  0]\n",
            " [ 0  0  3  0  0  0 24  0  1  0]\n",
            " [ 0  0  0  0  0  0  0 27  0  0]\n",
            " [ 0  0  0  0  0 14  0  0 21  0]\n",
            " [ 0  0  0  0  0  0 40  0  0  0]\n",
            " [ 0  0  0  0  0  0  0 36  0  0]\n",
            " [ 0  0  0  0  0  0  1  0 32  0]\n",
            " [ 0  0  0  0  0  3  0  3 28  3]]\n"
          ]
        },
        {
          "output_type": "display_data",
          "data": {
            "text/plain": [
              "<Figure size 504x504 with 5 Axes>"
            ],
            "image/png": "[encoded data removed]"
          },
          "metadata": {
            "needs_background": "light"
          }
        }
      ]
    },
    {
      "cell_type": "markdown",
      "source": [
        "Calling the above function with the above 10 labeled points plus 5 new labled points, And also getting the Accuarcy score , report and confusion matrix with the images of the digits data."
      ],
      "metadata": {
        "id": "KuKuRyNTsYI5"
      }
    },
    {
      "cell_type": "code",
      "source": [
        "n = 15\n",
        "print('The number of Label points are:',n)\n",
        "print(' ')\n",
        "unlabeled_set = np.arange(tot)[n:]\n",
        "labelpropagation(15)"
      ],
      "metadata": {
        "colab": {
          "base_uri": "https://localhost:8080/",
          "height": 906
        },
        "id": "G0b_eeYvdki2",
        "outputId": "07091431-0d62-4d74-a572-9364c8061c55"
      },
      "execution_count": 343,
      "outputs": [
        {
          "output_type": "stream",
          "name": "stdout",
          "text": [
            "The number of Label points are: 15\n",
            " \n",
            "The Accuarcy Score of the model is: \n",
            " 0.473015873015873\n",
            " \n",
            "Accuracy of the model:\n",
            "               precision    recall  f1-score   support\n",
            "\n",
            "           0       0.00      0.00      0.00        24\n",
            "           1       0.00      0.00      0.00        29\n",
            "           2       0.78      0.93      0.85        30\n",
            "           3       0.00      0.00      0.00        28\n",
            "           4       0.00      0.00      0.00        27\n",
            "           5       0.82      0.40      0.54        35\n",
            "           6       0.60      1.00      0.75        37\n",
            "           7       0.44      1.00      0.62        36\n",
            "           8       0.34      0.97      0.50        32\n",
            "           9       1.00      0.08      0.15        37\n",
            "\n",
            "    accuracy                           0.47       315\n",
            "   macro avg       0.40      0.44      0.34       315\n",
            "weighted avg       0.44      0.47      0.37       315\n",
            "\n",
            " \n",
            "Confusion matrix of the model:\n",
            " [[ 0 24  0  0  0  0  0  0  0  0]\n",
            " [ 0  0  5  0  0  0  0 13 11  0]\n",
            " [ 0  0 28  0  0  0  0  2  0  0]\n",
            " [ 0  0  3  0  0  0 24  0  1  0]\n",
            " [ 0  0  0  0  0  0  0 27  0  0]\n",
            " [ 0  0  0  0  0 14  0  0 21  0]\n",
            " [ 0  0  0  0  0  0 37  0  0  0]\n",
            " [ 0  0  0  0  0  0  0 36  0  0]\n",
            " [ 0  0  0  0  0  0  1  0 31  0]\n",
            " [ 0  0  0  0  0  3  0  3 28  3]]\n"
          ]
        },
        {
          "output_type": "display_data",
          "data": {
            "text/plain": [
              "<Figure size 504x504 with 5 Axes>"
            ],
            "image/png": "[encoded data removed]"
          },
          "metadata": {
            "needs_background": "light"
          }
        }
      ]
    },
    {
      "cell_type": "markdown",
      "source": [
        "Calling the above function with the above 15 labeled points plus 5 new labled points, And also getting the Accuarcy score , report and confusion matrix with the images of the digits data."
      ],
      "metadata": {
        "id": "4T9jZirfseq4"
      }
    },
    {
      "cell_type": "code",
      "source": [
        "n = 20\n",
        "print('The number of Label points are:',n)\n",
        "print(' ')\n",
        "unlabeled_set = np.arange(tot)[n:]\n",
        "labelpropagation(20)"
      ],
      "metadata": {
        "colab": {
          "base_uri": "https://localhost:8080/",
          "height": 906
        },
        "id": "379MIoi3dvwn",
        "outputId": "692d062e-474f-42b1-f9da-28f350f66061"
      },
      "execution_count": 344,
      "outputs": [
        {
          "output_type": "stream",
          "name": "stdout",
          "text": [
            "The number of Label points are: 20\n",
            " \n",
            "The Accuarcy Score of the model is: \n",
            " 0.6161290322580645\n",
            " \n",
            "Accuracy of the model:\n",
            "               precision    recall  f1-score   support\n",
            "\n",
            "           0       0.96      1.00      0.98        23\n",
            "           1       0.86      0.43      0.57        28\n",
            "           2       0.78      0.93      0.85        30\n",
            "           3       0.00      0.00      0.00        28\n",
            "           4       0.00      0.00      0.00        27\n",
            "           5       0.89      0.71      0.79        34\n",
            "           6       0.37      1.00      0.54        36\n",
            "           7       0.55      1.00      0.71        36\n",
            "           8       0.70      0.97      0.81        31\n",
            "           9       1.00      0.05      0.10        37\n",
            "\n",
            "    accuracy                           0.62       310\n",
            "   macro avg       0.61      0.61      0.53       310\n",
            "weighted avg       0.62      0.62      0.53       310\n",
            "\n",
            " \n",
            "Confusion matrix of the model:\n",
            " [[23  0  0  0  0  0  0  0  0  0]\n",
            " [ 0 12  5  0  0  0  0  0 11  0]\n",
            " [ 0  0 28  0  0  0  0  2  0  0]\n",
            " [ 0  0  3  0  0  0 24  0  1  0]\n",
            " [ 0  0  0  0  0  0  0 27  0  0]\n",
            " [ 0  0  0  0  0 24 10  0  0  0]\n",
            " [ 0  0  0  0  0  0 36  0  0  0]\n",
            " [ 0  0  0  0  0  0  0 36  0  0]\n",
            " [ 0  0  0  0  0  0  1  0 30  0]\n",
            " [ 1  2  0  0  0  3 27  1  1  2]]\n"
          ]
        },
        {
          "output_type": "display_data",
          "data": {
            "text/plain": [
              "<Figure size 504x504 with 5 Axes>"
            ],
            "image/png": "[encoded data removed]"
          },
          "metadata": {
            "needs_background": "light"
          }
        }
      ]
    },
    {
      "cell_type": "markdown",
      "source": [
        "Calling the above function with the above 20 labeled points plus 5 new labled points, And also getting the Accuarcy score , report and confusion matrix with the images of the digits data."
      ],
      "metadata": {
        "id": "N37gOhdhsm8N"
      }
    },
    {
      "cell_type": "code",
      "source": [
        "n = 25\n",
        "print('The number of Label points are:',n)\n",
        "print(' ')\n",
        "unlabeled_set = np.arange(tot)[n:]\n",
        "labelpropagation(25)"
      ],
      "metadata": {
        "colab": {
          "base_uri": "https://localhost:8080/",
          "height": 906
        },
        "id": "58ieGBCXdzKn",
        "outputId": "82cfb969-909b-4a4b-c921-b724a5b6fdf1"
      },
      "execution_count": 345,
      "outputs": [
        {
          "output_type": "stream",
          "name": "stdout",
          "text": [
            "The number of Label points are: 25\n",
            " \n",
            "The Accuarcy Score of the model is: \n",
            " 0.6918032786885245\n",
            " \n",
            "Accuracy of the model:\n",
            "               precision    recall  f1-score   support\n",
            "\n",
            "           0       0.96      1.00      0.98        23\n",
            "           1       0.86      0.43      0.57        28\n",
            "           2       0.82      0.93      0.87        30\n",
            "           3       0.00      0.00      0.00        28\n",
            "           4       1.00      0.96      0.98        26\n",
            "           5       0.92      0.71      0.80        34\n",
            "           6       0.97      1.00      0.99        36\n",
            "           7       0.87      1.00      0.93        34\n",
            "           8       0.27      0.97      0.42        29\n",
            "           9       1.00      0.03      0.05        37\n",
            "\n",
            "    accuracy                           0.69       305\n",
            "   macro avg       0.77      0.70      0.66       305\n",
            "weighted avg       0.78      0.69      0.65       305\n",
            "\n",
            " \n",
            "Confusion matrix of the model:\n",
            " [[23  0  0  0  0  0  0  0  0  0]\n",
            " [ 0 12  5  0  0  0  0  0 11  0]\n",
            " [ 0  0 28  0  0  0  0  2  0  0]\n",
            " [ 0  0  1  0  0  0  0  0 27  0]\n",
            " [ 0  0  0  0 25  0  0  1  0  0]\n",
            " [ 0  0  0  0  0 24  0  0 10  0]\n",
            " [ 0  0  0  0  0  0 36  0  0  0]\n",
            " [ 0  0  0  0  0  0  0 34  0  0]\n",
            " [ 0  0  0  0  0  0  1  0 28  0]\n",
            " [ 1  2  0  0  0  2  0  2 29  1]]\n"
          ]
        },
        {
          "output_type": "display_data",
          "data": {
            "text/plain": [
              "<Figure size 504x504 with 5 Axes>"
            ],
            "image/png": "[encoded data removed]"
          },
          "metadata": {
            "needs_background": "light"
          }
        }
      ]
    },
    {
      "cell_type": "markdown",
      "source": [
        "Calling the above function with the above 25 labeled points plus 5 new labled points, And also getting the Accuarcy score , report and confusion matrix with the images of the digits data."
      ],
      "metadata": {
        "id": "0W4nkCqlsswx"
      }
    },
    {
      "cell_type": "code",
      "source": [
        "n = 30\n",
        "print('The number of Label points are:',n)\n",
        "print(' ')\n",
        "unlabeled_set = np.arange(tot)[n:]\n",
        "labelpropagation(30)"
      ],
      "metadata": {
        "colab": {
          "base_uri": "https://localhost:8080/",
          "height": 906
        },
        "id": "WBuuHfozd-9u",
        "outputId": "7ceb56d2-fc9e-4e8a-c8de-2f7d2dee696a"
      },
      "execution_count": 346,
      "outputs": [
        {
          "output_type": "stream",
          "name": "stdout",
          "text": [
            "The number of Label points are: 30\n",
            " \n",
            "The Accuarcy Score of the model is: \n",
            " 0.7866666666666666\n",
            " \n",
            "Accuracy of the model:\n",
            "               precision    recall  f1-score   support\n",
            "\n",
            "           0       0.96      1.00      0.98        23\n",
            "           1       0.86      0.43      0.57        28\n",
            "           2       0.82      0.93      0.87        29\n",
            "           3       0.00      0.00      0.00        28\n",
            "           4       1.00      0.96      0.98        25\n",
            "           5       0.92      0.70      0.79        33\n",
            "           6       0.97      1.00      0.99        36\n",
            "           7       0.89      1.00      0.94        34\n",
            "           8       0.42      0.97      0.59        29\n",
            "           9       0.74      0.83      0.78        35\n",
            "\n",
            "    accuracy                           0.79       300\n",
            "   macro avg       0.76      0.78      0.75       300\n",
            "weighted avg       0.76      0.79      0.76       300\n",
            "\n",
            " \n",
            "Confusion matrix of the model:\n",
            " [[23  0  0  0  0  0  0  0  0  0]\n",
            " [ 0 12  5  0  0  0  0  0 11  0]\n",
            " [ 0  0 27  0  0  0  0  2  0  0]\n",
            " [ 0  0  1  0  0  0  0  0 27  0]\n",
            " [ 0  0  0  0 24  0  0  1  0  0]\n",
            " [ 0  0  0  0  0 23  0  0  0 10]\n",
            " [ 0  0  0  0  0  0 36  0  0  0]\n",
            " [ 0  0  0  0  0  0  0 34  0  0]\n",
            " [ 0  0  0  0  0  0  1  0 28  0]\n",
            " [ 1  2  0  0  0  2  0  1  0 29]]\n"
          ]
        },
        {
          "output_type": "display_data",
          "data": {
            "text/plain": [
              "<Figure size 504x504 with 5 Axes>"
            ],
            "image/png": "[encoded data removed]"
          },
          "metadata": {
            "needs_background": "light"
          }
        }
      ]
    }
  ]
}