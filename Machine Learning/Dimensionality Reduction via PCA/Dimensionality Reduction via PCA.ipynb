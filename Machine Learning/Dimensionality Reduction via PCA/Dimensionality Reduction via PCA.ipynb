{
  "nbformat": 4,
  "nbformat_minor": 0,
  "metadata": {
    "colab": {
      "name": "MLassignment6Q2.ipynb",
      "provenance": []
    },
    "kernelspec": {
      "name": "python3",
      "display_name": "Python 3"
    },
    "language_info": {
      "name": "python"
    }
  },
  "cells": [
    {
      "cell_type": "markdown",
      "source": [
        "**Problem : 2**"
      ],
      "metadata": {
        "id": "R4s7jHrR1U07"
      }
    },
    {
      "cell_type": "markdown",
      "source": [
        "Importing the required pacakages"
      ],
      "metadata": {
        "id": "lphvUgQ8qh68"
      }
    },
    {
      "cell_type": "code",
      "execution_count": null,
      "metadata": {
        "id": "v0jjNeODZu8F"
      },
      "outputs": [],
      "source": [
        "import numpy as np\n",
        "import pandas as pd\n",
        "import seaborn as sns\n",
        "from scipy.linalg import sqrtm\n",
        "import matplotlib.pyplot as plt"
      ]
    },
    {
      "cell_type": "markdown",
      "source": [
        "storing the raw datapoints as the numpy array"
      ],
      "metadata": {
        "id": "4c032gsAqtHV"
      }
    },
    {
      "cell_type": "code",
      "source": [
        "datatable=np.array([[5.51,5.35],[20.82,24.03],[-0.77,-0.57],[19.3,19.38],[14.24,12.77],[9.74,9.68],[11.59,12.06],[-6.08,-5.22]]) #laoding the data table\n",
        "print('The given raw data points in 2-dimensional space shown as\\n',datatable)"
      ],
      "metadata": {
        "colab": {
          "base_uri": "https://localhost:8080/"
        },
        "id": "YSQFZ1tEZ--P",
        "outputId": "2d0fbe87-eeb8-4784-d5d6-d4abc909723d"
      },
      "execution_count": null,
      "outputs": [
        {
          "output_type": "stream",
          "name": "stdout",
          "text": [
            "The given raw data points in 2-dimensional space shown as\n",
            " [[ 5.51  5.35]\n",
            " [20.82 24.03]\n",
            " [-0.77 -0.57]\n",
            " [19.3  19.38]\n",
            " [14.24 12.77]\n",
            " [ 9.74  9.68]\n",
            " [11.59 12.06]\n",
            " [-6.08 -5.22]]\n"
          ]
        }
      ]
    },
    {
      "cell_type": "markdown",
      "source": [
        "Getting the shape for the raw datapoints which is stored in the numpy array"
      ],
      "metadata": {
        "id": "uX9UD-Wbq12b"
      }
    },
    {
      "cell_type": "code",
      "source": [
        "print('The shape of raw data points is',datatable.shape) #getting the shape of the raw datapoints"
      ],
      "metadata": {
        "colab": {
          "base_uri": "https://localhost:8080/"
        },
        "id": "t5JgCcXKaiqZ",
        "outputId": "906e0a87-337c-4b06-c842-43aa2e2af0ac"
      },
      "execution_count": null,
      "outputs": [
        {
          "output_type": "stream",
          "name": "stdout",
          "text": [
            "The shape of raw data points is (8, 2)\n"
          ]
        }
      ]
    },
    {
      "cell_type": "markdown",
      "source": [
        "Plotting the raw datapoints"
      ],
      "metadata": {
        "id": "YN6LzxV1rkL1"
      }
    },
    {
      "cell_type": "code",
      "source": [
        "sns.scatterplot(x=datatable[:,0],y=datatable[:,1],data=datatable,marker='*',s=200,color='red') #plotting the raw datapoints "
      ],
      "metadata": {
        "colab": {
          "base_uri": "https://localhost:8080/",
          "height": 283
        },
        "id": "rwqCDlT2apZa",
        "outputId": "d33f4c4b-65ea-4cd3-f2b5-f433650e5da7"
      },
      "execution_count": null,
      "outputs": [
        {
          "output_type": "execute_result",
          "data": {
            "text/plain": [
              "<matplotlib.axes._subplots.AxesSubplot at 0x7ff70a340c90>"
            ]
          },
          "metadata": {},
          "execution_count": 17
        },
        {
          "output_type": "display_data",
          "data": {
            "text/plain": [
              "<Figure size 432x288 with 1 Axes>"
            ],
            "image/png": "[encoded data removed]"
          },
          "metadata": {
            "needs_background": "light"
          }
        }
      ]
    },
    {
      "cell_type": "markdown",
      "source": [
        "With the given first principal components, we are just multplying the matrices"
      ],
      "metadata": {
        "id": "JvmfSLboronz"
      }
    },
    {
      "cell_type": "code",
      "source": [
        "fpc=np.array([0.694, 0.720]) #storing the given first principal components \n",
        "matrixmul=np.matmul(datatable,fpc) #matrix multiplication with rawdatapoints and first principal components\n",
        "print('The matrix mutplication between the data points and principal components\\n',matrixmul)"
      ],
      "metadata": {
        "colab": {
          "base_uri": "https://localhost:8080/"
        },
        "id": "RyDzY254cSFr",
        "outputId": "84e69c40-4008-408d-d4a8-64fe4603de28"
      },
      "execution_count": null,
      "outputs": [
        {
          "output_type": "stream",
          "name": "stdout",
          "text": [
            "The matrix mutplication between the data points and principal components\n",
            " [ 7.67594 31.75068 -0.94478 27.3478  19.07696 13.72916 16.72666 -7.97792]\n"
          ]
        }
      ]
    },
    {
      "cell_type": "markdown",
      "source": [
        "We can use SVD for this purpose"
      ],
      "metadata": {
        "id": "5K7JT_qgr4Bt"
      }
    },
    {
      "cell_type": "code",
      "source": [
        "datatableT=datatable.T. #transposing the raw datapoints which can be used for the SVD\n",
        "lsm,dm,rsm = np.linalg.svd(datatableT,full_matrices=True) #doing the SVD with raw datapoints\n",
        "print(lsm)\n",
        "print(' ')\n",
        "print(dm)\n",
        "print(' ')\n",
        "print(rsm)"
      ],
      "metadata": {
        "colab": {
          "base_uri": "https://localhost:8080/"
        },
        "id": "kEBTOFI1dT0V",
        "outputId": "2ce303c3-0883-43fc-cb66-267ed6b934b2"
      },
      "execution_count": null,
      "outputs": [
        {
          "output_type": "stream",
          "name": "stdout",
          "text": [
            "[[-0.69317353 -0.72077073]\n",
            " [-0.72077073  0.69317353]]\n",
            " \n",
            "[52.07278509  2.39168415]\n",
            " \n",
            "[[-0.14739964 -0.60976177  0.01813967 -0.52516465 -0.36631483 -0.26364196\n",
            "  -0.32121148  0.15318786]\n",
            " [-0.10995112  0.69010506  0.06685019 -0.19951301 -0.59035773 -0.12977765\n",
            "   0.00248361  0.31940682]\n",
            " [ 0.04586329 -0.0410802   0.99683705  0.0258327   0.03510573  0.01409014\n",
            "   0.01108493 -0.01742737]\n",
            " [-0.58264999 -0.16468252  0.01535116  0.72093098 -0.23763925 -0.14291915\n",
            "  -0.15882811  0.10628666]\n",
            " [-0.60009191  0.23706479  0.03051899 -0.31651332  0.6318365  -0.16857059\n",
            "  -0.15291807  0.17765292]\n",
            " [-0.30521474 -0.05957075  0.00900706 -0.14809684 -0.13258598  0.92373035\n",
            "  -0.08250026  0.06015307]\n",
            " [-0.30292286 -0.19784823  0.00392217 -0.13706158 -0.0894929  -0.0684062\n",
            "   0.91448134  0.03644242]\n",
            " [ 0.28208341 -0.15570925 -0.01594719  0.15194938  0.18649659  0.08156625\n",
            "   0.07072073  0.90906831]]\n"
          ]
        }
      ]
    },
    {
      "cell_type": "code",
      "source": [
        "pc=[np.matmul(datatable,lsm[:,i].T)*-1 for i in range(2)] #getting the prinicpal components from SVD by matrix multiplication of datapoints and left singular matrix\n",
        "print('The Data on the princiapal component 1 is\\n',pc[0]) #priniting the values for pc1\n",
        "print('The Data on the princiapal component 2 is\\n',pc[1]) #priniting the values for pc2"
      ],
      "metadata": {
        "colab": {
          "base_uri": "https://localhost:8080/"
        },
        "id": "_UJhCkSpeHw1",
        "outputId": "9e0a3df1-8bb1-4b1a-d06b-f16d91deba53"
      },
      "execution_count": null,
      "outputs": [
        {
          "output_type": "stream",
          "name": "stdout",
          "text": [
            "The Data on the princiapal component 1 is\n",
            " [ 7.6755096  31.75199373 -0.94458294 27.34678604 19.0750334  13.72857093\n",
            " 16.72637632 -7.97691832]\n",
            "The Data on the princiapal component 2 is\n",
            " [ 0.26296834 -1.65051332 -0.15988455  0.47717209  1.41194923  0.31038715\n",
            " -0.00594    -0.76392022]\n"
          ]
        }
      ]
    },
    {
      "cell_type": "markdown",
      "source": [
        "From the above results we can see the matrix mutiplication with first prinicpal components are same the prinicipal components using SVD"
      ],
      "metadata": {
        "id": "jMhLk5p1sDfu"
      }
    },
    {
      "cell_type": "markdown",
      "source": [
        "We are now representating the data1 and data8 in the first principal space, which is shown below:"
      ],
      "metadata": {
        "id": "AAYCOysasbal"
      }
    },
    {
      "cell_type": "code",
      "source": [
        "data1=pc[0][0] #now getting the 1st data point from principal component 1\n",
        "data8=pc[0][7] #now getting the last data point from principal component 1\n",
        "print('The representation for data#1 and data#8 in the first principal space')\n",
        "print('data@1:',data1) #printing the 1st datapoint\n",
        "print('data@8:',data8) #printing the last data point"
      ],
      "metadata": {
        "colab": {
          "base_uri": "https://localhost:8080/"
        },
        "id": "qnGHRCDcghtn",
        "outputId": "cefd8c94-c40a-4d42-cecb-c489a72f0cc5"
      },
      "execution_count": null,
      "outputs": [
        {
          "output_type": "stream",
          "name": "stdout",
          "text": [
            "The representation for data#1 and data#8 in the first principal space\n",
            "data@1: 7.675509602046246\n",
            "data@8: -7.9769183208312455\n"
          ]
        }
      ]
    },
    {
      "cell_type": "markdown",
      "source": [
        "Now we can give the xy coordinates in the raw space reconstructed using this first principal for data1 and data8 of which is given below"
      ],
      "metadata": {
        "id": "iMJq5l6esqAe"
      }
    },
    {
      "cell_type": "code",
      "source": [
        "s=np.matrix(pc[0]).T #calcualting the X co-ordinate for the first principal component\n",
        "r=np.matrix(lsm[0])*-1 #calcualting the Y co-ordinate for the first principal component\n",
        "rec = np.matmul(s, r) #matrix mutiplication to get the XY co-ordinates\n",
        "print('The XY coordinates in the raw space reconstructed using this first principal for data1 and data8 \\n',rec)"
      ],
      "metadata": {
        "colab": {
          "base_uri": "https://localhost:8080/"
        },
        "id": "Poy3Ubt2hIY9",
        "outputId": "b64e43b8-914b-43dd-c82d-b2673274a054"
      },
      "execution_count": null,
      "outputs": [
        {
          "output_type": "stream",
          "name": "stdout",
          "text": [
            "The XY coordinates in the raw space reconstructed using this first principal for data1 and data8 \n",
            " [[ 5.32046011  5.53228269]\n",
            " [22.0096417  22.88590785]\n",
            " [-0.65475989 -0.68082774]\n",
            " [18.95606832 19.71076307]\n",
            " [13.22230831 13.74872584]\n",
            " [ 9.51628203  9.89515216]\n",
            " [11.59428138 12.05588255]\n",
            " [-5.52938866 -5.74952928]]\n"
          ]
        }
      ]
    },
    {
      "cell_type": "markdown",
      "source": [
        "Printing the values for the second principal components and also we are representating the data1 and data8 values in second princiapal space:"
      ],
      "metadata": {
        "id": "3mnAM_7fs7NA"
      }
    },
    {
      "cell_type": "code",
      "source": [
        "print('The Data on the princiapal component 2 is\\n',pc[1]) #priniting the values for pc2\n",
        "print(' ')\n",
        "data1=pc[1][0] #getting the 1st data point from principal component 2\n",
        "data8=pc[1][7] #getting the last data point from principal component 2\n",
        "print('The representation for data#1 and data#8 in the second principal space')\n",
        "print('data@1:',data1) #printing the 1 st datapoint\n",
        "print('data@8:',data8) #printing the last datapoint"
      ],
      "metadata": {
        "colab": {
          "base_uri": "https://localhost:8080/"
        },
        "id": "rk-tcGE6mFNy",
        "outputId": "fc928ff0-422a-4817-c7e8-b5a1f653eb00"
      },
      "execution_count": null,
      "outputs": [
        {
          "output_type": "stream",
          "name": "stdout",
          "text": [
            "The Data on the princiapal component 2 is\n",
            " [ 0.26296834 -1.65051332 -0.15988455  0.47717209  1.41194923  0.31038715\n",
            " -0.00594    -0.76392022]\n",
            " \n",
            "The representation for data#1 and data#8 in the second principal space\n",
            "data@1: 0.2629683420031177\n",
            "data@8: -0.763920220171455\n"
          ]
        }
      ]
    },
    {
      "cell_type": "markdown",
      "source": [
        "Now, we are calculating the reconstrucntion error, if we are using the 2 prinicpal components and with left singular matrix values"
      ],
      "metadata": {
        "id": "3K92CyPhtbdO"
      }
    },
    {
      "cell_type": "code",
      "source": [
        "s=np.array(pc).T #getting the values when using the two principal components\n",
        "r=(lsm)*-1 #getting the values with left singular matrix\n",
        "rec1 = np.matmul(s, r)  #performimg the matrix multiplications\n",
        "print(rec1) #printing the matrix"
      ],
      "metadata": {
        "colab": {
          "base_uri": "https://localhost:8080/"
        },
        "id": "KEUMbgOrnBUa",
        "outputId": "ec57a3fa-a6d7-4340-82f6-2265c35d88cc"
      },
      "execution_count": null,
      "outputs": [
        {
          "output_type": "stream",
          "name": "stdout",
          "text": [
            "[[ 5.51  5.35]\n",
            " [20.82 24.03]\n",
            " [-0.77 -0.57]\n",
            " [19.3  19.38]\n",
            " [14.24 12.77]\n",
            " [ 9.74  9.68]\n",
            " [11.59 12.06]\n",
            " [-6.08 -5.22]]\n"
          ]
        }
      ]
    },
    {
      "cell_type": "markdown",
      "source": [
        "Therefore, we are calulating error by given data with above reconstruction matrix and again we are doing the same but we are just transposing the matrix , with these matrxices we can perform the matrix multiplication and we can get the reconstruction error by taking the mean from the multiplication matrix"
      ],
      "metadata": {
        "id": "zublg1kPtuMP"
      }
    },
    {
      "cell_type": "code",
      "source": [
        "left=datatable-rec1 #calulating the matrix by sub with above matrix using all pc and raw datapoints\n",
        "rightT=(datatable-rec1).T #calulating the another matrix by sub with above rec matrix using all pc and raw datapoints and transposing the matrix\n",
        "plt.title('The points to calculate the reconstruction error')\n",
        "plt.scatter(left,rightT,color='red',marker='*') #scattering the poinnts\n",
        "error=np.matmul(left,rightT) #performing the matrix multiplication from the above matrices\n",
        "print('The error matrix is\\n',error)\n",
        "print(' ')\n",
        "print('The reconstruction error if you use two principal components to represent raw data :',np.mean(error)) #now we are getting the mean from the error matrix"
      ],
      "metadata": {
        "colab": {
          "base_uri": "https://localhost:8080/",
          "height": 624
        },
        "id": "SnjHKueqoaWf",
        "outputId": "a227603b-02cc-4603-f0f9-93552fce5cba"
      },
      "execution_count": null,
      "outputs": [
        {
          "output_type": "stream",
          "name": "stdout",
          "text": [
            "The error matrix is\n",
            " [[ 7.88860905e-31  6.31088724e-30  0.00000000e+00  3.15544362e-30\n",
            "   3.15544362e-30  0.00000000e+00  1.57772181e-30 -7.88860905e-31]\n",
            " [ 6.31088724e-30  5.04870979e-29  0.00000000e+00  2.52435490e-29\n",
            "   2.52435490e-29  0.00000000e+00  1.26217745e-29 -6.31088724e-30]\n",
            " [ 0.00000000e+00  0.00000000e+00  0.00000000e+00  0.00000000e+00\n",
            "   0.00000000e+00  0.00000000e+00  0.00000000e+00  0.00000000e+00]\n",
            " [ 3.15544362e-30  2.52435490e-29  0.00000000e+00  1.26217745e-29\n",
            "   1.26217745e-29  0.00000000e+00  6.31088724e-30 -3.15544362e-30]\n",
            " [ 3.15544362e-30  2.52435490e-29  0.00000000e+00  1.26217745e-29\n",
            "   1.57772181e-29  3.15544362e-30  6.31088724e-30 -3.15544362e-30]\n",
            " [ 0.00000000e+00  0.00000000e+00  0.00000000e+00  0.00000000e+00\n",
            "   3.15544362e-30  3.15544362e-30  0.00000000e+00  0.00000000e+00]\n",
            " [ 1.57772181e-30  1.26217745e-29  0.00000000e+00  6.31088724e-30\n",
            "   6.31088724e-30  0.00000000e+00  3.15544362e-30 -1.57772181e-30]\n",
            " [-7.88860905e-31 -6.31088724e-30  0.00000000e+00 -3.15544362e-30\n",
            "  -3.15544362e-30  0.00000000e+00 -1.57772181e-30  7.88860905e-31]]\n",
            " \n",
            "The reconstruction error if you use two principal components to represent raw data : 4.190823558986625e-30\n"
          ]
        },
        {
          "output_type": "display_data",
          "data": {
            "text/plain": [
              "<Figure size 432x288 with 1 Axes>"
            ],
            "image/png": "[encoded data removed]"
          },
          "metadata": {
            "needs_background": "light"
          }
        }
      ]
    }
  ]
}